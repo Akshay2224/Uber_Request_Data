{
  "nbformat": 4,
  "nbformat_minor": 0,
  "metadata": {
    "kernelspec": {
      "display_name": "Python 3",
      "language": "python",
      "name": "python3"
    },
    "language_info": {
      "codemirror_mode": {
        "name": "ipython",
        "version": 3
      },
      "file_extension": ".py",
      "mimetype": "text/x-python",
      "name": "python",
      "nbconvert_exporter": "python",
      "pygments_lexer": "ipython3",
      "version": "3.6.4"
    },
    "colab": {
      "name": "Uber+Case+Study+Solution.ipynb",
      "provenance": [],
      "toc_visible": true,
      "include_colab_link": true
    }
  },
  "cells": [
    {
      "cell_type": "markdown",
      "metadata": {
        "id": "view-in-github",
        "colab_type": "text"
      },
      "source": [
        "<a href=\"https://colab.research.google.com/github/Akshay2224/Uber_Request_Data/blob/master/Uber%2BCase%2BStudy%2BSolution.ipynb\" target=\"_parent\"><img src=\"https://colab.research.google.com/assets/colab-badge.svg\" alt=\"Open In Colab\"/></a>"
      ]
    },
    {
      "cell_type": "code",
      "metadata": {
        "id": "CvwhTYIWR_2P",
        "colab_type": "code",
        "colab": {}
      },
      "source": [
        "import pandas as pd\n",
        "import matplotlib.pyplot as plt\n",
        "import seaborn as sns"
      ],
      "execution_count": 0,
      "outputs": []
    },
    {
      "cell_type": "code",
      "metadata": {
        "id": "x7Tf2KIxR_2d",
        "colab_type": "code",
        "colab": {
          "base_uri": "https://localhost:8080/",
          "height": 359
        },
        "outputId": "a43f4e1e-cd1f-471c-aa6d-0113358dedf8"
      },
      "source": [
        "df = pd.read_csv(\"Uber Request Data.csv\")\n",
        "df.head(10)"
      ],
      "execution_count": 6,
      "outputs": [
        {
          "output_type": "execute_result",
          "data": {
            "text/html": [
              "<div>\n",
              "<style scoped>\n",
              "    .dataframe tbody tr th:only-of-type {\n",
              "        vertical-align: middle;\n",
              "    }\n",
              "\n",
              "    .dataframe tbody tr th {\n",
              "        vertical-align: top;\n",
              "    }\n",
              "\n",
              "    .dataframe thead th {\n",
              "        text-align: right;\n",
              "    }\n",
              "</style>\n",
              "<table border=\"1\" class=\"dataframe\">\n",
              "  <thead>\n",
              "    <tr style=\"text-align: right;\">\n",
              "      <th></th>\n",
              "      <th>Request id</th>\n",
              "      <th>Pickup point</th>\n",
              "      <th>Driver id</th>\n",
              "      <th>Status</th>\n",
              "      <th>Request timestamp</th>\n",
              "      <th>Drop timestamp</th>\n",
              "    </tr>\n",
              "  </thead>\n",
              "  <tbody>\n",
              "    <tr>\n",
              "      <th>0</th>\n",
              "      <td>619</td>\n",
              "      <td>Airport</td>\n",
              "      <td>1.0</td>\n",
              "      <td>Trip Completed</td>\n",
              "      <td>11/7/2016 11:51</td>\n",
              "      <td>11/7/2016 13:00</td>\n",
              "    </tr>\n",
              "    <tr>\n",
              "      <th>1</th>\n",
              "      <td>867</td>\n",
              "      <td>Airport</td>\n",
              "      <td>1.0</td>\n",
              "      <td>Trip Completed</td>\n",
              "      <td>11/7/2016 17:57</td>\n",
              "      <td>11/7/2016 18:47</td>\n",
              "    </tr>\n",
              "    <tr>\n",
              "      <th>2</th>\n",
              "      <td>1807</td>\n",
              "      <td>City</td>\n",
              "      <td>1.0</td>\n",
              "      <td>Trip Completed</td>\n",
              "      <td>12/7/2016 9:17</td>\n",
              "      <td>12/7/2016 9:58</td>\n",
              "    </tr>\n",
              "    <tr>\n",
              "      <th>3</th>\n",
              "      <td>2532</td>\n",
              "      <td>Airport</td>\n",
              "      <td>1.0</td>\n",
              "      <td>Trip Completed</td>\n",
              "      <td>12/7/2016 21:08</td>\n",
              "      <td>12/7/2016 22:03</td>\n",
              "    </tr>\n",
              "    <tr>\n",
              "      <th>4</th>\n",
              "      <td>3112</td>\n",
              "      <td>City</td>\n",
              "      <td>1.0</td>\n",
              "      <td>Trip Completed</td>\n",
              "      <td>13-07-2016 08:33:16</td>\n",
              "      <td>13-07-2016 09:25:47</td>\n",
              "    </tr>\n",
              "    <tr>\n",
              "      <th>5</th>\n",
              "      <td>3879</td>\n",
              "      <td>Airport</td>\n",
              "      <td>1.0</td>\n",
              "      <td>Trip Completed</td>\n",
              "      <td>13-07-2016 21:57:28</td>\n",
              "      <td>13-07-2016 22:28:59</td>\n",
              "    </tr>\n",
              "    <tr>\n",
              "      <th>6</th>\n",
              "      <td>4270</td>\n",
              "      <td>Airport</td>\n",
              "      <td>1.0</td>\n",
              "      <td>Trip Completed</td>\n",
              "      <td>14-07-2016 06:15:32</td>\n",
              "      <td>14-07-2016 07:13:15</td>\n",
              "    </tr>\n",
              "    <tr>\n",
              "      <th>7</th>\n",
              "      <td>5510</td>\n",
              "      <td>Airport</td>\n",
              "      <td>1.0</td>\n",
              "      <td>Trip Completed</td>\n",
              "      <td>15-07-2016 05:11:52</td>\n",
              "      <td>15-07-2016 06:07:52</td>\n",
              "    </tr>\n",
              "    <tr>\n",
              "      <th>8</th>\n",
              "      <td>6248</td>\n",
              "      <td>City</td>\n",
              "      <td>1.0</td>\n",
              "      <td>Trip Completed</td>\n",
              "      <td>15-07-2016 17:57:27</td>\n",
              "      <td>15-07-2016 18:50:51</td>\n",
              "    </tr>\n",
              "    <tr>\n",
              "      <th>9</th>\n",
              "      <td>267</td>\n",
              "      <td>City</td>\n",
              "      <td>2.0</td>\n",
              "      <td>Trip Completed</td>\n",
              "      <td>11/7/2016 6:46</td>\n",
              "      <td>11/7/2016 7:25</td>\n",
              "    </tr>\n",
              "  </tbody>\n",
              "</table>\n",
              "</div>"
            ],
            "text/plain": [
              "   Request id Pickup point  ...    Request timestamp       Drop timestamp\n",
              "0         619      Airport  ...      11/7/2016 11:51      11/7/2016 13:00\n",
              "1         867      Airport  ...      11/7/2016 17:57      11/7/2016 18:47\n",
              "2        1807         City  ...       12/7/2016 9:17       12/7/2016 9:58\n",
              "3        2532      Airport  ...      12/7/2016 21:08      12/7/2016 22:03\n",
              "4        3112         City  ...  13-07-2016 08:33:16  13-07-2016 09:25:47\n",
              "5        3879      Airport  ...  13-07-2016 21:57:28  13-07-2016 22:28:59\n",
              "6        4270      Airport  ...  14-07-2016 06:15:32  14-07-2016 07:13:15\n",
              "7        5510      Airport  ...  15-07-2016 05:11:52  15-07-2016 06:07:52\n",
              "8        6248         City  ...  15-07-2016 17:57:27  15-07-2016 18:50:51\n",
              "9         267         City  ...       11/7/2016 6:46       11/7/2016 7:25\n",
              "\n",
              "[10 rows x 6 columns]"
            ]
          },
          "metadata": {
            "tags": []
          },
          "execution_count": 6
        }
      ]
    },
    {
      "cell_type": "code",
      "metadata": {
        "id": "XaxNfIXOR_2n",
        "colab_type": "code",
        "colab": {
          "base_uri": "https://localhost:8080/",
          "height": 34
        },
        "outputId": "62aa03e1-676c-47c0-b003-5b97b45b4479"
      },
      "source": [
        "# make sure that number of duplicate rows are zero\n",
        "sum(df.duplicated(subset = \"Request id\")) == 0"
      ],
      "execution_count": 7,
      "outputs": [
        {
          "output_type": "execute_result",
          "data": {
            "text/plain": [
              "True"
            ]
          },
          "metadata": {
            "tags": []
          },
          "execution_count": 7
        }
      ]
    },
    {
      "cell_type": "markdown",
      "metadata": {
        "id": "BNUmCipxR_2w",
        "colab_type": "text"
      },
      "source": [
        "**let's look at the dimensions of the dataframe**"
      ]
    },
    {
      "cell_type": "code",
      "metadata": {
        "id": "yT8q_CXKR_2y",
        "colab_type": "code",
        "colab": {
          "base_uri": "https://localhost:8080/",
          "height": 34
        },
        "outputId": "286f5d73-0cd2-4d5b-fa00-2563354d65fd"
      },
      "source": [
        "df.shape"
      ],
      "execution_count": 8,
      "outputs": [
        {
          "output_type": "execute_result",
          "data": {
            "text/plain": [
              "(6745, 6)"
            ]
          },
          "metadata": {
            "tags": []
          },
          "execution_count": 8
        }
      ]
    },
    {
      "cell_type": "markdown",
      "metadata": {
        "id": "Gvek6_w7R_27",
        "colab_type": "text"
      },
      "source": [
        "**check for NA values in dataset**"
      ]
    },
    {
      "cell_type": "code",
      "metadata": {
        "id": "MZ8CV7BiR_29",
        "colab_type": "code",
        "colab": {
          "base_uri": "https://localhost:8080/",
          "height": 170
        },
        "outputId": "58f13b20-69be-44de-b7b0-ebe232f7ead1"
      },
      "source": [
        "print (df.isnull().sum())  \n",
        "print (df.isnull().values.any())\n",
        "print (df.isnull().values.sum())"
      ],
      "execution_count": 9,
      "outputs": [
        {
          "output_type": "stream",
          "text": [
            "Request id              0\n",
            "Pickup point            0\n",
            "Driver id            2650\n",
            "Status                  0\n",
            "Request timestamp       0\n",
            "Drop timestamp       3914\n",
            "dtype: int64\n",
            "True\n",
            "6564\n"
          ],
          "name": "stdout"
        }
      ]
    },
    {
      "cell_type": "markdown",
      "metadata": {
        "id": "i4wzefseR_3F",
        "colab_type": "text"
      },
      "source": [
        "**checking the % of NAs columnwise**"
      ]
    },
    {
      "cell_type": "code",
      "metadata": {
        "id": "ESN64_aoR_3H",
        "colab_type": "code",
        "colab": {
          "base_uri": "https://localhost:8080/",
          "height": 136
        },
        "outputId": "9a230e37-07b8-4685-d866-70c3aee7bed0"
      },
      "source": [
        "df.isnull().sum()*100/df.shape[0] "
      ],
      "execution_count": 10,
      "outputs": [
        {
          "output_type": "execute_result",
          "data": {
            "text/plain": [
              "Request id            0.000000\n",
              "Pickup point          0.000000\n",
              "Driver id            39.288362\n",
              "Status                0.000000\n",
              "Request timestamp     0.000000\n",
              "Drop timestamp       58.028169\n",
              "dtype: float64"
            ]
          },
          "metadata": {
            "tags": []
          },
          "execution_count": 10
        }
      ]
    },
    {
      "cell_type": "markdown",
      "metadata": {
        "id": "QzWWdSueR_3P",
        "colab_type": "text"
      },
      "source": [
        "**check for NA values in each columns except \"Driver id\" and \"Drop timestamp\" (Cross Verification)**"
      ]
    },
    {
      "cell_type": "code",
      "metadata": {
        "id": "hh37BsPCR_3Q",
        "colab_type": "code",
        "colab": {
          "base_uri": "https://localhost:8080/",
          "height": 51
        },
        "outputId": "42af1bd1-5b6b-4286-c124-fd513fce3216"
      },
      "source": [
        "print (df['Request id'].isnull().values.any()) \n",
        "print (df['Request id'].isnull().values.sum())"
      ],
      "execution_count": 11,
      "outputs": [
        {
          "output_type": "stream",
          "text": [
            "False\n",
            "0\n"
          ],
          "name": "stdout"
        }
      ]
    },
    {
      "cell_type": "code",
      "metadata": {
        "id": "054oxrtLR_3Y",
        "colab_type": "code",
        "colab": {
          "base_uri": "https://localhost:8080/",
          "height": 51
        },
        "outputId": "ed8d2e52-d42c-4ca3-c24c-d55aa62fd5a3"
      },
      "source": [
        "print (df['Pickup point'].isnull().values.any())\n",
        "print (df['Pickup point'].isnull().values.sum())"
      ],
      "execution_count": 12,
      "outputs": [
        {
          "output_type": "stream",
          "text": [
            "False\n",
            "0\n"
          ],
          "name": "stdout"
        }
      ]
    },
    {
      "cell_type": "code",
      "metadata": {
        "id": "crN8xUVXR_3g",
        "colab_type": "code",
        "colab": {
          "base_uri": "https://localhost:8080/",
          "height": 51
        },
        "outputId": "aea2e2af-84f6-4fdd-c8a8-a16e62557a84"
      },
      "source": [
        "print (df['Status'].isnull().values.any())\n",
        "print (df['Status'].isnull().values.sum())"
      ],
      "execution_count": 13,
      "outputs": [
        {
          "output_type": "stream",
          "text": [
            "False\n",
            "0\n"
          ],
          "name": "stdout"
        }
      ]
    },
    {
      "cell_type": "code",
      "metadata": {
        "id": "VYMItBoGR_3p",
        "colab_type": "code",
        "colab": {
          "base_uri": "https://localhost:8080/",
          "height": 51
        },
        "outputId": "49c3e564-6d2c-44f9-e263-80a4642aa7e3"
      },
      "source": [
        "print (df['Request timestamp'].isnull().values.any())\n",
        "print (df['Request timestamp'].isnull().values.sum())"
      ],
      "execution_count": 14,
      "outputs": [
        {
          "output_type": "stream",
          "text": [
            "False\n",
            "0\n"
          ],
          "name": "stdout"
        }
      ]
    },
    {
      "cell_type": "markdown",
      "metadata": {
        "id": "XtwgfX16R_3z",
        "colab_type": "text"
      },
      "source": [
        "**convert 'Request timestamp' column to datetime oject**"
      ]
    },
    {
      "cell_type": "code",
      "metadata": {
        "id": "SCg5pBxUR_32",
        "colab_type": "code",
        "colab": {}
      },
      "source": [
        "df[\"Request timestamp\"] = df[\"Request timestamp\"].astype(str)\n",
        "df['Request timestamp'] = df['Request timestamp'].str.replace(\"/\", \"-\")\n",
        "df['Request timestamp'] = pd.to_datetime(df[\"Request timestamp\"], dayfirst=True)"
      ],
      "execution_count": 0,
      "outputs": []
    },
    {
      "cell_type": "code",
      "metadata": {
        "id": "CVbXhNjkR_38",
        "colab_type": "code",
        "colab": {}
      },
      "source": [
        "# convert 'Drop timestamp' column to datetime oject\n",
        "df[\"Drop timestamp\"] = df[\"Drop timestamp\"].astype(str)\n",
        "df['Drop timestamp'] = df['Drop timestamp'].str.replace(\"/\", \"-\")\n",
        "df['Drop timestamp'] = pd.to_datetime(df[\"Drop timestamp\"], dayfirst=True)"
      ],
      "execution_count": 0,
      "outputs": []
    },
    {
      "cell_type": "code",
      "metadata": {
        "id": "XkaSDFlHR_4E",
        "colab_type": "code",
        "colab": {
          "base_uri": "https://localhost:8080/",
          "height": 204
        },
        "outputId": "8b393ea3-d72a-4d04-c86c-f01d32a2b15b"
      },
      "source": [
        "df.info()"
      ],
      "execution_count": 17,
      "outputs": [
        {
          "output_type": "stream",
          "text": [
            "<class 'pandas.core.frame.DataFrame'>\n",
            "RangeIndex: 6745 entries, 0 to 6744\n",
            "Data columns (total 6 columns):\n",
            "Request id           6745 non-null int64\n",
            "Pickup point         6745 non-null object\n",
            "Driver id            4095 non-null float64\n",
            "Status               6745 non-null object\n",
            "Request timestamp    6745 non-null datetime64[ns]\n",
            "Drop timestamp       2831 non-null datetime64[ns]\n",
            "dtypes: datetime64[ns](2), float64(1), int64(1), object(2)\n",
            "memory usage: 316.3+ KB\n"
          ],
          "name": "stdout"
        }
      ]
    },
    {
      "cell_type": "code",
      "metadata": {
        "id": "u3BFn9zgR_4K",
        "colab_type": "code",
        "colab": {}
      },
      "source": [
        "# extract the hour from the request time\n",
        "req_hour = df[\"Request timestamp\"].dt.hour\n",
        "req_hour.head()\n",
        "req_hour.value_counts()\n",
        "df[\"req_hour\"] = req_hour"
      ],
      "execution_count": 0,
      "outputs": []
    },
    {
      "cell_type": "code",
      "metadata": {
        "id": "fKdPBntrR_4S",
        "colab_type": "code",
        "colab": {}
      },
      "source": [
        "#extract the day from the request time\n",
        "req_day = df[\"Request timestamp\"].dt.day\n",
        "req_day.head()\n",
        "req_day.value_counts()\n",
        "df[\"req_day\"] = req_day"
      ],
      "execution_count": 0,
      "outputs": []
    },
    {
      "cell_type": "code",
      "metadata": {
        "id": "BCTqOS6VR_4a",
        "colab_type": "code",
        "colab": {
          "base_uri": "https://localhost:8080/",
          "height": 1000
        },
        "outputId": "816c2347-acdb-4cc9-e7de-9bf95c4e36c4"
      },
      "source": [
        "# factor plot of hour and day w.r.t. status\n",
        "sns.factorplot(x = \"req_hour\", hue = \"Status\", row = \"req_day\", data = df, kind = \"count\")"
      ],
      "execution_count": 20,
      "outputs": [
        {
          "output_type": "stream",
          "text": [
            "/usr/local/lib/python3.6/dist-packages/seaborn/categorical.py:3669: UserWarning: The `factorplot` function has been renamed to `catplot`. The original name will be removed in a future release. Please update your code. Note that the default `kind` in `factorplot` (`'point'`) has changed `'strip'` in `catplot`.\n",
            "  warnings.warn(msg)\n"
          ],
          "name": "stderr"
        },
        {
          "output_type": "execute_result",
          "data": {
            "text/plain": [
              "<seaborn.axisgrid.FacetGrid at 0x7f4371109470>"
            ]
          },
          "metadata": {
            "tags": []
          },
          "execution_count": 20
        },
        {
          "output_type": "display_data",
          "data": {
            "image/png": "[encoded data removed]",
            "text/plain": [
              "<Figure size 484.125x1800 with 5 Axes>"
            ]
          },
          "metadata": {
            "tags": []
          }
        }
      ]
    },
    {
      "cell_type": "code",
      "metadata": {
        "id": "FmVkLt7hR_4e",
        "colab_type": "code",
        "colab": {
          "base_uri": "https://localhost:8080/",
          "height": 1000
        },
        "outputId": "194473b5-f4d1-47e3-878e-21eb67b480ce"
      },
      "source": [
        "# factor plot of hour and day w.r.t. pickup point\n",
        "sns.factorplot(x = \"req_hour\", hue = \"Pickup point\", row = \"req_day\", data = df, kind = \"count\")"
      ],
      "execution_count": 21,
      "outputs": [
        {
          "output_type": "stream",
          "text": [
            "/usr/local/lib/python3.6/dist-packages/seaborn/categorical.py:3669: UserWarning: The `factorplot` function has been renamed to `catplot`. The original name will be removed in a future release. Please update your code. Note that the default `kind` in `factorplot` (`'point'`) has changed `'strip'` in `catplot`.\n",
            "  warnings.warn(msg)\n"
          ],
          "name": "stderr"
        },
        {
          "output_type": "execute_result",
          "data": {
            "text/plain": [
              "<seaborn.axisgrid.FacetGrid at 0x7f4371167828>"
            ]
          },
          "metadata": {
            "tags": []
          },
          "execution_count": 21
        },
        {
          "output_type": "display_data",
          "data": {
            "image/png": "[encoded data removed]",
            "text/plain": [
              "<Figure size 430.125x1800 with 5 Axes>"
            ]
          },
          "metadata": {
            "tags": []
          }
        }
      ]
    },
    {
      "cell_type": "code",
      "metadata": {
        "id": "mqReGkxUR_4l",
        "colab_type": "code",
        "colab": {
          "base_uri": "https://localhost:8080/",
          "height": 440
        },
        "outputId": "047a6167-0581-451a-8ea4-2116ff8cec6f"
      },
      "source": [
        "# aggregate count plot for all days w.r.t. to Pickup point\n",
        "sns.factorplot(x = \"req_hour\", hue = \"Pickup point\", data = df, kind = \"count\")"
      ],
      "execution_count": 22,
      "outputs": [
        {
          "output_type": "stream",
          "text": [
            "/usr/local/lib/python3.6/dist-packages/seaborn/categorical.py:3669: UserWarning: The `factorplot` function has been renamed to `catplot`. The original name will be removed in a future release. Please update your code. Note that the default `kind` in `factorplot` (`'point'`) has changed `'strip'` in `catplot`.\n",
            "  warnings.warn(msg)\n"
          ],
          "name": "stderr"
        },
        {
          "output_type": "execute_result",
          "data": {
            "text/plain": [
              "<seaborn.axisgrid.FacetGrid at 0x7f436d399f98>"
            ]
          },
          "metadata": {
            "tags": []
          },
          "execution_count": 22
        },
        {
          "output_type": "display_data",
          "data": {
            "image/png": "[encoded data removed]",
            "text/plain": [
              "<Figure size 430.125x360 with 1 Axes>"
            ]
          },
          "metadata": {
            "tags": []
          }
        }
      ]
    },
    {
      "cell_type": "code",
      "metadata": {
        "id": "zlkENKN1R_4p",
        "colab_type": "code",
        "colab": {}
      },
      "source": [
        "# creating a time slot for various time period of day\n",
        "def time_period(x):\n",
        "    'divide the time of the day into four categories'\n",
        "    if x < 5:\n",
        "        return \"Pre_Morning\"\n",
        "    elif 5 <= x < 10:\n",
        "        return \"Morning_Rush\"\n",
        "    elif 10 <= x < 17:\n",
        "        return \"Day_Time\"\n",
        "    elif 17 <= x < 22:\n",
        "        return \"Evening_Rush\"\n",
        "    else:\n",
        "        return \"Late_Night\"\n",
        "\n",
        "df['time_slot'] = df.req_hour.apply(lambda x: time_period(x))"
      ],
      "execution_count": 0,
      "outputs": []
    },
    {
      "cell_type": "code",
      "metadata": {
        "id": "T886kviIR_4x",
        "colab_type": "code",
        "colab": {
          "base_uri": "https://localhost:8080/",
          "height": 119
        },
        "outputId": "16d1a35f-83a4-437a-d96f-d375530df28e"
      },
      "source": [
        "df.time_slot.value_counts()"
      ],
      "execution_count": 24,
      "outputs": [
        {
          "output_type": "execute_result",
          "data": {
            "text/plain": [
              "Evening_Rush    2342\n",
              "Morning_Rush    2103\n",
              "Day_Time        1224\n",
              "Pre_Morning      578\n",
              "Late_Night       498\n",
              "Name: time_slot, dtype: int64"
            ]
          },
          "metadata": {
            "tags": []
          },
          "execution_count": 24
        }
      ]
    },
    {
      "cell_type": "code",
      "metadata": {
        "id": "FO5RKU67R_45",
        "colab_type": "code",
        "colab": {
          "base_uri": "https://localhost:8080/",
          "height": 187
        },
        "outputId": "e3df37ce-f42a-4697-bcfa-29f61534b025"
      },
      "source": [
        "# another way to look at the trips made in each time slot\n",
        "Pre_Morning = print (df.time_slot[df.time_slot == \"Pre_Morning\"].value_counts())\n",
        "Morning_Rush = print (df.time_slot[df.time_slot == \"Morning_Rush\"].value_counts())\n",
        "Day_Time = print (df.time_slot[df.time_slot == \"Day_Time\"].value_counts())\n",
        "Evening_Rush = print (df.time_slot[df.time_slot == \"Evening_Rush\"].value_counts())\n",
        "Late_Night = print (df.time_slot[df.time_slot == \"Late_Night\"].value_counts())"
      ],
      "execution_count": 25,
      "outputs": [
        {
          "output_type": "stream",
          "text": [
            "Pre_Morning    578\n",
            "Name: time_slot, dtype: int64\n",
            "Morning_Rush    2103\n",
            "Name: time_slot, dtype: int64\n",
            "Day_Time    1224\n",
            "Name: time_slot, dtype: int64\n",
            "Evening_Rush    2342\n",
            "Name: time_slot, dtype: int64\n",
            "Late_Night    498\n",
            "Name: time_slot, dtype: int64\n"
          ],
          "name": "stdout"
        }
      ]
    },
    {
      "cell_type": "code",
      "metadata": {
        "id": "E7xwvdRUR_4-",
        "colab_type": "code",
        "colab": {
          "base_uri": "https://localhost:8080/",
          "height": 298
        },
        "outputId": "953bf014-766b-4e0a-9ff3-2ca6b48801b8"
      },
      "source": [
        "# plot time slot w.r.t. status and identify the most critical problems before Uber\n",
        "sns.countplot(x = \"time_slot\", hue = \"Status\", data = df)"
      ],
      "execution_count": 26,
      "outputs": [
        {
          "output_type": "execute_result",
          "data": {
            "text/plain": [
              "<matplotlib.axes._subplots.AxesSubplot at 0x7f436c4f2710>"
            ]
          },
          "metadata": {
            "tags": []
          },
          "execution_count": 26
        },
        {
          "output_type": "display_data",
          "data": {
            "image/png": "[encoded data removed]",
            "text/plain": [
              "<Figure size 432x288 with 1 Axes>"
            ]
          },
          "metadata": {
            "tags": []
          }
        }
      ]
    },
    {
      "cell_type": "code",
      "metadata": {
        "id": "fQ34Ng60R_5E",
        "colab_type": "code",
        "colab": {
          "base_uri": "https://localhost:8080/",
          "height": 296
        },
        "outputId": "140f14e1-3fbf-4b0b-beb2-905ac8307a6a"
      },
      "source": [
        "# as you can see in the above plot the higest number of cancellations are in the \"Morning Rush\" time slot\n",
        "df_morning_rush = df[df.time_slot == \"Morning_Rush\"]\n",
        "sns.countplot(x = \"Pickup point\", hue = \"Status\", data = df_morning_rush)"
      ],
      "execution_count": 27,
      "outputs": [
        {
          "output_type": "execute_result",
          "data": {
            "text/plain": [
              "<matplotlib.axes._subplots.AxesSubplot at 0x7f436c478ef0>"
            ]
          },
          "metadata": {
            "tags": []
          },
          "execution_count": 27
        },
        {
          "output_type": "display_data",
          "data": {
            "image/png": "[encoded data removed]",
            "text/plain": [
              "<Figure size 432x288 with 1 Axes>"
            ]
          },
          "metadata": {
            "tags": []
          }
        }
      ]
    },
    {
      "cell_type": "code",
      "metadata": {
        "id": "Ay0wPAzER_5K",
        "colab_type": "code",
        "colab": {
          "base_uri": "https://localhost:8080/",
          "height": 34
        },
        "outputId": "6d2bc4e9-81ce-468b-a629-701cbba8f805"
      },
      "source": [
        "# severity of problem by location and their count (cancellation of cab as per the pickup location @Morning Rush)\n",
        "df_airport_cancelled  = df_morning_rush.loc[(df_morning_rush[\"Pickup point\"] == \"Airport\") & (df_morning_rush[\"Status\"] == \"Cancelled\")]\n",
        "len(df_airport_cancelled.index)\n"
      ],
      "execution_count": 28,
      "outputs": [
        {
          "output_type": "execute_result",
          "data": {
            "text/plain": [
              "23"
            ]
          },
          "metadata": {
            "tags": []
          },
          "execution_count": 28
        }
      ]
    },
    {
      "cell_type": "code",
      "metadata": {
        "id": "X71r0YPiR_5P",
        "colab_type": "code",
        "colab": {
          "base_uri": "https://localhost:8080/",
          "height": 34
        },
        "outputId": "7ee764ff-ca48-4fc5-fa73-81c35ce5c418"
      },
      "source": [
        "df_city_cancelled = df_morning_rush.loc[(df_morning_rush[\"Pickup point\"] == \"City\") & (df_morning_rush[\"Status\"] == \"Cancelled\")]\n",
        "len(df_city_cancelled.index)"
      ],
      "execution_count": 29,
      "outputs": [
        {
          "output_type": "execute_result",
          "data": {
            "text/plain": [
              "820"
            ]
          },
          "metadata": {
            "tags": []
          },
          "execution_count": 29
        }
      ]
    },
    {
      "cell_type": "code",
      "metadata": {
        "id": "xbpEG2paR_5W",
        "colab_type": "code",
        "colab": {
          "base_uri": "https://localhost:8080/",
          "height": 34
        },
        "outputId": "ebd3e99f-5620-4310-cfce-4ce7bda25301"
      },
      "source": [
        "# let's look at the supply and demand in morning rush hour in the city\n",
        "df_city_completed_morning_rush = df_morning_rush.loc[(df_morning_rush[\"Pickup point\"] == \"City\") & (df_morning_rush[\"Status\"] == \"Trip Completed\")]\n",
        "len(df_city_completed_morning_rush.index)"
      ],
      "execution_count": 30,
      "outputs": [
        {
          "output_type": "execute_result",
          "data": {
            "text/plain": [
              "472"
            ]
          },
          "metadata": {
            "tags": []
          },
          "execution_count": 30
        }
      ]
    },
    {
      "cell_type": "code",
      "metadata": {
        "id": "6jY_rHreR_5c",
        "colab_type": "code",
        "colab": {
          "base_uri": "https://localhost:8080/",
          "height": 34
        },
        "outputId": "d2dbe336-9522-4620-ebaa-0bcc9ad1d93a"
      },
      "source": [
        "df_city_morning_rush  = df_morning_rush.loc[(df_morning_rush[\"Pickup point\"] == \"City\")]\n",
        "len(df_city_morning_rush.index)"
      ],
      "execution_count": 31,
      "outputs": [
        {
          "output_type": "execute_result",
          "data": {
            "text/plain": [
              "1677"
            ]
          },
          "metadata": {
            "tags": []
          },
          "execution_count": 31
        }
      ]
    },
    {
      "cell_type": "code",
      "metadata": {
        "id": "NQPekkdtR_5g",
        "colab_type": "code",
        "colab": {
          "base_uri": "https://localhost:8080/",
          "height": 34
        },
        "outputId": "63d4a51e-d0c9-4c11-afa3-486b3de55c4f"
      },
      "source": [
        "# let's look at the supply and demand in morning rush hour at the airport\n",
        "df_airport_completed_morning_rush = df_morning_rush.loc[(df_morning_rush[\"Pickup point\"] == \"Airport\") & (df_morning_rush[\"Status\"] == \"Trip Completed\")]\n",
        "len(df_airport_completed_morning_rush.index)"
      ],
      "execution_count": 32,
      "outputs": [
        {
          "output_type": "execute_result",
          "data": {
            "text/plain": [
              "382"
            ]
          },
          "metadata": {
            "tags": []
          },
          "execution_count": 32
        }
      ]
    },
    {
      "cell_type": "code",
      "metadata": {
        "id": "VWYUXQaWR_5q",
        "colab_type": "code",
        "colab": {
          "base_uri": "https://localhost:8080/",
          "height": 34
        },
        "outputId": "2a99bd4f-4b55-45d0-ec55-eca3153704f3"
      },
      "source": [
        "df_airport_morning_rush  = df_morning_rush.loc[(df_morning_rush[\"Pickup point\"] == \"Airport\")]\n",
        "len(df_airport_morning_rush.index)"
      ],
      "execution_count": 33,
      "outputs": [
        {
          "output_type": "execute_result",
          "data": {
            "text/plain": [
              "426"
            ]
          },
          "metadata": {
            "tags": []
          },
          "execution_count": 33
        }
      ]
    },
    {
      "cell_type": "code",
      "metadata": {
        "id": "u7AostQcR_5w",
        "colab_type": "code",
        "colab": {
          "base_uri": "https://localhost:8080/",
          "height": 296
        },
        "outputId": "557a6d75-86a6-4c96-9ff4-7183e133cff4"
      },
      "source": [
        "# let's look at the supply and demand in evening rush hour\n",
        "df_evening_rush = df[df.time_slot == \"Evening_Rush\"]\n",
        "sns.countplot(x = \"Pickup point\", hue = \"Status\", data = df_evening_rush)"
      ],
      "execution_count": 34,
      "outputs": [
        {
          "output_type": "execute_result",
          "data": {
            "text/plain": [
              "<matplotlib.axes._subplots.AxesSubplot at 0x7f436c3a75f8>"
            ]
          },
          "metadata": {
            "tags": []
          },
          "execution_count": 34
        },
        {
          "output_type": "display_data",
          "data": {
            "image/png": "[encoded data removed]",
            "text/plain": [
              "<Figure size 432x288 with 1 Axes>"
            ]
          },
          "metadata": {
            "tags": []
          }
        }
      ]
    },
    {
      "cell_type": "code",
      "metadata": {
        "id": "T1Jhk9FYR_53",
        "colab_type": "code",
        "colab": {
          "base_uri": "https://localhost:8080/",
          "height": 34
        },
        "outputId": "28a22238-a1d1-4c77-f9d2-7b6667157897"
      },
      "source": [
        "# let's look at the supply and demand in evening rush hour in the city\n",
        "df_city_completed_evening_rush = df_evening_rush.loc[(df_evening_rush[\"Pickup point\"] == \"City\") & (df_evening_rush[\"Status\"] == \"Trip Completed\")]\n",
        "len(df_city_completed_evening_rush.index)"
      ],
      "execution_count": 35,
      "outputs": [
        {
          "output_type": "execute_result",
          "data": {
            "text/plain": [
              "411"
            ]
          },
          "metadata": {
            "tags": []
          },
          "execution_count": 35
        }
      ]
    },
    {
      "cell_type": "code",
      "metadata": {
        "id": "2g3xNoFmR_5-",
        "colab_type": "code",
        "colab": {
          "base_uri": "https://localhost:8080/",
          "height": 34
        },
        "outputId": "18f2b6e2-d658-4949-8be3-8dcdd82e09bb"
      },
      "source": [
        "df_city_evening_rush  = df_evening_rush.loc[(df_evening_rush[\"Pickup point\"] == \"City\")]\n",
        "len(df_city_evening_rush.index)"
      ],
      "execution_count": 36,
      "outputs": [
        {
          "output_type": "execute_result",
          "data": {
            "text/plain": [
              "542"
            ]
          },
          "metadata": {
            "tags": []
          },
          "execution_count": 36
        }
      ]
    },
    {
      "cell_type": "code",
      "metadata": {
        "id": "xquw_Qa-R_6E",
        "colab_type": "code",
        "colab": {
          "base_uri": "https://localhost:8080/",
          "height": 34
        },
        "outputId": "38a03fa1-0e0e-47d4-fb58-ea7febc3cb77"
      },
      "source": [
        "# let's look at the supply and demand in evening rush hour from the airport\n",
        "df_airport_completed_evening_rush = df_evening_rush.loc[(df_evening_rush[\"Pickup point\"] == \"Airport\") & (df_evening_rush[\"Status\"] == \"Trip Completed\")]\n",
        "len(df_airport_completed_evening_rush.index)"
      ],
      "execution_count": 37,
      "outputs": [
        {
          "output_type": "execute_result",
          "data": {
            "text/plain": [
              "373"
            ]
          },
          "metadata": {
            "tags": []
          },
          "execution_count": 37
        }
      ]
    },
    {
      "cell_type": "code",
      "metadata": {
        "id": "k-X6wnT0R_6L",
        "colab_type": "code",
        "colab": {
          "base_uri": "https://localhost:8080/",
          "height": 34
        },
        "outputId": "c702e51f-72e6-4a7d-9b9e-db25803fd27c"
      },
      "source": [
        "df_airport_evening_rush  = df_evening_rush.loc[(df_evening_rush[\"Pickup point\"] == \"Airport\")]\n",
        "len(df_airport_evening_rush.index)"
      ],
      "execution_count": 38,
      "outputs": [
        {
          "output_type": "execute_result",
          "data": {
            "text/plain": [
              "1800"
            ]
          },
          "metadata": {
            "tags": []
          },
          "execution_count": 38
        }
      ]
    },
    {
      "cell_type": "code",
      "metadata": {
        "id": "93ObsjHsR_6b",
        "colab_type": "code",
        "colab": {
          "base_uri": "https://localhost:8080/",
          "height": 34
        },
        "outputId": "06a6969c-d9fb-406e-ecc5-d9537a2201b2"
      },
      "source": [
        "# let's look at the severity problem (of demand and supply) at each location by looking at cancellation of cab in each of the pickup location in evening rush\n",
        "df_airport_cancelled_evening_rush  = df_evening_rush.loc[(df_evening_rush[\"Pickup point\"] == \"Airport\") & (df_evening_rush[\"Status\"] == \"Cancelled\")]\n",
        "len(df_airport_cancelled_evening_rush.index)"
      ],
      "execution_count": 39,
      "outputs": [
        {
          "output_type": "execute_result",
          "data": {
            "text/plain": [
              "106"
            ]
          },
          "metadata": {
            "tags": []
          },
          "execution_count": 39
        }
      ]
    },
    {
      "cell_type": "code",
      "metadata": {
        "id": "V-Co-LBER_6k",
        "colab_type": "code",
        "colab": {
          "base_uri": "https://localhost:8080/",
          "height": 34
        },
        "outputId": "8d2c8d6c-c669-4bd5-c48c-5b221f969605"
      },
      "source": [
        "df_city_cancelled_evening_rush = df_evening_rush.loc[(df_evening_rush[\"Pickup point\"] == \"City\") & (df_evening_rush[\"Status\"] == \"Cancelled\")]\n",
        "len(df_city_cancelled_evening_rush.index)"
      ],
      "execution_count": 40,
      "outputs": [
        {
          "output_type": "execute_result",
          "data": {
            "text/plain": [
              "60"
            ]
          },
          "metadata": {
            "tags": []
          },
          "execution_count": 40
        }
      ]
    },
    {
      "cell_type": "code",
      "metadata": {
        "id": "CwAX6l_8R_60",
        "colab_type": "code",
        "colab": {
          "base_uri": "https://localhost:8080/",
          "height": 34
        },
        "outputId": "83f672df-0c39-4c7a-814a-ba5c8e18001b"
      },
      "source": [
        "# severity of problem by location in Morning Rush (Unavailability of Cars)\n",
        "df_airport_unavailable_morning_rush  = df_morning_rush.loc[(df_morning_rush[\"Pickup point\"] == \"Airport\") & (df_morning_rush[\"Status\"] == \"No Cars Available\")]\n",
        "len(df_airport_unavailable_morning_rush.index)"
      ],
      "execution_count": 41,
      "outputs": [
        {
          "output_type": "execute_result",
          "data": {
            "text/plain": [
              "21"
            ]
          },
          "metadata": {
            "tags": []
          },
          "execution_count": 41
        }
      ]
    },
    {
      "cell_type": "code",
      "metadata": {
        "id": "E0cGrZHhR_7N",
        "colab_type": "code",
        "colab": {
          "base_uri": "https://localhost:8080/",
          "height": 34
        },
        "outputId": "8967f6d0-ab89-4540-bfd0-48917819cce4"
      },
      "source": [
        "df_city_unavailable_morning_rush  = df_morning_rush.loc[(df_morning_rush[\"Pickup point\"] == \"City\") & (df_morning_rush[\"Status\"] == \"No Cars Available\")]\n",
        "len(df_city_unavailable_morning_rush.index)"
      ],
      "execution_count": 42,
      "outputs": [
        {
          "output_type": "execute_result",
          "data": {
            "text/plain": [
              "385"
            ]
          },
          "metadata": {
            "tags": []
          },
          "execution_count": 42
        }
      ]
    },
    {
      "cell_type": "code",
      "metadata": {
        "id": "htdkcNFpR_7S",
        "colab_type": "code",
        "colab": {
          "base_uri": "https://localhost:8080/",
          "height": 34
        },
        "outputId": "091c755a-0284-4376-ef16-5ea25bae438d"
      },
      "source": [
        "# severity of problem by location in Evening Rush (Unavailability of Cars)\n",
        "df_airport_unavailable_evening_rush  = df_evening_rush.loc[(df_evening_rush[\"Pickup point\"] == \"Airport\") & (df_evening_rush[\"Status\"] == \"No Cars Available\")]\n",
        "len(df_airport_unavailable_evening_rush.index)"
      ],
      "execution_count": 43,
      "outputs": [
        {
          "output_type": "execute_result",
          "data": {
            "text/plain": [
              "1321"
            ]
          },
          "metadata": {
            "tags": []
          },
          "execution_count": 43
        }
      ]
    },
    {
      "cell_type": "code",
      "metadata": {
        "id": "gMjmJPaAR_7d",
        "colab_type": "code",
        "colab": {
          "base_uri": "https://localhost:8080/",
          "height": 34
        },
        "outputId": "77e1b41d-5e66-42df-fffc-4f0f62119e00"
      },
      "source": [
        "df_city_unavailable_evening_rush  = df_evening_rush.loc[(df_evening_rush[\"Pickup point\"] == \"City\") & (df_evening_rush[\"Status\"] == \"No Cars Available\")]\n",
        "len(df_city_unavailable_evening_rush.index)"
      ],
      "execution_count": 44,
      "outputs": [
        {
          "output_type": "execute_result",
          "data": {
            "text/plain": [
              "71"
            ]
          },
          "metadata": {
            "tags": []
          },
          "execution_count": 44
        }
      ]
    },
    {
      "cell_type": "code",
      "metadata": {
        "id": "L3FlwXeaR_7l",
        "colab_type": "code",
        "colab": {}
      },
      "source": [
        "# Let's create pie charts instead of a count plots\n",
        "def pie_chart(dataframe):\n",
        "    \"\"\"\n",
        "    creates a pie chart\n",
        "    input: dataframe with a 'category' as index and a numerical column\n",
        "    output: pie chart\n",
        "    \"\"\"\n",
        "    labels = dataframe.index.values\n",
        "    sizes = dataframe['Status'].values\n",
        "        \n",
        "    fig1, ax1 = plt.subplots()\n",
        "    ax1.pie(sizes, labels=labels, autopct='%1.1f%%', shadow=True, startangle=90)\n",
        "    ax1.axis('equal')  # Equal aspect ratio ensures that pie is drawn as a circle.\n",
        "    plt.show()"
      ],
      "execution_count": 0,
      "outputs": []
    },
    {
      "cell_type": "code",
      "metadata": {
        "id": "s8or80UnR_7u",
        "colab_type": "code",
        "colab": {
          "base_uri": "https://localhost:8080/",
          "height": 248
        },
        "outputId": "d7137fcb-6878-4bf6-f08e-cceb723e48e8"
      },
      "source": [
        "# percentage breakup of status on the basis of pickup location\n",
        "# Status of trips @ Morning Rush where pickup point is City\n",
        "df_city = df.loc[(df[\"Pickup point\"] == \"City\") & (df.time_slot == \"Morning_Rush\")]\n",
        "df_city_count = pd.DataFrame(df_city.Status.value_counts())\n",
        "pie_chart(df_city_count)"
      ],
      "execution_count": 46,
      "outputs": [
        {
          "output_type": "display_data",
          "data": {
            "image/png": "[encoded data removed]",
            "text/plain": [
              "<Figure size 432x288 with 1 Axes>"
            ]
          },
          "metadata": {
            "tags": []
          }
        }
      ]
    },
    {
      "cell_type": "code",
      "metadata": {
        "id": "KlBTZhSaR_7z",
        "colab_type": "code",
        "colab": {
          "base_uri": "https://localhost:8080/",
          "height": 251
        },
        "outputId": "6fffd9df-9dc5-4ffe-aa39-2f7e9079ecb7"
      },
      "source": [
        "# Status of trips @ Evening Rush where pickup point is Airport\n",
        "df_airport = df.loc[(df[\"Pickup point\"] == \"Airport\") & (df.time_slot == \"Evening_Rush\")] \n",
        "df_airport_count = pd.DataFrame(df_airport.Status.value_counts())\n",
        "pie_chart(df_airport_count)"
      ],
      "execution_count": 47,
      "outputs": [
        {
          "output_type": "display_data",
          "data": {
            "image/png": "[encoded data removed]",
            "text/plain": [
              "<Figure size 432x288 with 1 Axes>"
            ]
          },
          "metadata": {
            "tags": []
          }
        }
      ]
    }
  ]
}