{
  "nbformat": 4,
  "nbformat_minor": 0,
  "metadata": {
    "kernelspec": {
      "display_name": "Python 3",
      "language": "python",
      "name": "python3"
    },
    "language_info": {
      "codemirror_mode": {
        "name": "ipython",
        "version": 3
      },
      "file_extension": ".py",
      "mimetype": "text/x-python",
      "name": "python",
      "nbconvert_exporter": "python",
      "pygments_lexer": "ipython3",
      "version": "3.6.4"
    },
    "colab": {
      "name": "Uber+Case+Study+Solution.ipynb",
      "provenance": [],
      "include_colab_link": true
    }
  },
  "cells": [
    {
      "cell_type": "markdown",
      "metadata": {
        "id": "view-in-github",
        "colab_type": "text"
      },
      "source": [
        "<a href=\"https://colab.research.google.com/github/Akshay2224/Uber_Request_Data/blob/master/Uber%2BCase%2BStudy%2BSolution.ipynb\" target=\"_parent\"><img src=\"https://colab.research.google.com/assets/colab-badge.svg\" alt=\"Open In Colab\"/></a>"
      ]
    },
    {
      "cell_type": "code",
      "metadata": {
        "id": "CvwhTYIWR_2P",
        "colab_type": "code",
        "colab": {}
      },
      "source": [
        "import pandas as pd\n",
        "import matplotlib.pyplot as plt\n",
        "import seaborn as sns"
      ],
      "execution_count": 0,
      "outputs": []
    },
    {
      "cell_type": "code",
      "metadata": {
        "id": "x7Tf2KIxR_2d",
        "colab_type": "code",
        "colab": {
          "base_uri": "https://localhost:8080/",
          "height": 391
        },
        "outputId": "bbac711d-7ebc-4390-ccdf-de4093eae387"
      },
      "source": [
        "df = pd.read_csv(\"Uber Request Data.csv\")\n",
        "df.head(10)"
      ],
      "execution_count": 2,
      "outputs": [
        {
          "output_type": "error",
          "ename": "FileNotFoundError",
          "evalue": "ignored",
          "traceback": [
            "\u001b[0;31m---------------------------------------------------------------------------\u001b[0m",
            "\u001b[0;31mFileNotFoundError\u001b[0m                         Traceback (most recent call last)",
            "\u001b[0;32m<ipython-input-2-4974a9514d79>\u001b[0m in \u001b[0;36m<module>\u001b[0;34m()\u001b[0m\n\u001b[0;32m----> 1\u001b[0;31m \u001b[0mdf\u001b[0m \u001b[0;34m=\u001b[0m \u001b[0mpd\u001b[0m\u001b[0;34m.\u001b[0m\u001b[0mread_csv\u001b[0m\u001b[0;34m(\u001b[0m\u001b[0;34m\"Uber Request Data.csv\"\u001b[0m\u001b[0;34m)\u001b[0m\u001b[0;34m\u001b[0m\u001b[0;34m\u001b[0m\u001b[0m\n\u001b[0m\u001b[1;32m      2\u001b[0m \u001b[0mdf\u001b[0m\u001b[0;34m.\u001b[0m\u001b[0mhead\u001b[0m\u001b[0;34m(\u001b[0m\u001b[0;36m10\u001b[0m\u001b[0;34m)\u001b[0m\u001b[0;34m\u001b[0m\u001b[0;34m\u001b[0m\u001b[0m\n",
            "\u001b[0;32m/usr/local/lib/python3.6/dist-packages/pandas/io/parsers.py\u001b[0m in \u001b[0;36mparser_f\u001b[0;34m(filepath_or_buffer, sep, delimiter, header, names, index_col, usecols, squeeze, prefix, mangle_dupe_cols, dtype, engine, converters, true_values, false_values, skipinitialspace, skiprows, skipfooter, nrows, na_values, keep_default_na, na_filter, verbose, skip_blank_lines, parse_dates, infer_datetime_format, keep_date_col, date_parser, dayfirst, cache_dates, iterator, chunksize, compression, thousands, decimal, lineterminator, quotechar, quoting, doublequote, escapechar, comment, encoding, dialect, error_bad_lines, warn_bad_lines, delim_whitespace, low_memory, memory_map, float_precision)\u001b[0m\n\u001b[1;32m    683\u001b[0m         )\n\u001b[1;32m    684\u001b[0m \u001b[0;34m\u001b[0m\u001b[0m\n\u001b[0;32m--> 685\u001b[0;31m         \u001b[0;32mreturn\u001b[0m \u001b[0m_read\u001b[0m\u001b[0;34m(\u001b[0m\u001b[0mfilepath_or_buffer\u001b[0m\u001b[0;34m,\u001b[0m \u001b[0mkwds\u001b[0m\u001b[0;34m)\u001b[0m\u001b[0;34m\u001b[0m\u001b[0;34m\u001b[0m\u001b[0m\n\u001b[0m\u001b[1;32m    686\u001b[0m \u001b[0;34m\u001b[0m\u001b[0m\n\u001b[1;32m    687\u001b[0m     \u001b[0mparser_f\u001b[0m\u001b[0;34m.\u001b[0m\u001b[0m__name__\u001b[0m \u001b[0;34m=\u001b[0m \u001b[0mname\u001b[0m\u001b[0;34m\u001b[0m\u001b[0;34m\u001b[0m\u001b[0m\n",
            "\u001b[0;32m/usr/local/lib/python3.6/dist-packages/pandas/io/parsers.py\u001b[0m in \u001b[0;36m_read\u001b[0;34m(filepath_or_buffer, kwds)\u001b[0m\n\u001b[1;32m    455\u001b[0m \u001b[0;34m\u001b[0m\u001b[0m\n\u001b[1;32m    456\u001b[0m     \u001b[0;31m# Create the parser.\u001b[0m\u001b[0;34m\u001b[0m\u001b[0;34m\u001b[0m\u001b[0;34m\u001b[0m\u001b[0m\n\u001b[0;32m--> 457\u001b[0;31m     \u001b[0mparser\u001b[0m \u001b[0;34m=\u001b[0m \u001b[0mTextFileReader\u001b[0m\u001b[0;34m(\u001b[0m\u001b[0mfp_or_buf\u001b[0m\u001b[0;34m,\u001b[0m \u001b[0;34m**\u001b[0m\u001b[0mkwds\u001b[0m\u001b[0;34m)\u001b[0m\u001b[0;34m\u001b[0m\u001b[0;34m\u001b[0m\u001b[0m\n\u001b[0m\u001b[1;32m    458\u001b[0m \u001b[0;34m\u001b[0m\u001b[0m\n\u001b[1;32m    459\u001b[0m     \u001b[0;32mif\u001b[0m \u001b[0mchunksize\u001b[0m \u001b[0;32mor\u001b[0m \u001b[0miterator\u001b[0m\u001b[0;34m:\u001b[0m\u001b[0;34m\u001b[0m\u001b[0;34m\u001b[0m\u001b[0m\n",
            "\u001b[0;32m/usr/local/lib/python3.6/dist-packages/pandas/io/parsers.py\u001b[0m in \u001b[0;36m__init__\u001b[0;34m(self, f, engine, **kwds)\u001b[0m\n\u001b[1;32m    893\u001b[0m             \u001b[0mself\u001b[0m\u001b[0;34m.\u001b[0m\u001b[0moptions\u001b[0m\u001b[0;34m[\u001b[0m\u001b[0;34m\"has_index_names\"\u001b[0m\u001b[0;34m]\u001b[0m \u001b[0;34m=\u001b[0m \u001b[0mkwds\u001b[0m\u001b[0;34m[\u001b[0m\u001b[0;34m\"has_index_names\"\u001b[0m\u001b[0;34m]\u001b[0m\u001b[0;34m\u001b[0m\u001b[0;34m\u001b[0m\u001b[0m\n\u001b[1;32m    894\u001b[0m \u001b[0;34m\u001b[0m\u001b[0m\n\u001b[0;32m--> 895\u001b[0;31m         \u001b[0mself\u001b[0m\u001b[0;34m.\u001b[0m\u001b[0m_make_engine\u001b[0m\u001b[0;34m(\u001b[0m\u001b[0mself\u001b[0m\u001b[0;34m.\u001b[0m\u001b[0mengine\u001b[0m\u001b[0;34m)\u001b[0m\u001b[0;34m\u001b[0m\u001b[0;34m\u001b[0m\u001b[0m\n\u001b[0m\u001b[1;32m    896\u001b[0m \u001b[0;34m\u001b[0m\u001b[0m\n\u001b[1;32m    897\u001b[0m     \u001b[0;32mdef\u001b[0m \u001b[0mclose\u001b[0m\u001b[0;34m(\u001b[0m\u001b[0mself\u001b[0m\u001b[0;34m)\u001b[0m\u001b[0;34m:\u001b[0m\u001b[0;34m\u001b[0m\u001b[0;34m\u001b[0m\u001b[0m\n",
            "\u001b[0;32m/usr/local/lib/python3.6/dist-packages/pandas/io/parsers.py\u001b[0m in \u001b[0;36m_make_engine\u001b[0;34m(self, engine)\u001b[0m\n\u001b[1;32m   1133\u001b[0m     \u001b[0;32mdef\u001b[0m \u001b[0m_make_engine\u001b[0m\u001b[0;34m(\u001b[0m\u001b[0mself\u001b[0m\u001b[0;34m,\u001b[0m \u001b[0mengine\u001b[0m\u001b[0;34m=\u001b[0m\u001b[0;34m\"c\"\u001b[0m\u001b[0;34m)\u001b[0m\u001b[0;34m:\u001b[0m\u001b[0;34m\u001b[0m\u001b[0;34m\u001b[0m\u001b[0m\n\u001b[1;32m   1134\u001b[0m         \u001b[0;32mif\u001b[0m \u001b[0mengine\u001b[0m \u001b[0;34m==\u001b[0m \u001b[0;34m\"c\"\u001b[0m\u001b[0;34m:\u001b[0m\u001b[0;34m\u001b[0m\u001b[0;34m\u001b[0m\u001b[0m\n\u001b[0;32m-> 1135\u001b[0;31m             \u001b[0mself\u001b[0m\u001b[0;34m.\u001b[0m\u001b[0m_engine\u001b[0m \u001b[0;34m=\u001b[0m \u001b[0mCParserWrapper\u001b[0m\u001b[0;34m(\u001b[0m\u001b[0mself\u001b[0m\u001b[0;34m.\u001b[0m\u001b[0mf\u001b[0m\u001b[0;34m,\u001b[0m \u001b[0;34m**\u001b[0m\u001b[0mself\u001b[0m\u001b[0;34m.\u001b[0m\u001b[0moptions\u001b[0m\u001b[0;34m)\u001b[0m\u001b[0;34m\u001b[0m\u001b[0;34m\u001b[0m\u001b[0m\n\u001b[0m\u001b[1;32m   1136\u001b[0m         \u001b[0;32melse\u001b[0m\u001b[0;34m:\u001b[0m\u001b[0;34m\u001b[0m\u001b[0;34m\u001b[0m\u001b[0m\n\u001b[1;32m   1137\u001b[0m             \u001b[0;32mif\u001b[0m \u001b[0mengine\u001b[0m \u001b[0;34m==\u001b[0m \u001b[0;34m\"python\"\u001b[0m\u001b[0;34m:\u001b[0m\u001b[0;34m\u001b[0m\u001b[0;34m\u001b[0m\u001b[0m\n",
            "\u001b[0;32m/usr/local/lib/python3.6/dist-packages/pandas/io/parsers.py\u001b[0m in \u001b[0;36m__init__\u001b[0;34m(self, src, **kwds)\u001b[0m\n\u001b[1;32m   1915\u001b[0m         \u001b[0mkwds\u001b[0m\u001b[0;34m[\u001b[0m\u001b[0;34m\"usecols\"\u001b[0m\u001b[0;34m]\u001b[0m \u001b[0;34m=\u001b[0m \u001b[0mself\u001b[0m\u001b[0;34m.\u001b[0m\u001b[0musecols\u001b[0m\u001b[0;34m\u001b[0m\u001b[0;34m\u001b[0m\u001b[0m\n\u001b[1;32m   1916\u001b[0m \u001b[0;34m\u001b[0m\u001b[0m\n\u001b[0;32m-> 1917\u001b[0;31m         \u001b[0mself\u001b[0m\u001b[0;34m.\u001b[0m\u001b[0m_reader\u001b[0m \u001b[0;34m=\u001b[0m \u001b[0mparsers\u001b[0m\u001b[0;34m.\u001b[0m\u001b[0mTextReader\u001b[0m\u001b[0;34m(\u001b[0m\u001b[0msrc\u001b[0m\u001b[0;34m,\u001b[0m \u001b[0;34m**\u001b[0m\u001b[0mkwds\u001b[0m\u001b[0;34m)\u001b[0m\u001b[0;34m\u001b[0m\u001b[0;34m\u001b[0m\u001b[0m\n\u001b[0m\u001b[1;32m   1918\u001b[0m         \u001b[0mself\u001b[0m\u001b[0;34m.\u001b[0m\u001b[0munnamed_cols\u001b[0m \u001b[0;34m=\u001b[0m \u001b[0mself\u001b[0m\u001b[0;34m.\u001b[0m\u001b[0m_reader\u001b[0m\u001b[0;34m.\u001b[0m\u001b[0munnamed_cols\u001b[0m\u001b[0;34m\u001b[0m\u001b[0;34m\u001b[0m\u001b[0m\n\u001b[1;32m   1919\u001b[0m \u001b[0;34m\u001b[0m\u001b[0m\n",
            "\u001b[0;32mpandas/_libs/parsers.pyx\u001b[0m in \u001b[0;36mpandas._libs.parsers.TextReader.__cinit__\u001b[0;34m()\u001b[0m\n",
            "\u001b[0;32mpandas/_libs/parsers.pyx\u001b[0m in \u001b[0;36mpandas._libs.parsers.TextReader._setup_parser_source\u001b[0;34m()\u001b[0m\n",
            "\u001b[0;31mFileNotFoundError\u001b[0m: [Errno 2] File b'Uber Request Data.csv' does not exist: b'Uber Request Data.csv'"
          ]
        }
      ]
    },
    {
      "cell_type": "code",
      "metadata": {
        "id": "XaxNfIXOR_2n",
        "colab_type": "code",
        "colab": {}
      },
      "source": [
        "# make sure that number of duplicate rows are zero\n",
        "sum(df.duplicated(subset = \"Request id\")) == 0"
      ],
      "execution_count": 0,
      "outputs": []
    },
    {
      "cell_type": "markdown",
      "metadata": {
        "id": "BNUmCipxR_2w",
        "colab_type": "text"
      },
      "source": [
        "**let's look at the dimensions of the dataframe**"
      ]
    },
    {
      "cell_type": "code",
      "metadata": {
        "id": "yT8q_CXKR_2y",
        "colab_type": "code",
        "colab": {}
      },
      "source": [
        "df.shape"
      ],
      "execution_count": 0,
      "outputs": []
    },
    {
      "cell_type": "markdown",
      "metadata": {
        "id": "Gvek6_w7R_27",
        "colab_type": "text"
      },
      "source": [
        "**check for NA values in dataset**"
      ]
    },
    {
      "cell_type": "code",
      "metadata": {
        "id": "MZ8CV7BiR_29",
        "colab_type": "code",
        "colab": {}
      },
      "source": [
        "print (df.isnull().sum())  \n",
        "print (df.isnull().values.any())\n",
        "print (df.isnull().values.sum())"
      ],
      "execution_count": 0,
      "outputs": []
    },
    {
      "cell_type": "markdown",
      "metadata": {
        "id": "i4wzefseR_3F",
        "colab_type": "text"
      },
      "source": [
        "**checking the % of NAs columnwise**"
      ]
    },
    {
      "cell_type": "code",
      "metadata": {
        "id": "ESN64_aoR_3H",
        "colab_type": "code",
        "colab": {}
      },
      "source": [
        "df.isnull().sum()*100/df.shape[0] "
      ],
      "execution_count": 0,
      "outputs": []
    },
    {
      "cell_type": "markdown",
      "metadata": {
        "id": "QzWWdSueR_3P",
        "colab_type": "text"
      },
      "source": [
        "**check for NA values in each columns except \"Driver id\" and \"Drop timestamp\" (Cross Verification)**"
      ]
    },
    {
      "cell_type": "code",
      "metadata": {
        "id": "hh37BsPCR_3Q",
        "colab_type": "code",
        "colab": {}
      },
      "source": [
        "print (df['Request id'].isnull().values.any()) \n",
        "print (df['Request id'].isnull().values.sum())"
      ],
      "execution_count": 0,
      "outputs": []
    },
    {
      "cell_type": "code",
      "metadata": {
        "id": "054oxrtLR_3Y",
        "colab_type": "code",
        "colab": {}
      },
      "source": [
        "print (df['Pickup point'].isnull().values.any())\n",
        "print (df['Pickup point'].isnull().values.sum())"
      ],
      "execution_count": 0,
      "outputs": []
    },
    {
      "cell_type": "code",
      "metadata": {
        "id": "crN8xUVXR_3g",
        "colab_type": "code",
        "colab": {}
      },
      "source": [
        "print (df['Status'].isnull().values.any())\n",
        "print (df['Status'].isnull().values.sum())"
      ],
      "execution_count": 0,
      "outputs": []
    },
    {
      "cell_type": "code",
      "metadata": {
        "id": "VYMItBoGR_3p",
        "colab_type": "code",
        "colab": {}
      },
      "source": [
        "print (df['Request timestamp'].isnull().values.any())\n",
        "print (df['Request timestamp'].isnull().values.sum())"
      ],
      "execution_count": 0,
      "outputs": []
    },
    {
      "cell_type": "markdown",
      "metadata": {
        "id": "XtwgfX16R_3z",
        "colab_type": "text"
      },
      "source": [
        "**convert 'Request timestamp' column to datetime oject**"
      ]
    },
    {
      "cell_type": "code",
      "metadata": {
        "id": "SCg5pBxUR_32",
        "colab_type": "code",
        "colab": {}
      },
      "source": [
        "df[\"Request timestamp\"] = df[\"Request timestamp\"].astype(str)\n",
        "df['Request timestamp'] = df['Request timestamp'].str.replace(\"/\", \"-\")\n",
        "df['Request timestamp'] = pd.to_datetime(df[\"Request timestamp\"], dayfirst=True)"
      ],
      "execution_count": 0,
      "outputs": []
    },
    {
      "cell_type": "code",
      "metadata": {
        "id": "CVbXhNjkR_38",
        "colab_type": "code",
        "colab": {}
      },
      "source": [
        "# convert 'Drop timestamp' column to datetime oject\n",
        "df[\"Drop timestamp\"] = df[\"Drop timestamp\"].astype(str)\n",
        "df['Drop timestamp'] = df['Drop timestamp'].str.replace(\"/\", \"-\")\n",
        "df['Drop timestamp'] = pd.to_datetime(df[\"Drop timestamp\"], dayfirst=True)"
      ],
      "execution_count": 0,
      "outputs": []
    },
    {
      "cell_type": "code",
      "metadata": {
        "id": "XkaSDFlHR_4E",
        "colab_type": "code",
        "colab": {}
      },
      "source": [
        "df.info()"
      ],
      "execution_count": 0,
      "outputs": []
    },
    {
      "cell_type": "code",
      "metadata": {
        "id": "u3BFn9zgR_4K",
        "colab_type": "code",
        "colab": {}
      },
      "source": [
        "# extract the hour from the request time\n",
        "req_hour = df[\"Request timestamp\"].dt.hour\n",
        "req_hour.head()\n",
        "req_hour.value_counts()\n",
        "df[\"req_hour\"] = req_hour"
      ],
      "execution_count": 0,
      "outputs": []
    },
    {
      "cell_type": "code",
      "metadata": {
        "id": "fKdPBntrR_4S",
        "colab_type": "code",
        "colab": {}
      },
      "source": [
        "#extract the day from the request time\n",
        "req_day = df[\"Request timestamp\"].dt.day\n",
        "req_day.head()\n",
        "req_day.value_counts()\n",
        "df[\"req_day\"] = req_day"
      ],
      "execution_count": 0,
      "outputs": []
    },
    {
      "cell_type": "code",
      "metadata": {
        "id": "BCTqOS6VR_4a",
        "colab_type": "code",
        "colab": {}
      },
      "source": [
        "# factor plot of hour and day w.r.t. status\n",
        "sns.factorplot(x = \"req_hour\", hue = \"Status\", row = \"req_day\", data = df, kind = \"count\")"
      ],
      "execution_count": 0,
      "outputs": []
    },
    {
      "cell_type": "code",
      "metadata": {
        "id": "FmVkLt7hR_4e",
        "colab_type": "code",
        "colab": {}
      },
      "source": [
        "# factor plot of hour and day w.r.t. pickup point\n",
        "sns.factorplot(x = \"req_hour\", hue = \"Pickup point\", row = \"req_day\", data = df, kind = \"count\")"
      ],
      "execution_count": 0,
      "outputs": []
    },
    {
      "cell_type": "code",
      "metadata": {
        "id": "mqReGkxUR_4l",
        "colab_type": "code",
        "colab": {}
      },
      "source": [
        "# aggregate count plot for all days w.r.t. to Pickup point\n",
        "sns.factorplot(x = \"req_hour\", hue = \"Pickup point\", data = df, kind = \"count\")"
      ],
      "execution_count": 0,
      "outputs": []
    },
    {
      "cell_type": "code",
      "metadata": {
        "id": "zlkENKN1R_4p",
        "colab_type": "code",
        "colab": {}
      },
      "source": [
        "# creating a time slot for various time period of day\n",
        "def time_period(x):\n",
        "    'divide the time of the day into four categories'\n",
        "    if x < 5:\n",
        "        return \"Pre_Morning\"\n",
        "    elif 5 <= x < 10:\n",
        "        return \"Morning_Rush\"\n",
        "    elif 10 <= x < 17:\n",
        "        return \"Day_Time\"\n",
        "    elif 17 <= x < 22:\n",
        "        return \"Evening_Rush\"\n",
        "    else:\n",
        "        return \"Late_Night\"\n",
        "\n",
        "df['time_slot'] = df.req_hour.apply(lambda x: time_period(x))"
      ],
      "execution_count": 0,
      "outputs": []
    },
    {
      "cell_type": "code",
      "metadata": {
        "id": "T886kviIR_4x",
        "colab_type": "code",
        "colab": {}
      },
      "source": [
        "df.time_slot.value_counts()"
      ],
      "execution_count": 0,
      "outputs": []
    },
    {
      "cell_type": "code",
      "metadata": {
        "id": "FO5RKU67R_45",
        "colab_type": "code",
        "colab": {}
      },
      "source": [
        "# another way to look at the trips made in each time slot\n",
        "Pre_Morning = print (df.time_slot[df.time_slot == \"Pre_Morning\"].value_counts())\n",
        "Morning_Rush = print (df.time_slot[df.time_slot == \"Morning_Rush\"].value_counts())\n",
        "Day_Time = print (df.time_slot[df.time_slot == \"Day_Time\"].value_counts())\n",
        "Evening_Rush = print (df.time_slot[df.time_slot == \"Evening_Rush\"].value_counts())\n",
        "Late_Night = print (df.time_slot[df.time_slot == \"Late_Night\"].value_counts())"
      ],
      "execution_count": 0,
      "outputs": []
    },
    {
      "cell_type": "code",
      "metadata": {
        "id": "E7xwvdRUR_4-",
        "colab_type": "code",
        "colab": {}
      },
      "source": [
        "# plot time slot w.r.t. status and identify the most critical problems before Uber\n",
        "sns.countplot(x = \"time_slot\", hue = \"Status\", data = df)"
      ],
      "execution_count": 0,
      "outputs": []
    },
    {
      "cell_type": "code",
      "metadata": {
        "id": "fQ34Ng60R_5E",
        "colab_type": "code",
        "colab": {}
      },
      "source": [
        "# as you can see in the above plot the higest number of cancellations are in the \"Morning Rush\" time slot\n",
        "df_morning_rush = df[df.time_slot == \"Morning_Rush\"]\n",
        "sns.countplot(x = \"Pickup point\", hue = \"Status\", data = df_morning_rush)"
      ],
      "execution_count": 0,
      "outputs": []
    },
    {
      "cell_type": "code",
      "metadata": {
        "id": "Ay0wPAzER_5K",
        "colab_type": "code",
        "colab": {}
      },
      "source": [
        "# severity of problem by location and their count (cancellation of cab as per the pickup location @Morning Rush)\n",
        "df_airport_cancelled  = df_morning_rush.loc[(df_morning_rush[\"Pickup point\"] == \"Airport\") & (df_morning_rush[\"Status\"] == \"Cancelled\")]\n",
        "len(df_airport_cancelled.index)\n"
      ],
      "execution_count": 0,
      "outputs": []
    },
    {
      "cell_type": "code",
      "metadata": {
        "id": "X71r0YPiR_5P",
        "colab_type": "code",
        "colab": {}
      },
      "source": [
        "df_city_cancelled = df_morning_rush.loc[(df_morning_rush[\"Pickup point\"] == \"City\") & (df_morning_rush[\"Status\"] == \"Cancelled\")]\n",
        "len(df_city_cancelled.index)"
      ],
      "execution_count": 0,
      "outputs": []
    },
    {
      "cell_type": "code",
      "metadata": {
        "id": "xbpEG2paR_5W",
        "colab_type": "code",
        "colab": {}
      },
      "source": [
        "# let's look at the supply and demand in morning rush hour in the city\n",
        "df_city_completed_morning_rush = df_morning_rush.loc[(df_morning_rush[\"Pickup point\"] == \"City\") & (df_morning_rush[\"Status\"] == \"Trip Completed\")]\n",
        "len(df_city_completed_morning_rush.index)"
      ],
      "execution_count": 0,
      "outputs": []
    },
    {
      "cell_type": "code",
      "metadata": {
        "id": "6jY_rHreR_5c",
        "colab_type": "code",
        "colab": {}
      },
      "source": [
        "df_city_morning_rush  = df_morning_rush.loc[(df_morning_rush[\"Pickup point\"] == \"City\")]\n",
        "len(df_city_morning_rush.index)"
      ],
      "execution_count": 0,
      "outputs": []
    },
    {
      "cell_type": "code",
      "metadata": {
        "id": "NQPekkdtR_5g",
        "colab_type": "code",
        "colab": {}
      },
      "source": [
        "# let's look at the supply and demand in morning rush hour at the airport\n",
        "df_airport_completed_morning_rush = df_morning_rush.loc[(df_morning_rush[\"Pickup point\"] == \"Airport\") & (df_morning_rush[\"Status\"] == \"Trip Completed\")]\n",
        "len(df_airport_completed_morning_rush.index)"
      ],
      "execution_count": 0,
      "outputs": []
    },
    {
      "cell_type": "code",
      "metadata": {
        "id": "VWYUXQaWR_5q",
        "colab_type": "code",
        "colab": {}
      },
      "source": [
        "df_airport_morning_rush  = df_morning_rush.loc[(df_morning_rush[\"Pickup point\"] == \"Airport\")]\n",
        "len(df_airport_morning_rush.index)"
      ],
      "execution_count": 0,
      "outputs": []
    },
    {
      "cell_type": "code",
      "metadata": {
        "id": "u7AostQcR_5w",
        "colab_type": "code",
        "colab": {}
      },
      "source": [
        "# let's look at the supply and demand in evening rush hour\n",
        "df_evening_rush = df[df.time_slot == \"Evening_Rush\"]\n",
        "sns.countplot(x = \"Pickup point\", hue = \"Status\", data = df_evening_rush)"
      ],
      "execution_count": 0,
      "outputs": []
    },
    {
      "cell_type": "code",
      "metadata": {
        "id": "T1Jhk9FYR_53",
        "colab_type": "code",
        "colab": {}
      },
      "source": [
        "# let's look at the supply and demand in evening rush hour in the city\n",
        "df_city_completed_evening_rush = df_evening_rush.loc[(df_evening_rush[\"Pickup point\"] == \"City\") & (df_evening_rush[\"Status\"] == \"Trip Completed\")]\n",
        "len(df_city_completed_evening_rush.index)"
      ],
      "execution_count": 0,
      "outputs": []
    },
    {
      "cell_type": "code",
      "metadata": {
        "id": "2g3xNoFmR_5-",
        "colab_type": "code",
        "colab": {}
      },
      "source": [
        "df_city_evening_rush  = df_evening_rush.loc[(df_evening_rush[\"Pickup point\"] == \"City\")]\n",
        "len(df_city_evening_rush.index)"
      ],
      "execution_count": 0,
      "outputs": []
    },
    {
      "cell_type": "code",
      "metadata": {
        "id": "xquw_Qa-R_6E",
        "colab_type": "code",
        "colab": {}
      },
      "source": [
        "# let's look at the supply and demand in evening rush hour from the airport\n",
        "df_airport_completed_evening_rush = df_evening_rush.loc[(df_evening_rush[\"Pickup point\"] == \"Airport\") & (df_evening_rush[\"Status\"] == \"Trip Completed\")]\n",
        "len(df_airport_completed_evening_rush.index)"
      ],
      "execution_count": 0,
      "outputs": []
    },
    {
      "cell_type": "code",
      "metadata": {
        "id": "k-X6wnT0R_6L",
        "colab_type": "code",
        "colab": {}
      },
      "source": [
        "df_airport_evening_rush  = df_evening_rush.loc[(df_evening_rush[\"Pickup point\"] == \"Airport\")]\n",
        "len(df_airport_evening_rush.index)"
      ],
      "execution_count": 0,
      "outputs": []
    },
    {
      "cell_type": "code",
      "metadata": {
        "id": "93ObsjHsR_6b",
        "colab_type": "code",
        "colab": {}
      },
      "source": [
        "# let's look at the severity problem (of demand and supply) at each location by looking at cancellation of cab in each of the pickup location in evening rush\n",
        "df_airport_cancelled_evening_rush  = df_evening_rush.loc[(df_evening_rush[\"Pickup point\"] == \"Airport\") & (df_evening_rush[\"Status\"] == \"Cancelled\")]\n",
        "len(df_airport_cancelled_evening_rush.index)"
      ],
      "execution_count": 0,
      "outputs": []
    },
    {
      "cell_type": "code",
      "metadata": {
        "id": "V-Co-LBER_6k",
        "colab_type": "code",
        "colab": {}
      },
      "source": [
        "df_city_cancelled_evening_rush = df_evening_rush.loc[(df_evening_rush[\"Pickup point\"] == \"City\") & (df_evening_rush[\"Status\"] == \"Cancelled\")]\n",
        "len(df_city_cancelled_evening_rush.index)"
      ],
      "execution_count": 0,
      "outputs": []
    },
    {
      "cell_type": "code",
      "metadata": {
        "id": "CwAX6l_8R_60",
        "colab_type": "code",
        "colab": {}
      },
      "source": [
        "# severity of problem by location in Morning Rush (Unavailability of Cars)\n",
        "df_airport_unavailable_morning_rush  = df_morning_rush.loc[(df_morning_rush[\"Pickup point\"] == \"Airport\") & (df_morning_rush[\"Status\"] == \"No Cars Available\")]\n",
        "len(df_airport_unavailable_morning_rush.index)"
      ],
      "execution_count": 0,
      "outputs": []
    },
    {
      "cell_type": "code",
      "metadata": {
        "id": "E0cGrZHhR_7N",
        "colab_type": "code",
        "colab": {}
      },
      "source": [
        "df_city_unavailable_morning_rush  = df_morning_rush.loc[(df_morning_rush[\"Pickup point\"] == \"City\") & (df_morning_rush[\"Status\"] == \"No Cars Available\")]\n",
        "len(df_city_unavailable_morning_rush.index)"
      ],
      "execution_count": 0,
      "outputs": []
    },
    {
      "cell_type": "code",
      "metadata": {
        "id": "htdkcNFpR_7S",
        "colab_type": "code",
        "colab": {}
      },
      "source": [
        "# severity of problem by location in Evening Rush (Unavailability of Cars)\n",
        "df_airport_unavailable_evening_rush  = df_evening_rush.loc[(df_evening_rush[\"Pickup point\"] == \"Airport\") & (df_evening_rush[\"Status\"] == \"No Cars Available\")]\n",
        "len(df_airport_unavailable_evening_rush.index)"
      ],
      "execution_count": 0,
      "outputs": []
    },
    {
      "cell_type": "code",
      "metadata": {
        "id": "gMjmJPaAR_7d",
        "colab_type": "code",
        "colab": {}
      },
      "source": [
        "df_city_unavailable_evening_rush  = df_evening_rush.loc[(df_evening_rush[\"Pickup point\"] == \"City\") & (df_evening_rush[\"Status\"] == \"No Cars Available\")]\n",
        "len(df_city_unavailable_evening_rush.index)"
      ],
      "execution_count": 0,
      "outputs": []
    },
    {
      "cell_type": "code",
      "metadata": {
        "id": "L3FlwXeaR_7l",
        "colab_type": "code",
        "colab": {}
      },
      "source": [
        "# Let's create pie charts instead of a count plots\n",
        "def pie_chart(dataframe):\n",
        "    \"\"\"\n",
        "    creates a pie chart\n",
        "    input: dataframe with a 'category' as index and a numerical column\n",
        "    output: pie chart\n",
        "    \"\"\"\n",
        "    labels = dataframe.index.values\n",
        "    sizes = dataframe['Status'].values\n",
        "        \n",
        "    fig1, ax1 = plt.subplots()\n",
        "    ax1.pie(sizes, labels=labels, autopct='%1.1f%%', shadow=True, startangle=90)\n",
        "    ax1.axis('equal')  # Equal aspect ratio ensures that pie is drawn as a circle.\n",
        "    plt.show()"
      ],
      "execution_count": 0,
      "outputs": []
    },
    {
      "cell_type": "code",
      "metadata": {
        "id": "s8or80UnR_7u",
        "colab_type": "code",
        "colab": {}
      },
      "source": [
        "# percentage breakup of status on the basis of pickup location\n",
        "# Status of trips @ Morning Rush where pickup point is City\n",
        "df_city = df.loc[(df[\"Pickup point\"] == \"City\") & (df.time_slot == \"Morning_Rush\")]\n",
        "df_city_count = pd.DataFrame(df_city.Status.value_counts())\n",
        "pie_chart(df_city_count)"
      ],
      "execution_count": 0,
      "outputs": []
    },
    {
      "cell_type": "code",
      "metadata": {
        "id": "KlBTZhSaR_7z",
        "colab_type": "code",
        "colab": {}
      },
      "source": [
        "# Status of trips @ Evening Rush where pickup point is Airport\n",
        "df_airport = df.loc[(df[\"Pickup point\"] == \"Airport\") & (df.time_slot == \"Evening_Rush\")] \n",
        "df_airport_count = pd.DataFrame(df_airport.Status.value_counts())\n",
        "pie_chart(df_airport_count)"
      ],
      "execution_count": 0,
      "outputs": []
    }
  ]
}