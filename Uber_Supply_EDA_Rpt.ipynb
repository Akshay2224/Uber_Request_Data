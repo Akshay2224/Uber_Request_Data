{
  "nbformat": 4,
  "nbformat_minor": 0,
  "metadata": {
    "colab": {
      "name": "Untitled33.ipynb",
      "version": "0.3.2",
      "provenance": [],
      "include_colab_link": true
    },
    "kernelspec": {
      "name": "python3",
      "display_name": "Python 3"
    }
  },
  "cells": [
    {
      "cell_type": "markdown",
      "metadata": {
        "id": "view-in-github",
        "colab_type": "text"
      },
      "source": [
        "<a href=\"https://colab.research.google.com/github/Akshay2224/Uber_Request_Data/blob/master/Uber_Supply_EDA_Rpt.ipynb\" target=\"_parent\"><img src=\"https://colab.research.google.com/assets/colab-badge.svg\" alt=\"Open In Colab\"/></a>"
      ]
    },
    {
      "cell_type": "markdown",
      "metadata": {
        "id": "i76rsq3_whom",
        "colab_type": "text"
      },
      "source": [
        "# Uber_Supply_Demand_Gap"
      ]
    },
    {
      "cell_type": "markdown",
      "metadata": {
        "id": "cjeHq8KwwwOK",
        "colab_type": "text"
      },
      "source": [
        "## Introduction"
      ]
    },
    {
      "cell_type": "markdown",
      "metadata": {
        "id": "ShKnYvV1w0IT",
        "colab_type": "text"
      },
      "source": [
        "Uber Technologies, Inc. is an American multinational transportation network company offering services that include peer-to-peer ridesharing, ride service hailing, food delivery, and a bicycle-sharing system. The company is based in San Francisco and has operations in 785 metropolitan areas worldwide."
      ]
    },
    {
      "cell_type": "markdown",
      "metadata": {
        "id": "3zWRcDHSw48d",
        "colab_type": "text"
      },
      "source": [
        "![alt text](http://www.brooklynvegan.com/files/2018/08/uber.jpg))"
      ]
    },
    {
      "cell_type": "markdown",
      "metadata": {
        "id": "lExqOLpsxtz4",
        "colab_type": "text"
      },
      "source": [
        "## Problems Faced\n",
        "\n",
        "The problems faced by customers, these very issues also impact the business of Uber. If drivers cancel the request of riders or if cars are unavailable, Uber loses out on its revenue. Let’s hear more about such problems that Uber faces during its operations. We need to  decide to address the problem Uber is facing - driver cancellation and non-availability of cars leading to loss of potential revenue. "
      ]
    },
    {
      "cell_type": "markdown",
      "metadata": {
        "id": "Ythax_OrxmTF",
        "colab_type": "text"
      },
      "source": [
        "## Problem Statement\n",
        "\n",
        "The aim of analysis is to identify the root cause of the problem (i.e. cancellation and non-availability of cars) and recommend ways to improve the situation. As a result of your analysis, you should be able to present to the client the root cause(s) and possible hypotheses of the problem(s) and recommend ways to improve them.  \n",
        "\n",
        " "
      ]
    },
    {
      "cell_type": "code",
      "metadata": {
        "id": "D0CJuZdvzBRp",
        "colab_type": "code",
        "colab": {}
      },
      "source": [
        "# Importing of Libraries\n",
        "import pandas as pd\n",
        "import numpy as np\n",
        "import matplotlib.pyplot as plt\n",
        "from matplotlib.pyplot import pie, axis, show\n",
        "import seaborn as sns\n",
        "import datetime"
      ],
      "execution_count": 0,
      "outputs": []
    },
    {
      "cell_type": "code",
      "metadata": {
        "id": "LCu5OHuvzTS0",
        "colab_type": "code",
        "colab": {}
      },
      "source": [
        "#opening of file\n",
        "df=pd.read_csv('https://github.com/Akshay2224/Uber_Request_Data/raw/master/Uber%20Request%20Data.csv')"
      ],
      "execution_count": 0,
      "outputs": []
    },
    {
      "cell_type": "code",
      "metadata": {
        "id": "QZbIx82iznVW",
        "colab_type": "code",
        "outputId": "061b8674-4d07-4a49-c9d0-1c180e850792",
        "colab": {
          "base_uri": "https://localhost:8080/",
          "height": 348
        }
      },
      "source": [
        "#Lets Head towards looking the dataset\n",
        "df.head(10)"
      ],
      "execution_count": 105,
      "outputs": [
        {
          "output_type": "execute_result",
          "data": {
            "text/html": [
              "<div>\n",
              "<style scoped>\n",
              "    .dataframe tbody tr th:only-of-type {\n",
              "        vertical-align: middle;\n",
              "    }\n",
              "\n",
              "    .dataframe tbody tr th {\n",
              "        vertical-align: top;\n",
              "    }\n",
              "\n",
              "    .dataframe thead th {\n",
              "        text-align: right;\n",
              "    }\n",
              "</style>\n",
              "<table border=\"1\" class=\"dataframe\">\n",
              "  <thead>\n",
              "    <tr style=\"text-align: right;\">\n",
              "      <th></th>\n",
              "      <th>Request id</th>\n",
              "      <th>Pickup point</th>\n",
              "      <th>Driver id</th>\n",
              "      <th>Status</th>\n",
              "      <th>Request timestamp</th>\n",
              "      <th>Drop timestamp</th>\n",
              "    </tr>\n",
              "  </thead>\n",
              "  <tbody>\n",
              "    <tr>\n",
              "      <th>0</th>\n",
              "      <td>619</td>\n",
              "      <td>Airport</td>\n",
              "      <td>1.0</td>\n",
              "      <td>Trip Completed</td>\n",
              "      <td>11/7/2016 11:51</td>\n",
              "      <td>11/7/2016 13:00</td>\n",
              "    </tr>\n",
              "    <tr>\n",
              "      <th>1</th>\n",
              "      <td>867</td>\n",
              "      <td>Airport</td>\n",
              "      <td>1.0</td>\n",
              "      <td>Trip Completed</td>\n",
              "      <td>11/7/2016 17:57</td>\n",
              "      <td>11/7/2016 18:47</td>\n",
              "    </tr>\n",
              "    <tr>\n",
              "      <th>2</th>\n",
              "      <td>1807</td>\n",
              "      <td>City</td>\n",
              "      <td>1.0</td>\n",
              "      <td>Trip Completed</td>\n",
              "      <td>12/7/2016 9:17</td>\n",
              "      <td>12/7/2016 9:58</td>\n",
              "    </tr>\n",
              "    <tr>\n",
              "      <th>3</th>\n",
              "      <td>2532</td>\n",
              "      <td>Airport</td>\n",
              "      <td>1.0</td>\n",
              "      <td>Trip Completed</td>\n",
              "      <td>12/7/2016 21:08</td>\n",
              "      <td>12/7/2016 22:03</td>\n",
              "    </tr>\n",
              "    <tr>\n",
              "      <th>4</th>\n",
              "      <td>3112</td>\n",
              "      <td>City</td>\n",
              "      <td>1.0</td>\n",
              "      <td>Trip Completed</td>\n",
              "      <td>13-07-2016 08:33:16</td>\n",
              "      <td>13-07-2016 09:25:47</td>\n",
              "    </tr>\n",
              "    <tr>\n",
              "      <th>5</th>\n",
              "      <td>3879</td>\n",
              "      <td>Airport</td>\n",
              "      <td>1.0</td>\n",
              "      <td>Trip Completed</td>\n",
              "      <td>13-07-2016 21:57:28</td>\n",
              "      <td>13-07-2016 22:28:59</td>\n",
              "    </tr>\n",
              "    <tr>\n",
              "      <th>6</th>\n",
              "      <td>4270</td>\n",
              "      <td>Airport</td>\n",
              "      <td>1.0</td>\n",
              "      <td>Trip Completed</td>\n",
              "      <td>14-07-2016 06:15:32</td>\n",
              "      <td>14-07-2016 07:13:15</td>\n",
              "    </tr>\n",
              "    <tr>\n",
              "      <th>7</th>\n",
              "      <td>5510</td>\n",
              "      <td>Airport</td>\n",
              "      <td>1.0</td>\n",
              "      <td>Trip Completed</td>\n",
              "      <td>15-07-2016 05:11:52</td>\n",
              "      <td>15-07-2016 06:07:52</td>\n",
              "    </tr>\n",
              "    <tr>\n",
              "      <th>8</th>\n",
              "      <td>6248</td>\n",
              "      <td>City</td>\n",
              "      <td>1.0</td>\n",
              "      <td>Trip Completed</td>\n",
              "      <td>15-07-2016 17:57:27</td>\n",
              "      <td>15-07-2016 18:50:51</td>\n",
              "    </tr>\n",
              "    <tr>\n",
              "      <th>9</th>\n",
              "      <td>267</td>\n",
              "      <td>City</td>\n",
              "      <td>2.0</td>\n",
              "      <td>Trip Completed</td>\n",
              "      <td>11/7/2016 6:46</td>\n",
              "      <td>11/7/2016 7:25</td>\n",
              "    </tr>\n",
              "  </tbody>\n",
              "</table>\n",
              "</div>"
            ],
            "text/plain": [
              "   Request id Pickup point  ...    Request timestamp       Drop timestamp\n",
              "0         619      Airport  ...      11/7/2016 11:51      11/7/2016 13:00\n",
              "1         867      Airport  ...      11/7/2016 17:57      11/7/2016 18:47\n",
              "2        1807         City  ...       12/7/2016 9:17       12/7/2016 9:58\n",
              "3        2532      Airport  ...      12/7/2016 21:08      12/7/2016 22:03\n",
              "4        3112         City  ...  13-07-2016 08:33:16  13-07-2016 09:25:47\n",
              "5        3879      Airport  ...  13-07-2016 21:57:28  13-07-2016 22:28:59\n",
              "6        4270      Airport  ...  14-07-2016 06:15:32  14-07-2016 07:13:15\n",
              "7        5510      Airport  ...  15-07-2016 05:11:52  15-07-2016 06:07:52\n",
              "8        6248         City  ...  15-07-2016 17:57:27  15-07-2016 18:50:51\n",
              "9         267         City  ...       11/7/2016 6:46       11/7/2016 7:25\n",
              "\n",
              "[10 rows x 6 columns]"
            ]
          },
          "metadata": {
            "tags": []
          },
          "execution_count": 105
        }
      ]
    },
    {
      "cell_type": "markdown",
      "metadata": {
        "id": "wtqcfnrmyuqc",
        "colab_type": "text"
      },
      "source": [
        "## Attribute Description\n",
        "\n",
        "There are six attributes associated with each request made by a customer:\n",
        "\n",
        "1. Request id: A unique identifier of the request.\n",
        "2. Time of request: The date and time at which the customer made the trip request\n",
        "3. Drop-off time: The drop-off date and time, in case the trip was completed \n",
        "4. Pick-up point: The point from which the request was made\n",
        "5. Driver id: The unique identification number of the driver\n",
        "6. Status of the request: The final status of the trip, that can be either completed, cancelled by the driver or no cars available"
      ]
    },
    {
      "cell_type": "markdown",
      "metadata": {
        "id": "tKho5Zel0BLK",
        "colab_type": "text"
      },
      "source": [
        "## Some Stats about the dataset"
      ]
    },
    {
      "cell_type": "code",
      "metadata": {
        "id": "DhrDE9feD6i-",
        "colab_type": "code",
        "outputId": "7e22c489-2f3d-477a-998f-4fc92675cc90",
        "colab": {
          "base_uri": "https://localhost:8080/",
          "height": 288
        }
      },
      "source": [
        "# To get a description about the dataset\n",
        "df.describe()"
      ],
      "execution_count": 106,
      "outputs": [
        {
          "output_type": "execute_result",
          "data": {
            "text/html": [
              "<div>\n",
              "<style scoped>\n",
              "    .dataframe tbody tr th:only-of-type {\n",
              "        vertical-align: middle;\n",
              "    }\n",
              "\n",
              "    .dataframe tbody tr th {\n",
              "        vertical-align: top;\n",
              "    }\n",
              "\n",
              "    .dataframe thead th {\n",
              "        text-align: right;\n",
              "    }\n",
              "</style>\n",
              "<table border=\"1\" class=\"dataframe\">\n",
              "  <thead>\n",
              "    <tr style=\"text-align: right;\">\n",
              "      <th></th>\n",
              "      <th>Request id</th>\n",
              "      <th>Driver id</th>\n",
              "    </tr>\n",
              "  </thead>\n",
              "  <tbody>\n",
              "    <tr>\n",
              "      <th>count</th>\n",
              "      <td>6745.000000</td>\n",
              "      <td>4095.000000</td>\n",
              "    </tr>\n",
              "    <tr>\n",
              "      <th>mean</th>\n",
              "      <td>3384.644922</td>\n",
              "      <td>149.501343</td>\n",
              "    </tr>\n",
              "    <tr>\n",
              "      <th>std</th>\n",
              "      <td>1955.099667</td>\n",
              "      <td>86.051994</td>\n",
              "    </tr>\n",
              "    <tr>\n",
              "      <th>min</th>\n",
              "      <td>1.000000</td>\n",
              "      <td>1.000000</td>\n",
              "    </tr>\n",
              "    <tr>\n",
              "      <th>25%</th>\n",
              "      <td>1691.000000</td>\n",
              "      <td>75.000000</td>\n",
              "    </tr>\n",
              "    <tr>\n",
              "      <th>50%</th>\n",
              "      <td>3387.000000</td>\n",
              "      <td>149.000000</td>\n",
              "    </tr>\n",
              "    <tr>\n",
              "      <th>75%</th>\n",
              "      <td>5080.000000</td>\n",
              "      <td>224.000000</td>\n",
              "    </tr>\n",
              "    <tr>\n",
              "      <th>max</th>\n",
              "      <td>6766.000000</td>\n",
              "      <td>300.000000</td>\n",
              "    </tr>\n",
              "  </tbody>\n",
              "</table>\n",
              "</div>"
            ],
            "text/plain": [
              "        Request id    Driver id\n",
              "count  6745.000000  4095.000000\n",
              "mean   3384.644922   149.501343\n",
              "std    1955.099667    86.051994\n",
              "min       1.000000     1.000000\n",
              "25%    1691.000000    75.000000\n",
              "50%    3387.000000   149.000000\n",
              "75%    5080.000000   224.000000\n",
              "max    6766.000000   300.000000"
            ]
          },
          "metadata": {
            "tags": []
          },
          "execution_count": 106
        }
      ]
    },
    {
      "cell_type": "markdown",
      "metadata": {
        "id": "Gz3QjP2uEDU1",
        "colab_type": "text"
      },
      "source": [
        "#### We can see that number of request id are 6745 where 6766 is highest number of id alloted whereas we can see that Maximum number of driver Id is 300 and we have total 4095 drivers."
      ]
    },
    {
      "cell_type": "code",
      "metadata": {
        "id": "dYLYBVGj0Aim",
        "colab_type": "code",
        "outputId": "e69222cb-168b-4293-c03a-151af68f0356",
        "colab": {
          "base_uri": "https://localhost:8080/",
          "height": 35
        }
      },
      "source": [
        "#To see the number of rows and columns\n",
        "df.shape"
      ],
      "execution_count": 107,
      "outputs": [
        {
          "output_type": "execute_result",
          "data": {
            "text/plain": [
              "(6745, 6)"
            ]
          },
          "metadata": {
            "tags": []
          },
          "execution_count": 107
        }
      ]
    },
    {
      "cell_type": "code",
      "metadata": {
        "id": "DM80iSeM0YCi",
        "colab_type": "code",
        "outputId": "5aa8ff1e-6f27-4b33-9a6f-01fb414d39df",
        "colab": {
          "base_uri": "https://localhost:8080/",
          "height": 72
        }
      },
      "source": [
        "#To check the name of columns \n",
        "df.columns"
      ],
      "execution_count": 108,
      "outputs": [
        {
          "output_type": "execute_result",
          "data": {
            "text/plain": [
              "Index(['Request id', 'Pickup point', 'Driver id', 'Status',\n",
              "       'Request timestamp', 'Drop timestamp'],\n",
              "      dtype='object')"
            ]
          },
          "metadata": {
            "tags": []
          },
          "execution_count": 108
        }
      ]
    },
    {
      "cell_type": "markdown",
      "metadata": {
        "id": "2CvPSt7x0kfN",
        "colab_type": "text"
      },
      "source": [
        "### Data Quality"
      ]
    },
    {
      "cell_type": "markdown",
      "metadata": {
        "id": "88B6EVI-9cjI",
        "colab_type": "text"
      },
      "source": [
        "#### Lets us check the date and time columns"
      ]
    },
    {
      "cell_type": "code",
      "metadata": {
        "id": "BmDFc5xr_JiH",
        "colab_type": "code",
        "outputId": "9a8d1b6c-400e-4109-e99e-12bc4af3005a",
        "colab": {
          "base_uri": "https://localhost:8080/",
          "height": 307
        }
      },
      "source": [
        "df['Request timestamp']=pd.to_datetime(df['Request timestamp']) # Converted the column Request timestamp to datetime format\n",
        "df['Drop timestamp']=pd.to_datetime(df['Drop timestamp']) # Converted the column Drop timestamp to datetime format\n",
        "df['Day']=df['Request timestamp'].dt.month # Created new column with the name of Day having month number of request timestamp\n",
        "df['Day1']=df['Drop timestamp'].dt.month # Created new column with the name of Day having month number of Drop timestamp\n",
        "df['Monthdif']=df['Day']-df['Day1'] # Month Diffrence columns\n",
        "df1=df.query('Monthdif==-1')\n",
        "df1['B']=1\n",
        "df1.head()"
      ],
      "execution_count": 109,
      "outputs": [
        {
          "output_type": "stream",
          "text": [
            "/usr/local/lib/python3.6/dist-packages/ipykernel_launcher.py:7: SettingWithCopyWarning: \n",
            "A value is trying to be set on a copy of a slice from a DataFrame.\n",
            "Try using .loc[row_indexer,col_indexer] = value instead\n",
            "\n",
            "See the caveats in the documentation: http://pandas.pydata.org/pandas-docs/stable/indexing.html#indexing-view-versus-copy\n",
            "  import sys\n"
          ],
          "name": "stderr"
        },
        {
          "output_type": "execute_result",
          "data": {
            "text/html": [
              "<div>\n",
              "<style scoped>\n",
              "    .dataframe tbody tr th:only-of-type {\n",
              "        vertical-align: middle;\n",
              "    }\n",
              "\n",
              "    .dataframe tbody tr th {\n",
              "        vertical-align: top;\n",
              "    }\n",
              "\n",
              "    .dataframe thead th {\n",
              "        text-align: right;\n",
              "    }\n",
              "</style>\n",
              "<table border=\"1\" class=\"dataframe\">\n",
              "  <thead>\n",
              "    <tr style=\"text-align: right;\">\n",
              "      <th></th>\n",
              "      <th>Request id</th>\n",
              "      <th>Pickup point</th>\n",
              "      <th>Driver id</th>\n",
              "      <th>Status</th>\n",
              "      <th>Request timestamp</th>\n",
              "      <th>Drop timestamp</th>\n",
              "      <th>Day</th>\n",
              "      <th>Day1</th>\n",
              "      <th>Monthdif</th>\n",
              "      <th>B</th>\n",
              "    </tr>\n",
              "  </thead>\n",
              "  <tbody>\n",
              "    <tr>\n",
              "      <th>75</th>\n",
              "      <td>1346</td>\n",
              "      <td>Airport</td>\n",
              "      <td>9.0</td>\n",
              "      <td>Trip Completed</td>\n",
              "      <td>2016-11-07 23:39:00</td>\n",
              "      <td>2016-12-07 00:23:00</td>\n",
              "      <td>11</td>\n",
              "      <td>12.0</td>\n",
              "      <td>-1.0</td>\n",
              "      <td>1</td>\n",
              "    </tr>\n",
              "    <tr>\n",
              "      <th>390</th>\n",
              "      <td>1353</td>\n",
              "      <td>Airport</td>\n",
              "      <td>40.0</td>\n",
              "      <td>Trip Completed</td>\n",
              "      <td>2016-11-07 23:51:00</td>\n",
              "      <td>2016-12-07 00:34:00</td>\n",
              "      <td>11</td>\n",
              "      <td>12.0</td>\n",
              "      <td>-1.0</td>\n",
              "      <td>1</td>\n",
              "    </tr>\n",
              "    <tr>\n",
              "      <th>578</th>\n",
              "      <td>1349</td>\n",
              "      <td>Airport</td>\n",
              "      <td>61.0</td>\n",
              "      <td>Trip Completed</td>\n",
              "      <td>2016-11-07 23:41:00</td>\n",
              "      <td>2016-12-07 00:22:00</td>\n",
              "      <td>11</td>\n",
              "      <td>12.0</td>\n",
              "      <td>-1.0</td>\n",
              "      <td>1</td>\n",
              "    </tr>\n",
              "    <tr>\n",
              "      <th>911</th>\n",
              "      <td>1351</td>\n",
              "      <td>Airport</td>\n",
              "      <td>94.0</td>\n",
              "      <td>Trip Completed</td>\n",
              "      <td>2016-11-07 23:44:00</td>\n",
              "      <td>2016-12-07 00:49:00</td>\n",
              "      <td>11</td>\n",
              "      <td>12.0</td>\n",
              "      <td>-1.0</td>\n",
              "      <td>1</td>\n",
              "    </tr>\n",
              "    <tr>\n",
              "      <th>927</th>\n",
              "      <td>1344</td>\n",
              "      <td>City</td>\n",
              "      <td>96.0</td>\n",
              "      <td>Trip Completed</td>\n",
              "      <td>2016-11-07 23:35:00</td>\n",
              "      <td>2016-12-07 00:39:00</td>\n",
              "      <td>11</td>\n",
              "      <td>12.0</td>\n",
              "      <td>-1.0</td>\n",
              "      <td>1</td>\n",
              "    </tr>\n",
              "  </tbody>\n",
              "</table>\n",
              "</div>"
            ],
            "text/plain": [
              "     Request id Pickup point  Driver id          Status  ... Day  Day1  Monthdif  B\n",
              "75         1346      Airport        9.0  Trip Completed  ...  11  12.0      -1.0  1\n",
              "390        1353      Airport       40.0  Trip Completed  ...  11  12.0      -1.0  1\n",
              "578        1349      Airport       61.0  Trip Completed  ...  11  12.0      -1.0  1\n",
              "911        1351      Airport       94.0  Trip Completed  ...  11  12.0      -1.0  1\n",
              "927        1344         City       96.0  Trip Completed  ...  11  12.0      -1.0  1\n",
              "\n",
              "[5 rows x 10 columns]"
            ]
          },
          "metadata": {
            "tags": []
          },
          "execution_count": 109
        }
      ]
    },
    {
      "cell_type": "markdown",
      "metadata": {
        "id": "9GgrLqze9tNo",
        "colab_type": "text"
      },
      "source": [
        "#### Here it is visible from the data that there is some anomaly as because of some typographic error the month has changed abruptly by one which cannot be possible as there cannot be 1 month travelling time So we need to change this anomaly"
      ]
    },
    {
      "cell_type": "code",
      "metadata": {
        "id": "l5NlA7Cr9lVA",
        "colab_type": "code",
        "outputId": "11298157-4928-4531-c32d-a62668f15549",
        "colab": {
          "base_uri": "https://localhost:8080/",
          "height": 744
        }
      },
      "source": [
        "df1['Request timestamp']=df1['Request timestamp']+df1['B'].values.astype(\"timedelta64[M]\") #Adding to the number of months in the column Request time stamp\n",
        "df1['Request timestamp']=df1['Request timestamp']-df1['B'].values.astype(\"timedelta64[D]\") #Subtracting to the number of days in the column Request time stamp\n",
        "# Here we are adding hours to the time in Request timestamp column because after addition/Subtraction of months the time has changed\n",
        "df1['Request timestamp']=df1['Request timestamp']+datetime.timedelta(hours=13)\n",
        "df1['Request timestamp']=df1['Request timestamp']+datetime.timedelta(minutes=31)\n",
        "df1['Request timestamp']=df1['Request timestamp']-datetime.timedelta(seconds=6)\n",
        "df1.drop(['Day','Day1','Monthdif','B'],axis=1)\n",
        "df.update(df1) #Updating the data\n",
        "df.head()"
      ],
      "execution_count": 110,
      "outputs": [
        {
          "output_type": "stream",
          "text": [
            "/usr/local/lib/python3.6/dist-packages/ipykernel_launcher.py:1: SettingWithCopyWarning: \n",
            "A value is trying to be set on a copy of a slice from a DataFrame.\n",
            "Try using .loc[row_indexer,col_indexer] = value instead\n",
            "\n",
            "See the caveats in the documentation: http://pandas.pydata.org/pandas-docs/stable/indexing.html#indexing-view-versus-copy\n",
            "  \"\"\"Entry point for launching an IPython kernel.\n",
            "/usr/local/lib/python3.6/dist-packages/ipykernel_launcher.py:2: SettingWithCopyWarning: \n",
            "A value is trying to be set on a copy of a slice from a DataFrame.\n",
            "Try using .loc[row_indexer,col_indexer] = value instead\n",
            "\n",
            "See the caveats in the documentation: http://pandas.pydata.org/pandas-docs/stable/indexing.html#indexing-view-versus-copy\n",
            "  \n",
            "/usr/local/lib/python3.6/dist-packages/ipykernel_launcher.py:4: SettingWithCopyWarning: \n",
            "A value is trying to be set on a copy of a slice from a DataFrame.\n",
            "Try using .loc[row_indexer,col_indexer] = value instead\n",
            "\n",
            "See the caveats in the documentation: http://pandas.pydata.org/pandas-docs/stable/indexing.html#indexing-view-versus-copy\n",
            "  after removing the cwd from sys.path.\n",
            "/usr/local/lib/python3.6/dist-packages/ipykernel_launcher.py:5: SettingWithCopyWarning: \n",
            "A value is trying to be set on a copy of a slice from a DataFrame.\n",
            "Try using .loc[row_indexer,col_indexer] = value instead\n",
            "\n",
            "See the caveats in the documentation: http://pandas.pydata.org/pandas-docs/stable/indexing.html#indexing-view-versus-copy\n",
            "  \"\"\"\n",
            "/usr/local/lib/python3.6/dist-packages/ipykernel_launcher.py:6: SettingWithCopyWarning: \n",
            "A value is trying to be set on a copy of a slice from a DataFrame.\n",
            "Try using .loc[row_indexer,col_indexer] = value instead\n",
            "\n",
            "See the caveats in the documentation: http://pandas.pydata.org/pandas-docs/stable/indexing.html#indexing-view-versus-copy\n",
            "  \n"
          ],
          "name": "stderr"
        },
        {
          "output_type": "execute_result",
          "data": {
            "text/html": [
              "<div>\n",
              "<style scoped>\n",
              "    .dataframe tbody tr th:only-of-type {\n",
              "        vertical-align: middle;\n",
              "    }\n",
              "\n",
              "    .dataframe tbody tr th {\n",
              "        vertical-align: top;\n",
              "    }\n",
              "\n",
              "    .dataframe thead th {\n",
              "        text-align: right;\n",
              "    }\n",
              "</style>\n",
              "<table border=\"1\" class=\"dataframe\">\n",
              "  <thead>\n",
              "    <tr style=\"text-align: right;\">\n",
              "      <th></th>\n",
              "      <th>Request id</th>\n",
              "      <th>Pickup point</th>\n",
              "      <th>Driver id</th>\n",
              "      <th>Status</th>\n",
              "      <th>Request timestamp</th>\n",
              "      <th>Drop timestamp</th>\n",
              "      <th>Day</th>\n",
              "      <th>Day1</th>\n",
              "      <th>Monthdif</th>\n",
              "    </tr>\n",
              "  </thead>\n",
              "  <tbody>\n",
              "    <tr>\n",
              "      <th>0</th>\n",
              "      <td>619.0</td>\n",
              "      <td>Airport</td>\n",
              "      <td>1.0</td>\n",
              "      <td>Trip Completed</td>\n",
              "      <td>2016-11-07 11:51:00</td>\n",
              "      <td>2016-11-07 13:00:00</td>\n",
              "      <td>11.0</td>\n",
              "      <td>11.0</td>\n",
              "      <td>0.0</td>\n",
              "    </tr>\n",
              "    <tr>\n",
              "      <th>1</th>\n",
              "      <td>867.0</td>\n",
              "      <td>Airport</td>\n",
              "      <td>1.0</td>\n",
              "      <td>Trip Completed</td>\n",
              "      <td>2016-11-07 17:57:00</td>\n",
              "      <td>2016-11-07 18:47:00</td>\n",
              "      <td>11.0</td>\n",
              "      <td>11.0</td>\n",
              "      <td>0.0</td>\n",
              "    </tr>\n",
              "    <tr>\n",
              "      <th>2</th>\n",
              "      <td>1807.0</td>\n",
              "      <td>City</td>\n",
              "      <td>1.0</td>\n",
              "      <td>Trip Completed</td>\n",
              "      <td>2016-12-07 09:17:00</td>\n",
              "      <td>2016-12-07 09:58:00</td>\n",
              "      <td>12.0</td>\n",
              "      <td>12.0</td>\n",
              "      <td>0.0</td>\n",
              "    </tr>\n",
              "    <tr>\n",
              "      <th>3</th>\n",
              "      <td>2532.0</td>\n",
              "      <td>Airport</td>\n",
              "      <td>1.0</td>\n",
              "      <td>Trip Completed</td>\n",
              "      <td>2016-12-07 21:08:00</td>\n",
              "      <td>2016-12-07 22:03:00</td>\n",
              "      <td>12.0</td>\n",
              "      <td>12.0</td>\n",
              "      <td>0.0</td>\n",
              "    </tr>\n",
              "    <tr>\n",
              "      <th>4</th>\n",
              "      <td>3112.0</td>\n",
              "      <td>City</td>\n",
              "      <td>1.0</td>\n",
              "      <td>Trip Completed</td>\n",
              "      <td>2016-07-13 08:33:16</td>\n",
              "      <td>2016-07-13 09:25:47</td>\n",
              "      <td>7.0</td>\n",
              "      <td>7.0</td>\n",
              "      <td>0.0</td>\n",
              "    </tr>\n",
              "  </tbody>\n",
              "</table>\n",
              "</div>"
            ],
            "text/plain": [
              "   Request id Pickup point  Driver id  ...   Day  Day1 Monthdif\n",
              "0       619.0      Airport        1.0  ...  11.0  11.0      0.0\n",
              "1       867.0      Airport        1.0  ...  11.0  11.0      0.0\n",
              "2      1807.0         City        1.0  ...  12.0  12.0      0.0\n",
              "3      2532.0      Airport        1.0  ...  12.0  12.0      0.0\n",
              "4      3112.0         City        1.0  ...   7.0   7.0      0.0\n",
              "\n",
              "[5 rows x 9 columns]"
            ]
          },
          "metadata": {
            "tags": []
          },
          "execution_count": 110
        }
      ]
    },
    {
      "cell_type": "markdown",
      "metadata": {
        "id": "7iuCDqKK-VZa",
        "colab_type": "text"
      },
      "source": [
        "#### Here we can see that the now this anomaly is removed but there is some another problem as follows in the data -:"
      ]
    },
    {
      "cell_type": "code",
      "metadata": {
        "id": "YlUIMBT--GuC",
        "colab_type": "code",
        "outputId": "483893b6-2818-461a-b341-3e69b2092feb",
        "colab": {
          "base_uri": "https://localhost:8080/",
          "height": 198
        }
      },
      "source": [
        "df2=df.query('Monthdif!=0&Monthdif!=-1')\n",
        "df2.head()"
      ],
      "execution_count": 111,
      "outputs": [
        {
          "output_type": "execute_result",
          "data": {
            "text/html": [
              "<div>\n",
              "<style scoped>\n",
              "    .dataframe tbody tr th:only-of-type {\n",
              "        vertical-align: middle;\n",
              "    }\n",
              "\n",
              "    .dataframe tbody tr th {\n",
              "        vertical-align: top;\n",
              "    }\n",
              "\n",
              "    .dataframe thead th {\n",
              "        text-align: right;\n",
              "    }\n",
              "</style>\n",
              "<table border=\"1\" class=\"dataframe\">\n",
              "  <thead>\n",
              "    <tr style=\"text-align: right;\">\n",
              "      <th></th>\n",
              "      <th>Request id</th>\n",
              "      <th>Pickup point</th>\n",
              "      <th>Driver id</th>\n",
              "      <th>Status</th>\n",
              "      <th>Request timestamp</th>\n",
              "      <th>Drop timestamp</th>\n",
              "      <th>Day</th>\n",
              "      <th>Day1</th>\n",
              "      <th>Monthdif</th>\n",
              "    </tr>\n",
              "  </thead>\n",
              "  <tbody>\n",
              "    <tr>\n",
              "      <th>133</th>\n",
              "      <td>2675.0</td>\n",
              "      <td>Airport</td>\n",
              "      <td>15.0</td>\n",
              "      <td>Trip Completed</td>\n",
              "      <td>2016-12-07 23:43:00</td>\n",
              "      <td>2016-07-13 00:35:12</td>\n",
              "      <td>12.0</td>\n",
              "      <td>7.0</td>\n",
              "      <td>5.0</td>\n",
              "    </tr>\n",
              "    <tr>\n",
              "      <th>143</th>\n",
              "      <td>2661.0</td>\n",
              "      <td>Airport</td>\n",
              "      <td>16.0</td>\n",
              "      <td>Trip Completed</td>\n",
              "      <td>2016-12-07 23:23:00</td>\n",
              "      <td>2016-07-13 00:27:21</td>\n",
              "      <td>12.0</td>\n",
              "      <td>7.0</td>\n",
              "      <td>5.0</td>\n",
              "    </tr>\n",
              "    <tr>\n",
              "      <th>245</th>\n",
              "      <td>2667.0</td>\n",
              "      <td>Airport</td>\n",
              "      <td>25.0</td>\n",
              "      <td>Trip Completed</td>\n",
              "      <td>2016-12-07 23:35:00</td>\n",
              "      <td>2016-07-13 00:40:52</td>\n",
              "      <td>12.0</td>\n",
              "      <td>7.0</td>\n",
              "      <td>5.0</td>\n",
              "    </tr>\n",
              "    <tr>\n",
              "      <th>532</th>\n",
              "      <td>2665.0</td>\n",
              "      <td>Airport</td>\n",
              "      <td>55.0</td>\n",
              "      <td>Trip Completed</td>\n",
              "      <td>2016-12-07 23:30:00</td>\n",
              "      <td>2016-07-13 00:37:17</td>\n",
              "      <td>12.0</td>\n",
              "      <td>7.0</td>\n",
              "      <td>5.0</td>\n",
              "    </tr>\n",
              "    <tr>\n",
              "      <th>656</th>\n",
              "      <td>2664.0</td>\n",
              "      <td>Airport</td>\n",
              "      <td>69.0</td>\n",
              "      <td>Trip Completed</td>\n",
              "      <td>2016-12-07 23:26:00</td>\n",
              "      <td>2016-07-13 00:01:12</td>\n",
              "      <td>12.0</td>\n",
              "      <td>7.0</td>\n",
              "      <td>5.0</td>\n",
              "    </tr>\n",
              "  </tbody>\n",
              "</table>\n",
              "</div>"
            ],
            "text/plain": [
              "     Request id Pickup point  Driver id  ...   Day Day1 Monthdif\n",
              "133      2675.0      Airport       15.0  ...  12.0  7.0      5.0\n",
              "143      2661.0      Airport       16.0  ...  12.0  7.0      5.0\n",
              "245      2667.0      Airport       25.0  ...  12.0  7.0      5.0\n",
              "532      2665.0      Airport       55.0  ...  12.0  7.0      5.0\n",
              "656      2664.0      Airport       69.0  ...  12.0  7.0      5.0\n",
              "\n",
              "[5 rows x 9 columns]"
            ]
          },
          "metadata": {
            "tags": []
          },
          "execution_count": 111
        }
      ]
    },
    {
      "cell_type": "markdown",
      "metadata": {
        "id": "SxgMSNmx-loc",
        "colab_type": "text"
      },
      "source": [
        "#### There is another problem with the month as here it can be possible that time and date of request timestamp column has replaced with each other so we need to remove this anomaly also"
      ]
    },
    {
      "cell_type": "code",
      "metadata": {
        "id": "udEm1WYA-j_z",
        "colab_type": "code",
        "outputId": "eb2d5b37-931e-4a5a-eadb-60bc2d655488",
        "colab": {
          "base_uri": "https://localhost:8080/",
          "height": 962
        }
      },
      "source": [
        "df2['D']=5.0\n",
        "df2['C']=4\n",
        "df2['Request timestamp']=df2['Request timestamp']-df2['D'].values.astype(\"timedelta64[M]\")#Adding to the number of months in the column Request time stamp\n",
        "df2['Request timestamp']=df2['Request timestamp']+df2['C'].values.astype(\"timedelta64[D]\")#Subtracting to the number of Days in the column Request time stamp\n",
        "# Here we are adding hours to the time in Request timestamp column because after addition/Subtraction of months the time has changed\n",
        "df2['Request timestamp']=df2['Request timestamp']+datetime.timedelta(hours=4)\n",
        "df2['Request timestamp']=df2['Request timestamp']+datetime.timedelta(minutes=26)\n",
        "df2['Request timestamp']=df2['Request timestamp']-datetime.timedelta(seconds=30)\n",
        "df.update(df2)\n",
        "df=df.drop(['Day','Day1','Monthdif'],axis=1)\n",
        "df.head()"
      ],
      "execution_count": 112,
      "outputs": [
        {
          "output_type": "stream",
          "text": [
            "/usr/local/lib/python3.6/dist-packages/ipykernel_launcher.py:1: SettingWithCopyWarning: \n",
            "A value is trying to be set on a copy of a slice from a DataFrame.\n",
            "Try using .loc[row_indexer,col_indexer] = value instead\n",
            "\n",
            "See the caveats in the documentation: http://pandas.pydata.org/pandas-docs/stable/indexing.html#indexing-view-versus-copy\n",
            "  \"\"\"Entry point for launching an IPython kernel.\n",
            "/usr/local/lib/python3.6/dist-packages/ipykernel_launcher.py:2: SettingWithCopyWarning: \n",
            "A value is trying to be set on a copy of a slice from a DataFrame.\n",
            "Try using .loc[row_indexer,col_indexer] = value instead\n",
            "\n",
            "See the caveats in the documentation: http://pandas.pydata.org/pandas-docs/stable/indexing.html#indexing-view-versus-copy\n",
            "  \n",
            "/usr/local/lib/python3.6/dist-packages/ipykernel_launcher.py:3: SettingWithCopyWarning: \n",
            "A value is trying to be set on a copy of a slice from a DataFrame.\n",
            "Try using .loc[row_indexer,col_indexer] = value instead\n",
            "\n",
            "See the caveats in the documentation: http://pandas.pydata.org/pandas-docs/stable/indexing.html#indexing-view-versus-copy\n",
            "  This is separate from the ipykernel package so we can avoid doing imports until\n",
            "/usr/local/lib/python3.6/dist-packages/ipykernel_launcher.py:4: SettingWithCopyWarning: \n",
            "A value is trying to be set on a copy of a slice from a DataFrame.\n",
            "Try using .loc[row_indexer,col_indexer] = value instead\n",
            "\n",
            "See the caveats in the documentation: http://pandas.pydata.org/pandas-docs/stable/indexing.html#indexing-view-versus-copy\n",
            "  after removing the cwd from sys.path.\n",
            "/usr/local/lib/python3.6/dist-packages/ipykernel_launcher.py:6: SettingWithCopyWarning: \n",
            "A value is trying to be set on a copy of a slice from a DataFrame.\n",
            "Try using .loc[row_indexer,col_indexer] = value instead\n",
            "\n",
            "See the caveats in the documentation: http://pandas.pydata.org/pandas-docs/stable/indexing.html#indexing-view-versus-copy\n",
            "  \n",
            "/usr/local/lib/python3.6/dist-packages/ipykernel_launcher.py:7: SettingWithCopyWarning: \n",
            "A value is trying to be set on a copy of a slice from a DataFrame.\n",
            "Try using .loc[row_indexer,col_indexer] = value instead\n",
            "\n",
            "See the caveats in the documentation: http://pandas.pydata.org/pandas-docs/stable/indexing.html#indexing-view-versus-copy\n",
            "  import sys\n",
            "/usr/local/lib/python3.6/dist-packages/ipykernel_launcher.py:8: SettingWithCopyWarning: \n",
            "A value is trying to be set on a copy of a slice from a DataFrame.\n",
            "Try using .loc[row_indexer,col_indexer] = value instead\n",
            "\n",
            "See the caveats in the documentation: http://pandas.pydata.org/pandas-docs/stable/indexing.html#indexing-view-versus-copy\n",
            "  \n"
          ],
          "name": "stderr"
        },
        {
          "output_type": "execute_result",
          "data": {
            "text/html": [
              "<div>\n",
              "<style scoped>\n",
              "    .dataframe tbody tr th:only-of-type {\n",
              "        vertical-align: middle;\n",
              "    }\n",
              "\n",
              "    .dataframe tbody tr th {\n",
              "        vertical-align: top;\n",
              "    }\n",
              "\n",
              "    .dataframe thead th {\n",
              "        text-align: right;\n",
              "    }\n",
              "</style>\n",
              "<table border=\"1\" class=\"dataframe\">\n",
              "  <thead>\n",
              "    <tr style=\"text-align: right;\">\n",
              "      <th></th>\n",
              "      <th>Request id</th>\n",
              "      <th>Pickup point</th>\n",
              "      <th>Driver id</th>\n",
              "      <th>Status</th>\n",
              "      <th>Request timestamp</th>\n",
              "      <th>Drop timestamp</th>\n",
              "    </tr>\n",
              "  </thead>\n",
              "  <tbody>\n",
              "    <tr>\n",
              "      <th>0</th>\n",
              "      <td>619.0</td>\n",
              "      <td>Airport</td>\n",
              "      <td>1.0</td>\n",
              "      <td>Trip Completed</td>\n",
              "      <td>2016-11-07 11:51:00</td>\n",
              "      <td>2016-11-07 13:00:00</td>\n",
              "    </tr>\n",
              "    <tr>\n",
              "      <th>1</th>\n",
              "      <td>867.0</td>\n",
              "      <td>Airport</td>\n",
              "      <td>1.0</td>\n",
              "      <td>Trip Completed</td>\n",
              "      <td>2016-11-07 17:57:00</td>\n",
              "      <td>2016-11-07 18:47:00</td>\n",
              "    </tr>\n",
              "    <tr>\n",
              "      <th>2</th>\n",
              "      <td>1807.0</td>\n",
              "      <td>City</td>\n",
              "      <td>1.0</td>\n",
              "      <td>Trip Completed</td>\n",
              "      <td>2016-12-07 09:17:00</td>\n",
              "      <td>2016-12-07 09:58:00</td>\n",
              "    </tr>\n",
              "    <tr>\n",
              "      <th>3</th>\n",
              "      <td>2532.0</td>\n",
              "      <td>Airport</td>\n",
              "      <td>1.0</td>\n",
              "      <td>Trip Completed</td>\n",
              "      <td>2016-12-07 21:08:00</td>\n",
              "      <td>2016-12-07 22:03:00</td>\n",
              "    </tr>\n",
              "    <tr>\n",
              "      <th>4</th>\n",
              "      <td>3112.0</td>\n",
              "      <td>City</td>\n",
              "      <td>1.0</td>\n",
              "      <td>Trip Completed</td>\n",
              "      <td>2016-07-13 08:33:16</td>\n",
              "      <td>2016-07-13 09:25:47</td>\n",
              "    </tr>\n",
              "  </tbody>\n",
              "</table>\n",
              "</div>"
            ],
            "text/plain": [
              "   Request id Pickup point  ...   Request timestamp      Drop timestamp\n",
              "0       619.0      Airport  ... 2016-11-07 11:51:00 2016-11-07 13:00:00\n",
              "1       867.0      Airport  ... 2016-11-07 17:57:00 2016-11-07 18:47:00\n",
              "2      1807.0         City  ... 2016-12-07 09:17:00 2016-12-07 09:58:00\n",
              "3      2532.0      Airport  ... 2016-12-07 21:08:00 2016-12-07 22:03:00\n",
              "4      3112.0         City  ... 2016-07-13 08:33:16 2016-07-13 09:25:47\n",
              "\n",
              "[5 rows x 6 columns]"
            ]
          },
          "metadata": {
            "tags": []
          },
          "execution_count": 112
        }
      ]
    },
    {
      "cell_type": "markdown",
      "metadata": {
        "id": "Wnf-4jyl_QV5",
        "colab_type": "text"
      },
      "source": [
        "#### Now the data has been cleaned properly."
      ]
    },
    {
      "cell_type": "markdown",
      "metadata": {
        "id": "MQ2yRkIqNtXr",
        "colab_type": "text"
      },
      "source": [
        "## Deriving New Columns"
      ]
    },
    {
      "cell_type": "code",
      "metadata": {
        "id": "Om8lvC8SNwzT",
        "colab_type": "code",
        "colab": {}
      },
      "source": [
        "df['Session']=df['Request timestamp'].dt.hour.apply(lambda x:\"Night\" if x<6  else (\"Morning\" if x<12 else(\"Afternoon\" if x<18 else(\"Evening\"))))"
      ],
      "execution_count": 0,
      "outputs": []
    },
    {
      "cell_type": "code",
      "metadata": {
        "id": "P5ZLl2VfPkDB",
        "colab_type": "code",
        "outputId": "3a2285a9-acae-4c7e-e44a-d4c101365935",
        "colab": {
          "base_uri": "https://localhost:8080/",
          "height": 198
        }
      },
      "source": [
        "df.head()"
      ],
      "execution_count": 114,
      "outputs": [
        {
          "output_type": "execute_result",
          "data": {
            "text/html": [
              "<div>\n",
              "<style scoped>\n",
              "    .dataframe tbody tr th:only-of-type {\n",
              "        vertical-align: middle;\n",
              "    }\n",
              "\n",
              "    .dataframe tbody tr th {\n",
              "        vertical-align: top;\n",
              "    }\n",
              "\n",
              "    .dataframe thead th {\n",
              "        text-align: right;\n",
              "    }\n",
              "</style>\n",
              "<table border=\"1\" class=\"dataframe\">\n",
              "  <thead>\n",
              "    <tr style=\"text-align: right;\">\n",
              "      <th></th>\n",
              "      <th>Request id</th>\n",
              "      <th>Pickup point</th>\n",
              "      <th>Driver id</th>\n",
              "      <th>Status</th>\n",
              "      <th>Request timestamp</th>\n",
              "      <th>Drop timestamp</th>\n",
              "      <th>Session</th>\n",
              "    </tr>\n",
              "  </thead>\n",
              "  <tbody>\n",
              "    <tr>\n",
              "      <th>0</th>\n",
              "      <td>619.0</td>\n",
              "      <td>Airport</td>\n",
              "      <td>1.0</td>\n",
              "      <td>Trip Completed</td>\n",
              "      <td>2016-11-07 11:51:00</td>\n",
              "      <td>2016-11-07 13:00:00</td>\n",
              "      <td>Morning</td>\n",
              "    </tr>\n",
              "    <tr>\n",
              "      <th>1</th>\n",
              "      <td>867.0</td>\n",
              "      <td>Airport</td>\n",
              "      <td>1.0</td>\n",
              "      <td>Trip Completed</td>\n",
              "      <td>2016-11-07 17:57:00</td>\n",
              "      <td>2016-11-07 18:47:00</td>\n",
              "      <td>Afternoon</td>\n",
              "    </tr>\n",
              "    <tr>\n",
              "      <th>2</th>\n",
              "      <td>1807.0</td>\n",
              "      <td>City</td>\n",
              "      <td>1.0</td>\n",
              "      <td>Trip Completed</td>\n",
              "      <td>2016-12-07 09:17:00</td>\n",
              "      <td>2016-12-07 09:58:00</td>\n",
              "      <td>Morning</td>\n",
              "    </tr>\n",
              "    <tr>\n",
              "      <th>3</th>\n",
              "      <td>2532.0</td>\n",
              "      <td>Airport</td>\n",
              "      <td>1.0</td>\n",
              "      <td>Trip Completed</td>\n",
              "      <td>2016-12-07 21:08:00</td>\n",
              "      <td>2016-12-07 22:03:00</td>\n",
              "      <td>Evening</td>\n",
              "    </tr>\n",
              "    <tr>\n",
              "      <th>4</th>\n",
              "      <td>3112.0</td>\n",
              "      <td>City</td>\n",
              "      <td>1.0</td>\n",
              "      <td>Trip Completed</td>\n",
              "      <td>2016-07-13 08:33:16</td>\n",
              "      <td>2016-07-13 09:25:47</td>\n",
              "      <td>Morning</td>\n",
              "    </tr>\n",
              "  </tbody>\n",
              "</table>\n",
              "</div>"
            ],
            "text/plain": [
              "   Request id Pickup point  ...      Drop timestamp    Session\n",
              "0       619.0      Airport  ... 2016-11-07 13:00:00    Morning\n",
              "1       867.0      Airport  ... 2016-11-07 18:47:00  Afternoon\n",
              "2      1807.0         City  ... 2016-12-07 09:58:00    Morning\n",
              "3      2532.0      Airport  ... 2016-12-07 22:03:00    Evening\n",
              "4      3112.0         City  ... 2016-07-13 09:25:47    Morning\n",
              "\n",
              "[5 rows x 7 columns]"
            ]
          },
          "metadata": {
            "tags": []
          },
          "execution_count": 114
        }
      ]
    },
    {
      "cell_type": "code",
      "metadata": {
        "id": "RTQeR3LBAaFS",
        "colab_type": "code",
        "colab": {}
      },
      "source": [
        "df['Dropping Point']=df['Pickup point'].apply(lambda x:\"City\" if x=='Airport'else(\"City\"))"
      ],
      "execution_count": 0,
      "outputs": []
    },
    {
      "cell_type": "code",
      "metadata": {
        "id": "Sbg1AtMqQ2g6",
        "colab_type": "code",
        "colab": {}
      },
      "source": [
        "df['Availability']=df['Status'].apply(lambda x:\"Not Available\" if x=='No Cars Available' else(\"Available\"))"
      ],
      "execution_count": 0,
      "outputs": []
    },
    {
      "cell_type": "code",
      "metadata": {
        "id": "z5JrkFmTRN0a",
        "colab_type": "code",
        "outputId": "59dc1f09-a36a-44a9-8dd3-a292ae2f88cb",
        "colab": {
          "base_uri": "https://localhost:8080/",
          "height": 198
        }
      },
      "source": [
        "df.head()"
      ],
      "execution_count": 117,
      "outputs": [
        {
          "output_type": "execute_result",
          "data": {
            "text/html": [
              "<div>\n",
              "<style scoped>\n",
              "    .dataframe tbody tr th:only-of-type {\n",
              "        vertical-align: middle;\n",
              "    }\n",
              "\n",
              "    .dataframe tbody tr th {\n",
              "        vertical-align: top;\n",
              "    }\n",
              "\n",
              "    .dataframe thead th {\n",
              "        text-align: right;\n",
              "    }\n",
              "</style>\n",
              "<table border=\"1\" class=\"dataframe\">\n",
              "  <thead>\n",
              "    <tr style=\"text-align: right;\">\n",
              "      <th></th>\n",
              "      <th>Request id</th>\n",
              "      <th>Pickup point</th>\n",
              "      <th>Driver id</th>\n",
              "      <th>Status</th>\n",
              "      <th>Request timestamp</th>\n",
              "      <th>Drop timestamp</th>\n",
              "      <th>Session</th>\n",
              "      <th>Dropping Point</th>\n",
              "      <th>Availability</th>\n",
              "    </tr>\n",
              "  </thead>\n",
              "  <tbody>\n",
              "    <tr>\n",
              "      <th>0</th>\n",
              "      <td>619.0</td>\n",
              "      <td>Airport</td>\n",
              "      <td>1.0</td>\n",
              "      <td>Trip Completed</td>\n",
              "      <td>2016-11-07 11:51:00</td>\n",
              "      <td>2016-11-07 13:00:00</td>\n",
              "      <td>Morning</td>\n",
              "      <td>City</td>\n",
              "      <td>Available</td>\n",
              "    </tr>\n",
              "    <tr>\n",
              "      <th>1</th>\n",
              "      <td>867.0</td>\n",
              "      <td>Airport</td>\n",
              "      <td>1.0</td>\n",
              "      <td>Trip Completed</td>\n",
              "      <td>2016-11-07 17:57:00</td>\n",
              "      <td>2016-11-07 18:47:00</td>\n",
              "      <td>Afternoon</td>\n",
              "      <td>City</td>\n",
              "      <td>Available</td>\n",
              "    </tr>\n",
              "    <tr>\n",
              "      <th>2</th>\n",
              "      <td>1807.0</td>\n",
              "      <td>City</td>\n",
              "      <td>1.0</td>\n",
              "      <td>Trip Completed</td>\n",
              "      <td>2016-12-07 09:17:00</td>\n",
              "      <td>2016-12-07 09:58:00</td>\n",
              "      <td>Morning</td>\n",
              "      <td>City</td>\n",
              "      <td>Available</td>\n",
              "    </tr>\n",
              "    <tr>\n",
              "      <th>3</th>\n",
              "      <td>2532.0</td>\n",
              "      <td>Airport</td>\n",
              "      <td>1.0</td>\n",
              "      <td>Trip Completed</td>\n",
              "      <td>2016-12-07 21:08:00</td>\n",
              "      <td>2016-12-07 22:03:00</td>\n",
              "      <td>Evening</td>\n",
              "      <td>City</td>\n",
              "      <td>Available</td>\n",
              "    </tr>\n",
              "    <tr>\n",
              "      <th>4</th>\n",
              "      <td>3112.0</td>\n",
              "      <td>City</td>\n",
              "      <td>1.0</td>\n",
              "      <td>Trip Completed</td>\n",
              "      <td>2016-07-13 08:33:16</td>\n",
              "      <td>2016-07-13 09:25:47</td>\n",
              "      <td>Morning</td>\n",
              "      <td>City</td>\n",
              "      <td>Available</td>\n",
              "    </tr>\n",
              "  </tbody>\n",
              "</table>\n",
              "</div>"
            ],
            "text/plain": [
              "   Request id Pickup point  Driver id  ...    Session Dropping Point Availability\n",
              "0       619.0      Airport        1.0  ...    Morning           City    Available\n",
              "1       867.0      Airport        1.0  ...  Afternoon           City    Available\n",
              "2      1807.0         City        1.0  ...    Morning           City    Available\n",
              "3      2532.0      Airport        1.0  ...    Evening           City    Available\n",
              "4      3112.0         City        1.0  ...    Morning           City    Available\n",
              "\n",
              "[5 rows x 9 columns]"
            ]
          },
          "metadata": {
            "tags": []
          },
          "execution_count": 117
        }
      ]
    },
    {
      "cell_type": "code",
      "metadata": {
        "id": "lLkb0no1H7n6",
        "colab_type": "code",
        "colab": {}
      },
      "source": [
        "df['Request Hour']=df['Request timestamp'].dt.hour"
      ],
      "execution_count": 0,
      "outputs": []
    },
    {
      "cell_type": "code",
      "metadata": {
        "id": "k4g0hUJ3ICYC",
        "colab_type": "code",
        "colab": {
          "base_uri": "https://localhost:8080/",
          "height": 302
        },
        "outputId": "c73ecd33-fded-48d0-d565-d97e7d5cd31a"
      },
      "source": [
        "df.head()"
      ],
      "execution_count": 119,
      "outputs": [
        {
          "output_type": "execute_result",
          "data": {
            "text/html": [
              "<div>\n",
              "<style scoped>\n",
              "    .dataframe tbody tr th:only-of-type {\n",
              "        vertical-align: middle;\n",
              "    }\n",
              "\n",
              "    .dataframe tbody tr th {\n",
              "        vertical-align: top;\n",
              "    }\n",
              "\n",
              "    .dataframe thead th {\n",
              "        text-align: right;\n",
              "    }\n",
              "</style>\n",
              "<table border=\"1\" class=\"dataframe\">\n",
              "  <thead>\n",
              "    <tr style=\"text-align: right;\">\n",
              "      <th></th>\n",
              "      <th>Request id</th>\n",
              "      <th>Pickup point</th>\n",
              "      <th>Driver id</th>\n",
              "      <th>Status</th>\n",
              "      <th>Request timestamp</th>\n",
              "      <th>Drop timestamp</th>\n",
              "      <th>Session</th>\n",
              "      <th>Dropping Point</th>\n",
              "      <th>Availability</th>\n",
              "      <th>Request Hour</th>\n",
              "    </tr>\n",
              "  </thead>\n",
              "  <tbody>\n",
              "    <tr>\n",
              "      <th>0</th>\n",
              "      <td>619.0</td>\n",
              "      <td>Airport</td>\n",
              "      <td>1.0</td>\n",
              "      <td>Trip Completed</td>\n",
              "      <td>2016-11-07 11:51:00</td>\n",
              "      <td>2016-11-07 13:00:00</td>\n",
              "      <td>Morning</td>\n",
              "      <td>City</td>\n",
              "      <td>Available</td>\n",
              "      <td>11</td>\n",
              "    </tr>\n",
              "    <tr>\n",
              "      <th>1</th>\n",
              "      <td>867.0</td>\n",
              "      <td>Airport</td>\n",
              "      <td>1.0</td>\n",
              "      <td>Trip Completed</td>\n",
              "      <td>2016-11-07 17:57:00</td>\n",
              "      <td>2016-11-07 18:47:00</td>\n",
              "      <td>Afternoon</td>\n",
              "      <td>City</td>\n",
              "      <td>Available</td>\n",
              "      <td>17</td>\n",
              "    </tr>\n",
              "    <tr>\n",
              "      <th>2</th>\n",
              "      <td>1807.0</td>\n",
              "      <td>City</td>\n",
              "      <td>1.0</td>\n",
              "      <td>Trip Completed</td>\n",
              "      <td>2016-12-07 09:17:00</td>\n",
              "      <td>2016-12-07 09:58:00</td>\n",
              "      <td>Morning</td>\n",
              "      <td>City</td>\n",
              "      <td>Available</td>\n",
              "      <td>9</td>\n",
              "    </tr>\n",
              "    <tr>\n",
              "      <th>3</th>\n",
              "      <td>2532.0</td>\n",
              "      <td>Airport</td>\n",
              "      <td>1.0</td>\n",
              "      <td>Trip Completed</td>\n",
              "      <td>2016-12-07 21:08:00</td>\n",
              "      <td>2016-12-07 22:03:00</td>\n",
              "      <td>Evening</td>\n",
              "      <td>City</td>\n",
              "      <td>Available</td>\n",
              "      <td>21</td>\n",
              "    </tr>\n",
              "    <tr>\n",
              "      <th>4</th>\n",
              "      <td>3112.0</td>\n",
              "      <td>City</td>\n",
              "      <td>1.0</td>\n",
              "      <td>Trip Completed</td>\n",
              "      <td>2016-07-13 08:33:16</td>\n",
              "      <td>2016-07-13 09:25:47</td>\n",
              "      <td>Morning</td>\n",
              "      <td>City</td>\n",
              "      <td>Available</td>\n",
              "      <td>8</td>\n",
              "    </tr>\n",
              "  </tbody>\n",
              "</table>\n",
              "</div>"
            ],
            "text/plain": [
              "   Request id Pickup point  Driver id  ... Dropping Point Availability Request Hour\n",
              "0       619.0      Airport        1.0  ...           City    Available           11\n",
              "1       867.0      Airport        1.0  ...           City    Available           17\n",
              "2      1807.0         City        1.0  ...           City    Available            9\n",
              "3      2532.0      Airport        1.0  ...           City    Available           21\n",
              "4      3112.0         City        1.0  ...           City    Available            8\n",
              "\n",
              "[5 rows x 10 columns]"
            ]
          },
          "metadata": {
            "tags": []
          },
          "execution_count": 119
        }
      ]
    },
    {
      "cell_type": "markdown",
      "metadata": {
        "id": "JgyQ0WUXIZWl",
        "colab_type": "text"
      },
      "source": [
        "## Datatypes Used"
      ]
    },
    {
      "cell_type": "code",
      "metadata": {
        "id": "pArQshPUERKJ",
        "colab_type": "code",
        "outputId": "f01de81a-55f0-40f5-fdba-2a4480197259",
        "colab": {
          "base_uri": "https://localhost:8080/",
          "height": 290
        }
      },
      "source": [
        "df.info()"
      ],
      "execution_count": 120,
      "outputs": [
        {
          "output_type": "stream",
          "text": [
            "<class 'pandas.core.frame.DataFrame'>\n",
            "RangeIndex: 6745 entries, 0 to 6744\n",
            "Data columns (total 10 columns):\n",
            "Request id           6745 non-null float64\n",
            "Pickup point         6745 non-null object\n",
            "Driver id            4095 non-null float64\n",
            "Status               6745 non-null object\n",
            "Request timestamp    6745 non-null datetime64[ns]\n",
            "Drop timestamp       2831 non-null datetime64[ns]\n",
            "Session              6745 non-null object\n",
            "Dropping Point       6745 non-null object\n",
            "Availability         6745 non-null object\n",
            "Request Hour         6745 non-null int64\n",
            "dtypes: datetime64[ns](2), float64(2), int64(1), object(5)\n",
            "memory usage: 527.0+ KB\n"
          ],
          "name": "stdout"
        }
      ]
    },
    {
      "cell_type": "markdown",
      "metadata": {
        "id": "nUZWuYUzImGo",
        "colab_type": "text"
      },
      "source": [
        "#### It is visible from the above analysis that there are 2 type of float type columns , 2 datetime type columns and also 2 object type columns"
      ]
    },
    {
      "cell_type": "code",
      "metadata": {
        "id": "Cwv7qRWu_Fc8",
        "colab_type": "code",
        "outputId": "17ee94d3-fa03-42a5-9fa4-2279a325d27d",
        "colab": {
          "base_uri": "https://localhost:8080/",
          "height": 217
        }
      },
      "source": [
        "#To check the number of unique values in each columns of dataset\n",
        "df.apply( lambda x: len(x.unique()))"
      ],
      "execution_count": 121,
      "outputs": [
        {
          "output_type": "execute_result",
          "data": {
            "text/plain": [
              "Request id           6745\n",
              "Pickup point            2\n",
              "Driver id             301\n",
              "Status                  3\n",
              "Request timestamp    6029\n",
              "Drop timestamp       2599\n",
              "Session                 4\n",
              "Dropping Point          1\n",
              "Availability            2\n",
              "Request Hour           24\n",
              "dtype: int64"
            ]
          },
          "metadata": {
            "tags": []
          },
          "execution_count": 121
        }
      ]
    },
    {
      "cell_type": "markdown",
      "metadata": {
        "id": "cmk9NR63I9Tm",
        "colab_type": "text"
      },
      "source": [
        "#### Here we can see that there are 3 type of status value and 2 type of Pickpoint Value."
      ]
    },
    {
      "cell_type": "markdown",
      "metadata": {
        "id": "FjtuxuLRJIf7",
        "colab_type": "text"
      },
      "source": [
        "## Identifying th Pressing Problems"
      ]
    },
    {
      "cell_type": "markdown",
      "metadata": {
        "id": "gMfHAGWmJMIm",
        "colab_type": "text"
      },
      "source": [
        "### 1. Pickup Point"
      ]
    },
    {
      "cell_type": "code",
      "metadata": {
        "id": "XgC1ArHTI7fs",
        "colab_type": "code",
        "outputId": "c95ebc3d-51c4-4f0d-cbe8-ee1c904a921a",
        "colab": {
          "base_uri": "https://localhost:8080/",
          "height": 108
        }
      },
      "source": [
        "df['Pickup point'].describe()"
      ],
      "execution_count": 122,
      "outputs": [
        {
          "output_type": "execute_result",
          "data": {
            "text/plain": [
              "count     6745\n",
              "unique       2\n",
              "top       City\n",
              "freq      3507\n",
              "Name: Pickup point, dtype: object"
            ]
          },
          "metadata": {
            "tags": []
          },
          "execution_count": 122
        }
      ]
    },
    {
      "cell_type": "markdown",
      "metadata": {
        "id": "GYEja2OaJaKu",
        "colab_type": "text"
      },
      "source": [
        "#### Here we can see that there are maximum pickup points are from City."
      ]
    },
    {
      "cell_type": "code",
      "metadata": {
        "id": "jKWuWN-HJXIE",
        "colab_type": "code",
        "outputId": "211105eb-ecc7-44e7-b3aa-6524f8887539",
        "colab": {
          "base_uri": "https://localhost:8080/",
          "height": 90
        }
      },
      "source": [
        "df1=df.groupby('Pickup point').size()\n",
        "df1"
      ],
      "execution_count": 123,
      "outputs": [
        {
          "output_type": "execute_result",
          "data": {
            "text/plain": [
              "Pickup point\n",
              "Airport    3238\n",
              "City       3507\n",
              "dtype: int64"
            ]
          },
          "metadata": {
            "tags": []
          },
          "execution_count": 123
        }
      ]
    },
    {
      "cell_type": "markdown",
      "metadata": {
        "id": "6cZ-r-zHJs5P",
        "colab_type": "text"
      },
      "source": [
        "#### There are 3238 times from which the Pickup point is Airport whereas  there are 3507 times from which the Pickup point is Airport ."
      ]
    },
    {
      "cell_type": "code",
      "metadata": {
        "id": "RFWAlJJ2JolY",
        "colab_type": "code",
        "outputId": "2dddfa8a-f1ad-40a0-fed6-045702b383af",
        "colab": {
          "base_uri": "https://localhost:8080/",
          "height": 532
        }
      },
      "source": [
        "k=sns.countplot(df['Pickup point'])\n",
        "k.set_title('Pickup point')"
      ],
      "execution_count": 124,
      "outputs": [
        {
          "output_type": "execute_result",
          "data": {
            "text/plain": [
              "Text(0.5, 1.0, 'Pickup point')"
            ]
          },
          "metadata": {
            "tags": []
          },
          "execution_count": 124
        },
        {
          "output_type": "display_data",
          "data": {
            "image/png": "[encoded data removed]",
            "text/plain": [
              "<Figure size 1080x576 with 1 Axes>"
            ]
          },
          "metadata": {
            "tags": []
          }
        }
      ]
    },
    {
      "cell_type": "markdown",
      "metadata": {
        "id": "RRS1jy4xKLGE",
        "colab_type": "text"
      },
      "source": [
        "#### The Pickup point are nearly equal to each other according to the graph"
      ]
    },
    {
      "cell_type": "code",
      "metadata": {
        "id": "NfK7GKZbJ-o4",
        "colab_type": "code",
        "outputId": "005e9a57-c87e-44b0-d24c-c812418b6eeb",
        "colab": {
          "base_uri": "https://localhost:8080/",
          "height": 583
        }
      },
      "source": [
        "pie(df1,labels=df1.index,autopct='%1.1f%%')"
      ],
      "execution_count": 125,
      "outputs": [
        {
          "output_type": "execute_result",
          "data": {
            "text/plain": [
              "([<matplotlib.patches.Wedge at 0x7f36d821af98>,\n",
              "  <matplotlib.patches.Wedge at 0x7f36d821b710>],\n",
              " [Text(0.06886506273679674, 1.0978422487471764, 'Airport'),\n",
              "  Text(-0.06886516552420652, -1.097842242299559, 'City')],\n",
              " [Text(0.03756276149279821, 0.5988230447711871, '48.0%'),\n",
              "  Text(-0.0375628175586581, -0.5988230412543049, '52.0%')])"
            ]
          },
          "metadata": {
            "tags": []
          },
          "execution_count": 125
        },
        {
          "output_type": "display_data",
          "data": {
            "image/png": "[encoded data removed]",
            "text/plain": [
              "<Figure size 1080x576 with 1 Axes>"
            ]
          },
          "metadata": {
            "tags": []
          }
        }
      ]
    },
    {
      "cell_type": "markdown",
      "metadata": {
        "id": "gRS3eYqIK8Sq",
        "colab_type": "text"
      },
      "source": [
        "#### From the above graph it is visible that 52 % times the pickup point is City whereas 48 % time the pickup point is Airport."
      ]
    },
    {
      "cell_type": "markdown",
      "metadata": {
        "id": "pw5Isi1OLW3V",
        "colab_type": "text"
      },
      "source": [
        "### Status"
      ]
    },
    {
      "cell_type": "code",
      "metadata": {
        "id": "gsc9M3BRLWjq",
        "colab_type": "code",
        "outputId": "e3e375cf-a69f-4aaf-e3c9-24db84cca1b0",
        "colab": {
          "base_uri": "https://localhost:8080/",
          "height": 108
        }
      },
      "source": [
        "df['Status'].describe()\n"
      ],
      "execution_count": 126,
      "outputs": [
        {
          "output_type": "execute_result",
          "data": {
            "text/plain": [
              "count               6745\n",
              "unique                 3\n",
              "top       Trip Completed\n",
              "freq                2831\n",
              "Name: Status, dtype: object"
            ]
          },
          "metadata": {
            "tags": []
          },
          "execution_count": 126
        }
      ]
    },
    {
      "cell_type": "markdown",
      "metadata": {
        "id": "xiDp82tILoVS",
        "colab_type": "text"
      },
      "source": [
        "#### It is visible from the above analysis that mostly the Trip has completed that is 2831 times."
      ]
    },
    {
      "cell_type": "code",
      "metadata": {
        "id": "1IFtnHgFMqrq",
        "colab_type": "code",
        "outputId": "024f4b71-5abe-4a36-d6df-b0615fc7a434",
        "colab": {
          "base_uri": "https://localhost:8080/",
          "height": 108
        }
      },
      "source": [
        "df2=df.groupby('Status').size()\n",
        "df2"
      ],
      "execution_count": 127,
      "outputs": [
        {
          "output_type": "execute_result",
          "data": {
            "text/plain": [
              "Status\n",
              "Cancelled            1264\n",
              "No Cars Available    2650\n",
              "Trip Completed       2831\n",
              "dtype: int64"
            ]
          },
          "metadata": {
            "tags": []
          },
          "execution_count": 127
        }
      ]
    },
    {
      "cell_type": "markdown",
      "metadata": {
        "id": "k5Tx5xaqMswP",
        "colab_type": "text"
      },
      "source": [
        "#### There are 1264 times the Request from costumer has been Cancelled  whereas 2650 times there are No cars available whereas 2831 times , the trip has been completed"
      ]
    },
    {
      "cell_type": "code",
      "metadata": {
        "id": "qwDB507NKax_",
        "colab_type": "code",
        "outputId": "69ec7ad0-9fa6-4ebf-90e5-d50d71fd806b",
        "colab": {
          "base_uri": "https://localhost:8080/",
          "height": 518
        }
      },
      "source": [
        "sns.countplot(df['Status'])"
      ],
      "execution_count": 128,
      "outputs": [
        {
          "output_type": "execute_result",
          "data": {
            "text/plain": [
              "<matplotlib.axes._subplots.AxesSubplot at 0x7f36d80acb38>"
            ]
          },
          "metadata": {
            "tags": []
          },
          "execution_count": 128
        },
        {
          "output_type": "display_data",
          "data": {
            "image/png": "[encoded data removed]",
            "text/plain": [
              "<Figure size 1080x576 with 1 Axes>"
            ]
          },
          "metadata": {
            "tags": []
          }
        }
      ]
    },
    {
      "cell_type": "markdown",
      "metadata": {
        "id": "7i0ASDL5L09K",
        "colab_type": "text"
      },
      "source": [
        "#### Here it can be seen that the trips completed and No cars Available has the maximum frequency."
      ]
    },
    {
      "cell_type": "code",
      "metadata": {
        "id": "wQfR2XypLyo2",
        "colab_type": "code",
        "outputId": "9f45dc6f-d64b-41dd-8df3-ca1feab69f86",
        "colab": {
          "base_uri": "https://localhost:8080/",
          "height": 637
        }
      },
      "source": [
        "pie(df2,labels=df2.index,autopct='%1.1f%%')"
      ],
      "execution_count": 129,
      "outputs": [
        {
          "output_type": "execute_result",
          "data": {
            "text/plain": [
              "([<matplotlib.patches.Wedge at 0x7f36d7f8b5f8>,\n",
              "  <matplotlib.patches.Wedge at 0x7f36d7f8bd30>,\n",
              "  <matplotlib.patches.Wedge at 0x7f36d7f84470>],\n",
              " [Text(0.9148122117335421, 0.6108343615606322, 'Cancelled'),\n",
              "  Text(-0.8197978372292601, 0.7334381405914392, 'No Cars Available'),\n",
              "  Text(0.27450168572516787, -1.0651989600699212, 'Trip Completed')],\n",
              " [Text(0.49898847912738653, 0.3331823790330721, '18.7%'),\n",
              "  Text(-0.44716245667050547, 0.40005716759533044, '39.3%'),\n",
              "  Text(0.1497281922137279, -0.5810176145835932, '42.0%')])"
            ]
          },
          "metadata": {
            "tags": []
          },
          "execution_count": 129
        },
        {
          "output_type": "display_data",
          "data": {
            "image/png": "[encoded data removed]",
            "text/plain": [
              "<Figure size 1080x576 with 1 Axes>"
            ]
          },
          "metadata": {
            "tags": []
          }
        }
      ]
    },
    {
      "cell_type": "markdown",
      "metadata": {
        "id": "V6ekusD_NSKn",
        "colab_type": "text"
      },
      "source": [
        "#### So from the above analysis it is visible that 39.3 % times when the user putted a car request there were no cars available whereas 18.7 % times the trip was cancelled whereas 42 % times the trip was completed from the total request."
      ]
    },
    {
      "cell_type": "markdown",
      "metadata": {
        "id": "HT4pxohpRR1T",
        "colab_type": "text"
      },
      "source": [
        "## Session"
      ]
    },
    {
      "cell_type": "code",
      "metadata": {
        "id": "sc_3_seJMje2",
        "colab_type": "code",
        "outputId": "c50f670f-1653-43e2-b74e-1e20e4bd2b5f",
        "colab": {
          "base_uri": "https://localhost:8080/",
          "height": 108
        }
      },
      "source": [
        "df['Session'].describe()"
      ],
      "execution_count": 130,
      "outputs": [
        {
          "output_type": "execute_result",
          "data": {
            "text/plain": [
              "count        6745\n",
              "unique          4\n",
              "top       Evening\n",
              "freq         2422\n",
              "Name: Session, dtype: object"
            ]
          },
          "metadata": {
            "tags": []
          },
          "execution_count": 130
        }
      ]
    },
    {
      "cell_type": "markdown",
      "metadata": {
        "id": "OW4XCUItRX-l",
        "colab_type": "text"
      },
      "source": [
        "#### Here it is visible that the maximum time the Request has been made in Evening times that is 2422 times"
      ]
    },
    {
      "cell_type": "code",
      "metadata": {
        "id": "hMPLd1bTRXse",
        "colab_type": "code",
        "outputId": "47d6d2cb-85a6-4356-9944-53ab305e41af",
        "colab": {
          "base_uri": "https://localhost:8080/",
          "height": 126
        }
      },
      "source": [
        "df3=df.groupby('Session').size()\n",
        "df3"
      ],
      "execution_count": 131,
      "outputs": [
        {
          "output_type": "execute_result",
          "data": {
            "text/plain": [
              "Session\n",
              "Afternoon    1228\n",
              "Evening      2422\n",
              "Morning      2072\n",
              "Night        1023\n",
              "dtype: int64"
            ]
          },
          "metadata": {
            "tags": []
          },
          "execution_count": 131
        }
      ]
    },
    {
      "cell_type": "markdown",
      "metadata": {
        "id": "G4ybQMhCR26v",
        "colab_type": "text"
      },
      "source": [
        "#### Here we can see the distribution of the requests made according to the sessions as we can see that maximum times the request is made on Evening that is 2422 times whereas on night the requests are made minimum times that is 1023 times."
      ]
    },
    {
      "cell_type": "code",
      "metadata": {
        "id": "po0gJ-lzRWVa",
        "colab_type": "code",
        "outputId": "3d4b8210-c932-4d4e-9080-a54d0b32a9e1",
        "colab": {
          "base_uri": "https://localhost:8080/",
          "height": 518
        }
      },
      "source": [
        "sns.countplot(df['Session'])"
      ],
      "execution_count": 132,
      "outputs": [
        {
          "output_type": "execute_result",
          "data": {
            "text/plain": [
              "<matplotlib.axes._subplots.AxesSubplot at 0x7f36d7f798d0>"
            ]
          },
          "metadata": {
            "tags": []
          },
          "execution_count": 132
        },
        {
          "output_type": "display_data",
          "data": {
            "image/png": "[encoded data removed]",
            "text/plain": [
              "<Figure size 1080x576 with 1 Axes>"
            ]
          },
          "metadata": {
            "tags": []
          }
        }
      ]
    },
    {
      "cell_type": "markdown",
      "metadata": {
        "id": "tW1riFeDSqAR",
        "colab_type": "text"
      },
      "source": [
        "#### From here we can see the visualiztion on the column session also"
      ]
    },
    {
      "cell_type": "code",
      "metadata": {
        "id": "xRImvvHxSn6F",
        "colab_type": "code",
        "outputId": "6572d1d5-112b-45cb-ef4b-f4139f5e3696",
        "colab": {
          "base_uri": "https://localhost:8080/",
          "height": 692
        }
      },
      "source": [
        "pie(df3,labels=df3.index,autopct='%1.1f%%')"
      ],
      "execution_count": 133,
      "outputs": [
        {
          "output_type": "execute_result",
          "data": {
            "text/plain": [
              "([<matplotlib.patches.Wedge at 0x7f36d801bfd0>,\n",
              "  <matplotlib.patches.Wedge at 0x7f36d8024748>,\n",
              "  <matplotlib.patches.Wedge at 0x7f36d8024da0>,\n",
              "  <matplotlib.patches.Wedge at 0x7f36d802d4e0>],\n",
              " [Text(0.9249253418358186, 0.5954100368904561, 'Afternoon'),\n",
              "  Text(-0.7096577400126294, 0.8404676626974815, 'Evening'),\n",
              "  Text(-0.3743225163513971, -1.034351320273899, 'Morning'),\n",
              "  Text(0.977476988688673, -0.5045183213562455, 'Night')],\n",
              " [Text(0.5045047319104464, 0.32476911103115785, '18.2%'),\n",
              "  Text(-0.3870860400068887, 0.45843690692589895, '35.9%'),\n",
              "  Text(-0.20417591800985296, -0.5641916292403085, '30.7%'),\n",
              "  Text(0.533169266557458, -0.2751918116488612, '15.2%')])"
            ]
          },
          "metadata": {
            "tags": []
          },
          "execution_count": 133
        },
        {
          "output_type": "display_data",
          "data": {
            "image/png": "[encoded data removed]",
            "text/plain": [
              "<Figure size 1080x576 with 1 Axes>"
            ]
          },
          "metadata": {
            "tags": []
          }
        }
      ]
    },
    {
      "cell_type": "markdown",
      "metadata": {
        "id": "LvWiw4mLTJp_",
        "colab_type": "text"
      },
      "source": [
        "#### From the above visualization, we can see that 35.9% of requests are made on Evening whereas 30.7% of requests made on Morning . "
      ]
    },
    {
      "cell_type": "markdown",
      "metadata": {
        "id": "tfkwQ5_DTqR5",
        "colab_type": "text"
      },
      "source": [
        "### Availability"
      ]
    },
    {
      "cell_type": "code",
      "metadata": {
        "id": "UPzF9_l4TBBU",
        "colab_type": "code",
        "outputId": "324c4674-0e95-4de7-f787-be0ebc4e7547",
        "colab": {
          "base_uri": "https://localhost:8080/",
          "height": 108
        }
      },
      "source": [
        "df['Availability'].describe()"
      ],
      "execution_count": 134,
      "outputs": [
        {
          "output_type": "execute_result",
          "data": {
            "text/plain": [
              "count          6745\n",
              "unique            2\n",
              "top       Available\n",
              "freq           4095\n",
              "Name: Availability, dtype: object"
            ]
          },
          "metadata": {
            "tags": []
          },
          "execution_count": 134
        }
      ]
    },
    {
      "cell_type": "markdown",
      "metadata": {
        "id": "FcocjV1rT7EK",
        "colab_type": "text"
      },
      "source": [
        "#### Here it can be noted that about 4095 times the cars are available."
      ]
    },
    {
      "cell_type": "code",
      "metadata": {
        "id": "0CQQ_vmkT51d",
        "colab_type": "code",
        "outputId": "dfa13a67-f896-43c2-92db-48501fb0f310",
        "colab": {
          "base_uri": "https://localhost:8080/",
          "height": 90
        }
      },
      "source": [
        "df4=df.groupby('Availability').size()\n",
        "df4"
      ],
      "execution_count": 135,
      "outputs": [
        {
          "output_type": "execute_result",
          "data": {
            "text/plain": [
              "Availability\n",
              "Available        4095\n",
              "Not Available    2650\n",
              "dtype: int64"
            ]
          },
          "metadata": {
            "tags": []
          },
          "execution_count": 135
        }
      ]
    },
    {
      "cell_type": "markdown",
      "metadata": {
        "id": "BhAp57_GUO-F",
        "colab_type": "text"
      },
      "source": [
        "#### In the above analysis we can see the above distribution that the number of times the cars were available are more than they are not available."
      ]
    },
    {
      "cell_type": "code",
      "metadata": {
        "id": "Dmiaq-z5UIea",
        "colab_type": "code",
        "outputId": "89c29f7b-cd79-4f76-84b5-b26bd3363884",
        "colab": {
          "base_uri": "https://localhost:8080/",
          "height": 518
        }
      },
      "source": [
        "sns.countplot(df['Availability'])"
      ],
      "execution_count": 136,
      "outputs": [
        {
          "output_type": "execute_result",
          "data": {
            "text/plain": [
              "<matplotlib.axes._subplots.AxesSubplot at 0x7f36d7fb9748>"
            ]
          },
          "metadata": {
            "tags": []
          },
          "execution_count": 136
        },
        {
          "output_type": "display_data",
          "data": {
            "image/png": "[encoded data removed]",
            "text/plain": [
              "<Figure size 1080x576 with 1 Axes>"
            ]
          },
          "metadata": {
            "tags": []
          }
        }
      ]
    },
    {
      "cell_type": "markdown",
      "metadata": {
        "id": "6BbkYblW2lHQ",
        "colab_type": "text"
      },
      "source": [
        "#### Here we can see that number of available cars at the time of request are more than the number of car not availabe at that time."
      ]
    },
    {
      "cell_type": "code",
      "metadata": {
        "id": "1YnbLVP31zrE",
        "colab_type": "code",
        "outputId": "bc07d746-3333-4d74-b3b8-6232a1ed81b0",
        "colab": {
          "base_uri": "https://localhost:8080/",
          "height": 583
        }
      },
      "source": [
        "pie(df4,labels=df4.index,autopct='%1.1f%%')"
      ],
      "execution_count": 137,
      "outputs": [
        {
          "output_type": "execute_result",
          "data": {
            "text/plain": [
              "([<matplotlib.patches.Wedge at 0x7f36d7f6fc50>,\n",
              "  <matplotlib.patches.Wedge at 0x7f36d7efa3c8>],\n",
              " [Text(-0.36322067218241233, 1.0383018555792707, 'Available'),\n",
              "  Text(0.3632207693952466, -1.0383018215720925, 'Not Available')],\n",
              " [Text(-0.19812036664495217, 0.5663464666796022, '60.7%'),\n",
              "  Text(0.1981204196701345, -0.5663464481302322, '39.3%')])"
            ]
          },
          "metadata": {
            "tags": []
          },
          "execution_count": 137
        },
        {
          "output_type": "display_data",
          "data": {
            "image/png": "[encoded data removed]",
            "text/plain": [
              "<Figure size 1080x576 with 1 Axes>"
            ]
          },
          "metadata": {
            "tags": []
          }
        }
      ]
    },
    {
      "cell_type": "markdown",
      "metadata": {
        "id": "dWXWHhbD3UW1",
        "colab_type": "text"
      },
      "source": [
        "#### Accorrding to the above graph we can say that 60.7% times the cars are available and 39.3 % times the cars are not available"
      ]
    },
    {
      "cell_type": "markdown",
      "metadata": {
        "id": "ovENWXV0MBjQ",
        "colab_type": "text"
      },
      "source": [
        "### Gap between supply and demand"
      ]
    },
    {
      "cell_type": "markdown",
      "metadata": {
        "id": "aHbkoVHLJEGv",
        "colab_type": "text"
      },
      "source": [
        "### Request Hour Time slot"
      ]
    },
    {
      "cell_type": "code",
      "metadata": {
        "id": "qiWiHD0OJMaC",
        "colab_type": "code",
        "colab": {
          "base_uri": "https://localhost:8080/",
          "height": 532
        },
        "outputId": "d34ea108-dde3-4259-c661-a42dfd0e7d07"
      },
      "source": [
        "plt.figure(figsize=(15,8))\n",
        "k=sns.countplot(df['Request Hour'])\n",
        "k.set_title('Request Hour')"
      ],
      "execution_count": 138,
      "outputs": [
        {
          "output_type": "execute_result",
          "data": {
            "text/plain": [
              "Text(0.5, 1.0, 'Request Hour')"
            ]
          },
          "metadata": {
            "tags": []
          },
          "execution_count": 138
        },
        {
          "output_type": "display_data",
          "data": {
            "image/png": "[encoded data removed]",
            "text/plain": [
              "<Figure size 1080x576 with 1 Axes>"
            ]
          },
          "metadata": {
            "tags": []
          }
        }
      ]
    },
    {
      "cell_type": "markdown",
      "metadata": {
        "id": "FYOelPEWJZOS",
        "colab_type": "text"
      },
      "source": [
        "#### It can be seen from the table that at time 5- 9 A.M and 17-21 P.M the request for the cab is maximum whereas it is minimum at 0-4 A.M and 10-16 P.M"
      ]
    },
    {
      "cell_type": "code",
      "metadata": {
        "id": "ZhOt7DfCJQMC",
        "colab_type": "code",
        "colab": {
          "base_uri": "https://localhost:8080/",
          "height": 490
        },
        "outputId": "ce7cc46e-8533-4b0f-8e03-c9bad1435968"
      },
      "source": [
        "p=df.groupby('Request Hour').size()\n",
        "p"
      ],
      "execution_count": 139,
      "outputs": [
        {
          "output_type": "execute_result",
          "data": {
            "text/plain": [
              "Request Hour\n",
              "0      99\n",
              "1      85\n",
              "2      99\n",
              "3      92\n",
              "4     203\n",
              "5     445\n",
              "6     398\n",
              "7     406\n",
              "8     423\n",
              "9     431\n",
              "10    243\n",
              "11    171\n",
              "12    184\n",
              "13    160\n",
              "14    136\n",
              "15    171\n",
              "16    159\n",
              "17    418\n",
              "18    510\n",
              "19    473\n",
              "20    492\n",
              "21    449\n",
              "22    304\n",
              "23    194\n",
              "dtype: int64"
            ]
          },
          "metadata": {
            "tags": []
          },
          "execution_count": 139
        }
      ]
    },
    {
      "cell_type": "code",
      "metadata": {
        "id": "YJXpsWFbKbhk",
        "colab_type": "code",
        "colab": {
          "base_uri": "https://localhost:8080/",
          "height": 411
        },
        "outputId": "d75d365c-1df1-404b-d10f-44c2e9b9904d"
      },
      "source": [
        "plt.figure(figsize=(18,6))\n",
        "sns.lineplot(y=p,x=p.index,color='Red')"
      ],
      "execution_count": 140,
      "outputs": [
        {
          "output_type": "execute_result",
          "data": {
            "text/plain": [
              "<matplotlib.axes._subplots.AxesSubplot at 0x7f36d7e9cb00>"
            ]
          },
          "metadata": {
            "tags": []
          },
          "execution_count": 140
        },
        {
          "output_type": "display_data",
          "data": {
            "image/png": "[encoded data removed]",
            "text/plain": [
              "<Figure size 1296x432 with 1 Axes>"
            ]
          },
          "metadata": {
            "tags": []
          }
        }
      ]
    },
    {
      "cell_type": "markdown",
      "metadata": {
        "id": "JfZ3FQRvLeC4",
        "colab_type": "text"
      },
      "source": [
        "#### Here it is visible that it is maximum during 5-10 A.M and at  4-8 P.M"
      ]
    },
    {
      "cell_type": "code",
      "metadata": {
        "id": "TZMZ_BVMVYqx",
        "colab_type": "code",
        "colab": {}
      },
      "source": [
        "from statsmodels.graphics.mosaicplot import mosaic"
      ],
      "execution_count": 0,
      "outputs": []
    },
    {
      "cell_type": "code",
      "metadata": {
        "id": "NmTTA35xVbg_",
        "colab_type": "code",
        "colab": {
          "base_uri": "https://localhost:8080/",
          "height": 486
        },
        "outputId": "770e47ea-e261-401e-ca6b-d88e242c7db5"
      },
      "source": [
        "plt.rcParams['figure.figsize'] = (15,8)\n",
        "mosaic(df, ['Status', 'Pickup point'])\n",
        "plt.show()"
      ],
      "execution_count": 142,
      "outputs": [
        {
          "output_type": "display_data",
          "data": {
            "image/png": "[encoded data removed]",
            "text/plain": [
              "<Figure size 1080x576 with 3 Axes>"
            ]
          },
          "metadata": {
            "tags": []
          }
        }
      ]
    },
    {
      "cell_type": "markdown",
      "metadata": {
        "id": "aEt-Bir-VdzL",
        "colab_type": "text"
      },
      "source": [
        "#### It tells that the Trip Completed for City and Airport are nearly equal whereas for Cancelled for city as a pickup point whereas From whereas Airport maximum times the Cars are not available. "
      ]
    },
    {
      "cell_type": "markdown",
      "metadata": {
        "id": "5hp9Y7DrMJHn",
        "colab_type": "text"
      },
      "source": [
        "### Request time and Pickup Points"
      ]
    },
    {
      "cell_type": "code",
      "metadata": {
        "id": "VH3PctIZKjrz",
        "colab_type": "code",
        "colab": {}
      },
      "source": [
        "a=df.sort_values(['Driver id','Drop timestamp'])"
      ],
      "execution_count": 0,
      "outputs": []
    },
    {
      "cell_type": "code",
      "metadata": {
        "id": "Z9Rb8zKFXq-C",
        "colab_type": "code",
        "colab": {
          "base_uri": "https://localhost:8080/",
          "height": 1000
        },
        "outputId": "43a8ec88-42ef-4428-ec08-9e6fa373eeec"
      },
      "source": [
        "a"
      ],
      "execution_count": 151,
      "outputs": [
        {
          "output_type": "execute_result",
          "data": {
            "text/html": [
              "<div>\n",
              "<style scoped>\n",
              "    .dataframe tbody tr th:only-of-type {\n",
              "        vertical-align: middle;\n",
              "    }\n",
              "\n",
              "    .dataframe tbody tr th {\n",
              "        vertical-align: top;\n",
              "    }\n",
              "\n",
              "    .dataframe thead th {\n",
              "        text-align: right;\n",
              "    }\n",
              "</style>\n",
              "<table border=\"1\" class=\"dataframe\">\n",
              "  <thead>\n",
              "    <tr style=\"text-align: right;\">\n",
              "      <th></th>\n",
              "      <th>Request id</th>\n",
              "      <th>Pickup point</th>\n",
              "      <th>Driver id</th>\n",
              "      <th>Status</th>\n",
              "      <th>Request timestamp</th>\n",
              "      <th>Drop timestamp</th>\n",
              "      <th>Session</th>\n",
              "      <th>Dropping Point</th>\n",
              "      <th>Availability</th>\n",
              "      <th>Request Hour</th>\n",
              "    </tr>\n",
              "  </thead>\n",
              "  <tbody>\n",
              "    <tr>\n",
              "      <th>4</th>\n",
              "      <td>3112.0</td>\n",
              "      <td>City</td>\n",
              "      <td>1.0</td>\n",
              "      <td>Trip Completed</td>\n",
              "      <td>2016-07-13 08:33:16</td>\n",
              "      <td>2016-07-13 09:25:47</td>\n",
              "      <td>Morning</td>\n",
              "      <td>City</td>\n",
              "      <td>Available</td>\n",
              "      <td>8</td>\n",
              "    </tr>\n",
              "    <tr>\n",
              "      <th>5</th>\n",
              "      <td>3879.0</td>\n",
              "      <td>Airport</td>\n",
              "      <td>1.0</td>\n",
              "      <td>Trip Completed</td>\n",
              "      <td>2016-07-13 21:57:28</td>\n",
              "      <td>2016-07-13 22:28:59</td>\n",
              "      <td>Evening</td>\n",
              "      <td>City</td>\n",
              "      <td>Available</td>\n",
              "      <td>21</td>\n",
              "    </tr>\n",
              "    <tr>\n",
              "      <th>6</th>\n",
              "      <td>4270.0</td>\n",
              "      <td>Airport</td>\n",
              "      <td>1.0</td>\n",
              "      <td>Trip Completed</td>\n",
              "      <td>2016-07-14 06:15:32</td>\n",
              "      <td>2016-07-14 07:13:15</td>\n",
              "      <td>Morning</td>\n",
              "      <td>City</td>\n",
              "      <td>Available</td>\n",
              "      <td>6</td>\n",
              "    </tr>\n",
              "    <tr>\n",
              "      <th>7</th>\n",
              "      <td>5510.0</td>\n",
              "      <td>Airport</td>\n",
              "      <td>1.0</td>\n",
              "      <td>Trip Completed</td>\n",
              "      <td>2016-07-15 05:11:52</td>\n",
              "      <td>2016-07-15 06:07:52</td>\n",
              "      <td>Night</td>\n",
              "      <td>City</td>\n",
              "      <td>Available</td>\n",
              "      <td>5</td>\n",
              "    </tr>\n",
              "    <tr>\n",
              "      <th>8</th>\n",
              "      <td>6248.0</td>\n",
              "      <td>City</td>\n",
              "      <td>1.0</td>\n",
              "      <td>Trip Completed</td>\n",
              "      <td>2016-07-15 17:57:27</td>\n",
              "      <td>2016-07-15 18:50:51</td>\n",
              "      <td>Afternoon</td>\n",
              "      <td>City</td>\n",
              "      <td>Available</td>\n",
              "      <td>17</td>\n",
              "    </tr>\n",
              "    <tr>\n",
              "      <th>0</th>\n",
              "      <td>619.0</td>\n",
              "      <td>Airport</td>\n",
              "      <td>1.0</td>\n",
              "      <td>Trip Completed</td>\n",
              "      <td>2016-11-07 11:51:00</td>\n",
              "      <td>2016-11-07 13:00:00</td>\n",
              "      <td>Morning</td>\n",
              "      <td>City</td>\n",
              "      <td>Available</td>\n",
              "      <td>11</td>\n",
              "    </tr>\n",
              "    <tr>\n",
              "      <th>1</th>\n",
              "      <td>867.0</td>\n",
              "      <td>Airport</td>\n",
              "      <td>1.0</td>\n",
              "      <td>Trip Completed</td>\n",
              "      <td>2016-11-07 17:57:00</td>\n",
              "      <td>2016-11-07 18:47:00</td>\n",
              "      <td>Afternoon</td>\n",
              "      <td>City</td>\n",
              "      <td>Available</td>\n",
              "      <td>17</td>\n",
              "    </tr>\n",
              "    <tr>\n",
              "      <th>2</th>\n",
              "      <td>1807.0</td>\n",
              "      <td>City</td>\n",
              "      <td>1.0</td>\n",
              "      <td>Trip Completed</td>\n",
              "      <td>2016-12-07 09:17:00</td>\n",
              "      <td>2016-12-07 09:58:00</td>\n",
              "      <td>Morning</td>\n",
              "      <td>City</td>\n",
              "      <td>Available</td>\n",
              "      <td>9</td>\n",
              "    </tr>\n",
              "    <tr>\n",
              "      <th>3</th>\n",
              "      <td>2532.0</td>\n",
              "      <td>Airport</td>\n",
              "      <td>1.0</td>\n",
              "      <td>Trip Completed</td>\n",
              "      <td>2016-12-07 21:08:00</td>\n",
              "      <td>2016-12-07 22:03:00</td>\n",
              "      <td>Evening</td>\n",
              "      <td>City</td>\n",
              "      <td>Available</td>\n",
              "      <td>21</td>\n",
              "    </tr>\n",
              "    <tr>\n",
              "      <th>2831</th>\n",
              "      <td>2905.0</td>\n",
              "      <td>City</td>\n",
              "      <td>1.0</td>\n",
              "      <td>Cancelled</td>\n",
              "      <td>2016-02-16 06:08:41</td>\n",
              "      <td>NaT</td>\n",
              "      <td>Morning</td>\n",
              "      <td>City</td>\n",
              "      <td>Available</td>\n",
              "      <td>6</td>\n",
              "    </tr>\n",
              "    <tr>\n",
              "      <th>2832</th>\n",
              "      <td>4805.0</td>\n",
              "      <td>City</td>\n",
              "      <td>1.0</td>\n",
              "      <td>Cancelled</td>\n",
              "      <td>2016-02-17 17:07:58</td>\n",
              "      <td>NaT</td>\n",
              "      <td>Afternoon</td>\n",
              "      <td>City</td>\n",
              "      <td>Available</td>\n",
              "      <td>17</td>\n",
              "    </tr>\n",
              "    <tr>\n",
              "      <th>2833</th>\n",
              "      <td>5202.0</td>\n",
              "      <td>Airport</td>\n",
              "      <td>1.0</td>\n",
              "      <td>Cancelled</td>\n",
              "      <td>2016-02-17 20:51:37</td>\n",
              "      <td>NaT</td>\n",
              "      <td>Evening</td>\n",
              "      <td>City</td>\n",
              "      <td>Available</td>\n",
              "      <td>20</td>\n",
              "    </tr>\n",
              "    <tr>\n",
              "      <th>2834</th>\n",
              "      <td>5927.0</td>\n",
              "      <td>City</td>\n",
              "      <td>1.0</td>\n",
              "      <td>Cancelled</td>\n",
              "      <td>2016-02-18 10:12:40</td>\n",
              "      <td>NaT</td>\n",
              "      <td>Morning</td>\n",
              "      <td>City</td>\n",
              "      <td>Available</td>\n",
              "      <td>10</td>\n",
              "    </tr>\n",
              "    <tr>\n",
              "      <th>12</th>\n",
              "      <td>2784.0</td>\n",
              "      <td>Airport</td>\n",
              "      <td>2.0</td>\n",
              "      <td>Trip Completed</td>\n",
              "      <td>2016-07-13 04:49:20</td>\n",
              "      <td>2016-07-13 05:23:03</td>\n",
              "      <td>Night</td>\n",
              "      <td>City</td>\n",
              "      <td>Available</td>\n",
              "      <td>4</td>\n",
              "    </tr>\n",
              "    <tr>\n",
              "      <th>13</th>\n",
              "      <td>3075.0</td>\n",
              "      <td>City</td>\n",
              "      <td>2.0</td>\n",
              "      <td>Trip Completed</td>\n",
              "      <td>2016-07-13 08:02:53</td>\n",
              "      <td>2016-07-13 09:16:19</td>\n",
              "      <td>Morning</td>\n",
              "      <td>City</td>\n",
              "      <td>Available</td>\n",
              "      <td>8</td>\n",
              "    </tr>\n",
              "    <tr>\n",
              "      <th>14</th>\n",
              "      <td>3379.0</td>\n",
              "      <td>City</td>\n",
              "      <td>2.0</td>\n",
              "      <td>Trip Completed</td>\n",
              "      <td>2016-07-13 14:23:02</td>\n",
              "      <td>2016-07-13 15:35:18</td>\n",
              "      <td>Afternoon</td>\n",
              "      <td>City</td>\n",
              "      <td>Available</td>\n",
              "      <td>14</td>\n",
              "    </tr>\n",
              "    <tr>\n",
              "      <th>15</th>\n",
              "      <td>3482.0</td>\n",
              "      <td>Airport</td>\n",
              "      <td>2.0</td>\n",
              "      <td>Trip Completed</td>\n",
              "      <td>2016-07-13 17:23:18</td>\n",
              "      <td>2016-07-13 18:20:51</td>\n",
              "      <td>Afternoon</td>\n",
              "      <td>City</td>\n",
              "      <td>Available</td>\n",
              "      <td>17</td>\n",
              "    </tr>\n",
              "    <tr>\n",
              "      <th>16</th>\n",
              "      <td>4652.0</td>\n",
              "      <td>City</td>\n",
              "      <td>2.0</td>\n",
              "      <td>Trip Completed</td>\n",
              "      <td>2016-07-14 12:01:02</td>\n",
              "      <td>2016-07-14 12:36:46</td>\n",
              "      <td>Afternoon</td>\n",
              "      <td>City</td>\n",
              "      <td>Available</td>\n",
              "      <td>12</td>\n",
              "    </tr>\n",
              "    <tr>\n",
              "      <th>17</th>\n",
              "      <td>5335.0</td>\n",
              "      <td>Airport</td>\n",
              "      <td>2.0</td>\n",
              "      <td>Trip Completed</td>\n",
              "      <td>2016-07-14 22:24:13</td>\n",
              "      <td>2016-07-14 23:18:52</td>\n",
              "      <td>Evening</td>\n",
              "      <td>City</td>\n",
              "      <td>Available</td>\n",
              "      <td>22</td>\n",
              "    </tr>\n",
              "    <tr>\n",
              "      <th>9</th>\n",
              "      <td>267.0</td>\n",
              "      <td>City</td>\n",
              "      <td>2.0</td>\n",
              "      <td>Trip Completed</td>\n",
              "      <td>2016-11-07 06:46:00</td>\n",
              "      <td>2016-11-07 07:25:00</td>\n",
              "      <td>Morning</td>\n",
              "      <td>City</td>\n",
              "      <td>Available</td>\n",
              "      <td>6</td>\n",
              "    </tr>\n",
              "    <tr>\n",
              "      <th>10</th>\n",
              "      <td>1467.0</td>\n",
              "      <td>Airport</td>\n",
              "      <td>2.0</td>\n",
              "      <td>Trip Completed</td>\n",
              "      <td>2016-12-07 05:08:00</td>\n",
              "      <td>2016-12-07 06:02:00</td>\n",
              "      <td>Night</td>\n",
              "      <td>City</td>\n",
              "      <td>Available</td>\n",
              "      <td>5</td>\n",
              "    </tr>\n",
              "    <tr>\n",
              "      <th>11</th>\n",
              "      <td>1983.0</td>\n",
              "      <td>City</td>\n",
              "      <td>2.0</td>\n",
              "      <td>Trip Completed</td>\n",
              "      <td>2016-12-07 12:30:00</td>\n",
              "      <td>2016-12-07 12:57:00</td>\n",
              "      <td>Afternoon</td>\n",
              "      <td>City</td>\n",
              "      <td>Available</td>\n",
              "      <td>12</td>\n",
              "    </tr>\n",
              "    <tr>\n",
              "      <th>2835</th>\n",
              "      <td>2347.0</td>\n",
              "      <td>Airport</td>\n",
              "      <td>2.0</td>\n",
              "      <td>Cancelled</td>\n",
              "      <td>2016-07-12 19:14:00</td>\n",
              "      <td>NaT</td>\n",
              "      <td>Evening</td>\n",
              "      <td>City</td>\n",
              "      <td>Available</td>\n",
              "      <td>19</td>\n",
              "    </tr>\n",
              "    <tr>\n",
              "      <th>2836</th>\n",
              "      <td>3806.0</td>\n",
              "      <td>Airport</td>\n",
              "      <td>2.0</td>\n",
              "      <td>Cancelled</td>\n",
              "      <td>2016-02-16 20:57:49</td>\n",
              "      <td>NaT</td>\n",
              "      <td>Evening</td>\n",
              "      <td>City</td>\n",
              "      <td>Available</td>\n",
              "      <td>20</td>\n",
              "    </tr>\n",
              "    <tr>\n",
              "      <th>2837</th>\n",
              "      <td>4451.0</td>\n",
              "      <td>City</td>\n",
              "      <td>2.0</td>\n",
              "      <td>Cancelled</td>\n",
              "      <td>2016-02-17 08:38:38</td>\n",
              "      <td>NaT</td>\n",
              "      <td>Morning</td>\n",
              "      <td>City</td>\n",
              "      <td>Available</td>\n",
              "      <td>8</td>\n",
              "    </tr>\n",
              "    <tr>\n",
              "      <th>2838</th>\n",
              "      <td>5023.0</td>\n",
              "      <td>Airport</td>\n",
              "      <td>2.0</td>\n",
              "      <td>Cancelled</td>\n",
              "      <td>2016-02-17 19:04:08</td>\n",
              "      <td>NaT</td>\n",
              "      <td>Evening</td>\n",
              "      <td>City</td>\n",
              "      <td>Available</td>\n",
              "      <td>19</td>\n",
              "    </tr>\n",
              "    <tr>\n",
              "      <th>23</th>\n",
              "      <td>3096.0</td>\n",
              "      <td>Airport</td>\n",
              "      <td>3.0</td>\n",
              "      <td>Trip Completed</td>\n",
              "      <td>2016-07-13 08:17:29</td>\n",
              "      <td>2016-07-13 09:22:37</td>\n",
              "      <td>Morning</td>\n",
              "      <td>City</td>\n",
              "      <td>Available</td>\n",
              "      <td>8</td>\n",
              "    </tr>\n",
              "    <tr>\n",
              "      <th>24</th>\n",
              "      <td>3881.0</td>\n",
              "      <td>Airport</td>\n",
              "      <td>3.0</td>\n",
              "      <td>Trip Completed</td>\n",
              "      <td>2016-07-13 21:54:18</td>\n",
              "      <td>2016-07-13 22:51:23</td>\n",
              "      <td>Evening</td>\n",
              "      <td>City</td>\n",
              "      <td>Available</td>\n",
              "      <td>21</td>\n",
              "    </tr>\n",
              "    <tr>\n",
              "      <th>25</th>\n",
              "      <td>5254.0</td>\n",
              "      <td>City</td>\n",
              "      <td>3.0</td>\n",
              "      <td>Trip Completed</td>\n",
              "      <td>2016-07-14 21:23:03</td>\n",
              "      <td>2016-07-14 22:25:19</td>\n",
              "      <td>Evening</td>\n",
              "      <td>City</td>\n",
              "      <td>Available</td>\n",
              "      <td>21</td>\n",
              "    </tr>\n",
              "    <tr>\n",
              "      <th>26</th>\n",
              "      <td>5434.0</td>\n",
              "      <td>City</td>\n",
              "      <td>3.0</td>\n",
              "      <td>Trip Completed</td>\n",
              "      <td>2016-07-15 02:41:38</td>\n",
              "      <td>2016-07-15 03:24:43</td>\n",
              "      <td>Night</td>\n",
              "      <td>City</td>\n",
              "      <td>Available</td>\n",
              "      <td>2</td>\n",
              "    </tr>\n",
              "    <tr>\n",
              "      <th>...</th>\n",
              "      <td>...</td>\n",
              "      <td>...</td>\n",
              "      <td>...</td>\n",
              "      <td>...</td>\n",
              "      <td>...</td>\n",
              "      <td>...</td>\n",
              "      <td>...</td>\n",
              "      <td>...</td>\n",
              "      <td>...</td>\n",
              "      <td>...</td>\n",
              "    </tr>\n",
              "    <tr>\n",
              "      <th>6715</th>\n",
              "      <td>6683.0</td>\n",
              "      <td>City</td>\n",
              "      <td>NaN</td>\n",
              "      <td>No Cars Available</td>\n",
              "      <td>2016-02-18 22:34:01</td>\n",
              "      <td>NaT</td>\n",
              "      <td>Evening</td>\n",
              "      <td>City</td>\n",
              "      <td>Not Available</td>\n",
              "      <td>22</td>\n",
              "    </tr>\n",
              "    <tr>\n",
              "      <th>6716</th>\n",
              "      <td>6686.0</td>\n",
              "      <td>Airport</td>\n",
              "      <td>NaN</td>\n",
              "      <td>No Cars Available</td>\n",
              "      <td>2016-02-18 22:36:13</td>\n",
              "      <td>NaT</td>\n",
              "      <td>Evening</td>\n",
              "      <td>City</td>\n",
              "      <td>Not Available</td>\n",
              "      <td>22</td>\n",
              "    </tr>\n",
              "    <tr>\n",
              "      <th>6717</th>\n",
              "      <td>6688.0</td>\n",
              "      <td>Airport</td>\n",
              "      <td>NaN</td>\n",
              "      <td>No Cars Available</td>\n",
              "      <td>2016-02-18 22:37:37</td>\n",
              "      <td>NaT</td>\n",
              "      <td>Evening</td>\n",
              "      <td>City</td>\n",
              "      <td>Not Available</td>\n",
              "      <td>22</td>\n",
              "    </tr>\n",
              "    <tr>\n",
              "      <th>6718</th>\n",
              "      <td>6689.0</td>\n",
              "      <td>Airport</td>\n",
              "      <td>NaN</td>\n",
              "      <td>No Cars Available</td>\n",
              "      <td>2016-02-18 22:43:46</td>\n",
              "      <td>NaT</td>\n",
              "      <td>Evening</td>\n",
              "      <td>City</td>\n",
              "      <td>Not Available</td>\n",
              "      <td>22</td>\n",
              "    </tr>\n",
              "    <tr>\n",
              "      <th>6719</th>\n",
              "      <td>6693.0</td>\n",
              "      <td>City</td>\n",
              "      <td>NaN</td>\n",
              "      <td>No Cars Available</td>\n",
              "      <td>2016-02-18 22:49:33</td>\n",
              "      <td>NaT</td>\n",
              "      <td>Evening</td>\n",
              "      <td>City</td>\n",
              "      <td>Not Available</td>\n",
              "      <td>22</td>\n",
              "    </tr>\n",
              "    <tr>\n",
              "      <th>6720</th>\n",
              "      <td>6696.0</td>\n",
              "      <td>City</td>\n",
              "      <td>NaN</td>\n",
              "      <td>No Cars Available</td>\n",
              "      <td>2016-02-18 22:49:45</td>\n",
              "      <td>NaT</td>\n",
              "      <td>Evening</td>\n",
              "      <td>City</td>\n",
              "      <td>Not Available</td>\n",
              "      <td>22</td>\n",
              "    </tr>\n",
              "    <tr>\n",
              "      <th>6721</th>\n",
              "      <td>6697.0</td>\n",
              "      <td>Airport</td>\n",
              "      <td>NaN</td>\n",
              "      <td>No Cars Available</td>\n",
              "      <td>2016-02-18 22:51:18</td>\n",
              "      <td>NaT</td>\n",
              "      <td>Evening</td>\n",
              "      <td>City</td>\n",
              "      <td>Not Available</td>\n",
              "      <td>22</td>\n",
              "    </tr>\n",
              "    <tr>\n",
              "      <th>6722</th>\n",
              "      <td>6709.0</td>\n",
              "      <td>Airport</td>\n",
              "      <td>NaN</td>\n",
              "      <td>No Cars Available</td>\n",
              "      <td>2016-02-18 22:56:00</td>\n",
              "      <td>NaT</td>\n",
              "      <td>Evening</td>\n",
              "      <td>City</td>\n",
              "      <td>Not Available</td>\n",
              "      <td>22</td>\n",
              "    </tr>\n",
              "    <tr>\n",
              "      <th>6723</th>\n",
              "      <td>6706.0</td>\n",
              "      <td>Airport</td>\n",
              "      <td>NaN</td>\n",
              "      <td>No Cars Available</td>\n",
              "      <td>2016-02-18 22:58:15</td>\n",
              "      <td>NaT</td>\n",
              "      <td>Evening</td>\n",
              "      <td>City</td>\n",
              "      <td>Not Available</td>\n",
              "      <td>22</td>\n",
              "    </tr>\n",
              "    <tr>\n",
              "      <th>6724</th>\n",
              "      <td>6708.0</td>\n",
              "      <td>City</td>\n",
              "      <td>NaN</td>\n",
              "      <td>No Cars Available</td>\n",
              "      <td>2016-02-18 23:03:23</td>\n",
              "      <td>NaT</td>\n",
              "      <td>Evening</td>\n",
              "      <td>City</td>\n",
              "      <td>Not Available</td>\n",
              "      <td>23</td>\n",
              "    </tr>\n",
              "    <tr>\n",
              "      <th>6725</th>\n",
              "      <td>6713.0</td>\n",
              "      <td>City</td>\n",
              "      <td>NaN</td>\n",
              "      <td>No Cars Available</td>\n",
              "      <td>2016-02-18 23:08:14</td>\n",
              "      <td>NaT</td>\n",
              "      <td>Evening</td>\n",
              "      <td>City</td>\n",
              "      <td>Not Available</td>\n",
              "      <td>23</td>\n",
              "    </tr>\n",
              "    <tr>\n",
              "      <th>6726</th>\n",
              "      <td>6715.0</td>\n",
              "      <td>City</td>\n",
              "      <td>NaN</td>\n",
              "      <td>No Cars Available</td>\n",
              "      <td>2016-02-18 23:11:41</td>\n",
              "      <td>NaT</td>\n",
              "      <td>Evening</td>\n",
              "      <td>City</td>\n",
              "      <td>Not Available</td>\n",
              "      <td>23</td>\n",
              "    </tr>\n",
              "    <tr>\n",
              "      <th>6727</th>\n",
              "      <td>6716.0</td>\n",
              "      <td>City</td>\n",
              "      <td>NaN</td>\n",
              "      <td>No Cars Available</td>\n",
              "      <td>2016-02-18 23:14:36</td>\n",
              "      <td>NaT</td>\n",
              "      <td>Evening</td>\n",
              "      <td>City</td>\n",
              "      <td>Not Available</td>\n",
              "      <td>23</td>\n",
              "    </tr>\n",
              "    <tr>\n",
              "      <th>6728</th>\n",
              "      <td>6718.0</td>\n",
              "      <td>Airport</td>\n",
              "      <td>NaN</td>\n",
              "      <td>No Cars Available</td>\n",
              "      <td>2016-02-18 23:14:39</td>\n",
              "      <td>NaT</td>\n",
              "      <td>Evening</td>\n",
              "      <td>City</td>\n",
              "      <td>Not Available</td>\n",
              "      <td>23</td>\n",
              "    </tr>\n",
              "    <tr>\n",
              "      <th>6729</th>\n",
              "      <td>6720.0</td>\n",
              "      <td>City</td>\n",
              "      <td>NaN</td>\n",
              "      <td>No Cars Available</td>\n",
              "      <td>2016-02-18 23:16:48</td>\n",
              "      <td>NaT</td>\n",
              "      <td>Evening</td>\n",
              "      <td>City</td>\n",
              "      <td>Not Available</td>\n",
              "      <td>23</td>\n",
              "    </tr>\n",
              "    <tr>\n",
              "      <th>6730</th>\n",
              "      <td>6722.0</td>\n",
              "      <td>Airport</td>\n",
              "      <td>NaN</td>\n",
              "      <td>No Cars Available</td>\n",
              "      <td>2016-02-18 23:18:21</td>\n",
              "      <td>NaT</td>\n",
              "      <td>Evening</td>\n",
              "      <td>City</td>\n",
              "      <td>Not Available</td>\n",
              "      <td>23</td>\n",
              "    </tr>\n",
              "    <tr>\n",
              "      <th>6731</th>\n",
              "      <td>6725.0</td>\n",
              "      <td>Airport</td>\n",
              "      <td>NaN</td>\n",
              "      <td>No Cars Available</td>\n",
              "      <td>2016-02-18 23:21:53</td>\n",
              "      <td>NaT</td>\n",
              "      <td>Evening</td>\n",
              "      <td>City</td>\n",
              "      <td>Not Available</td>\n",
              "      <td>23</td>\n",
              "    </tr>\n",
              "    <tr>\n",
              "      <th>6732</th>\n",
              "      <td>6728.0</td>\n",
              "      <td>City</td>\n",
              "      <td>NaN</td>\n",
              "      <td>No Cars Available</td>\n",
              "      <td>2016-02-18 23:26:50</td>\n",
              "      <td>NaT</td>\n",
              "      <td>Evening</td>\n",
              "      <td>City</td>\n",
              "      <td>Not Available</td>\n",
              "      <td>23</td>\n",
              "    </tr>\n",
              "    <tr>\n",
              "      <th>6733</th>\n",
              "      <td>6730.0</td>\n",
              "      <td>Airport</td>\n",
              "      <td>NaN</td>\n",
              "      <td>No Cars Available</td>\n",
              "      <td>2016-02-18 23:27:55</td>\n",
              "      <td>NaT</td>\n",
              "      <td>Evening</td>\n",
              "      <td>City</td>\n",
              "      <td>Not Available</td>\n",
              "      <td>23</td>\n",
              "    </tr>\n",
              "    <tr>\n",
              "      <th>6734</th>\n",
              "      <td>6732.0</td>\n",
              "      <td>Airport</td>\n",
              "      <td>NaN</td>\n",
              "      <td>No Cars Available</td>\n",
              "      <td>2016-02-18 23:35:50</td>\n",
              "      <td>NaT</td>\n",
              "      <td>Evening</td>\n",
              "      <td>City</td>\n",
              "      <td>Not Available</td>\n",
              "      <td>23</td>\n",
              "    </tr>\n",
              "    <tr>\n",
              "      <th>6735</th>\n",
              "      <td>6737.0</td>\n",
              "      <td>Airport</td>\n",
              "      <td>NaN</td>\n",
              "      <td>No Cars Available</td>\n",
              "      <td>2016-02-18 23:39:15</td>\n",
              "      <td>NaT</td>\n",
              "      <td>Evening</td>\n",
              "      <td>City</td>\n",
              "      <td>Not Available</td>\n",
              "      <td>23</td>\n",
              "    </tr>\n",
              "    <tr>\n",
              "      <th>6736</th>\n",
              "      <td>6744.0</td>\n",
              "      <td>Airport</td>\n",
              "      <td>NaN</td>\n",
              "      <td>No Cars Available</td>\n",
              "      <td>2016-02-18 23:42:51</td>\n",
              "      <td>NaT</td>\n",
              "      <td>Evening</td>\n",
              "      <td>City</td>\n",
              "      <td>Not Available</td>\n",
              "      <td>23</td>\n",
              "    </tr>\n",
              "    <tr>\n",
              "      <th>6737</th>\n",
              "      <td>6740.0</td>\n",
              "      <td>City</td>\n",
              "      <td>NaN</td>\n",
              "      <td>No Cars Available</td>\n",
              "      <td>2016-02-18 23:43:54</td>\n",
              "      <td>NaT</td>\n",
              "      <td>Evening</td>\n",
              "      <td>City</td>\n",
              "      <td>Not Available</td>\n",
              "      <td>23</td>\n",
              "    </tr>\n",
              "    <tr>\n",
              "      <th>6738</th>\n",
              "      <td>6746.0</td>\n",
              "      <td>City</td>\n",
              "      <td>NaN</td>\n",
              "      <td>No Cars Available</td>\n",
              "      <td>2016-02-18 23:46:03</td>\n",
              "      <td>NaT</td>\n",
              "      <td>Evening</td>\n",
              "      <td>City</td>\n",
              "      <td>Not Available</td>\n",
              "      <td>23</td>\n",
              "    </tr>\n",
              "    <tr>\n",
              "      <th>6739</th>\n",
              "      <td>6739.0</td>\n",
              "      <td>City</td>\n",
              "      <td>NaN</td>\n",
              "      <td>No Cars Available</td>\n",
              "      <td>2016-02-18 23:46:20</td>\n",
              "      <td>NaT</td>\n",
              "      <td>Evening</td>\n",
              "      <td>City</td>\n",
              "      <td>Not Available</td>\n",
              "      <td>23</td>\n",
              "    </tr>\n",
              "    <tr>\n",
              "      <th>6740</th>\n",
              "      <td>6745.0</td>\n",
              "      <td>City</td>\n",
              "      <td>NaN</td>\n",
              "      <td>No Cars Available</td>\n",
              "      <td>2016-02-18 23:49:03</td>\n",
              "      <td>NaT</td>\n",
              "      <td>Evening</td>\n",
              "      <td>City</td>\n",
              "      <td>Not Available</td>\n",
              "      <td>23</td>\n",
              "    </tr>\n",
              "    <tr>\n",
              "      <th>6741</th>\n",
              "      <td>6752.0</td>\n",
              "      <td>Airport</td>\n",
              "      <td>NaN</td>\n",
              "      <td>No Cars Available</td>\n",
              "      <td>2016-02-18 23:50:05</td>\n",
              "      <td>NaT</td>\n",
              "      <td>Evening</td>\n",
              "      <td>City</td>\n",
              "      <td>Not Available</td>\n",
              "      <td>23</td>\n",
              "    </tr>\n",
              "    <tr>\n",
              "      <th>6742</th>\n",
              "      <td>6751.0</td>\n",
              "      <td>City</td>\n",
              "      <td>NaN</td>\n",
              "      <td>No Cars Available</td>\n",
              "      <td>2016-02-18 23:52:06</td>\n",
              "      <td>NaT</td>\n",
              "      <td>Evening</td>\n",
              "      <td>City</td>\n",
              "      <td>Not Available</td>\n",
              "      <td>23</td>\n",
              "    </tr>\n",
              "    <tr>\n",
              "      <th>6743</th>\n",
              "      <td>6754.0</td>\n",
              "      <td>City</td>\n",
              "      <td>NaN</td>\n",
              "      <td>No Cars Available</td>\n",
              "      <td>2016-02-18 23:54:39</td>\n",
              "      <td>NaT</td>\n",
              "      <td>Evening</td>\n",
              "      <td>City</td>\n",
              "      <td>Not Available</td>\n",
              "      <td>23</td>\n",
              "    </tr>\n",
              "    <tr>\n",
              "      <th>6744</th>\n",
              "      <td>6753.0</td>\n",
              "      <td>Airport</td>\n",
              "      <td>NaN</td>\n",
              "      <td>No Cars Available</td>\n",
              "      <td>2016-02-18 23:55:03</td>\n",
              "      <td>NaT</td>\n",
              "      <td>Evening</td>\n",
              "      <td>City</td>\n",
              "      <td>Not Available</td>\n",
              "      <td>23</td>\n",
              "    </tr>\n",
              "  </tbody>\n",
              "</table>\n",
              "<p>6745 rows × 10 columns</p>\n",
              "</div>"
            ],
            "text/plain": [
              "      Request id Pickup point  ...   Availability Request Hour\n",
              "4         3112.0         City  ...      Available            8\n",
              "5         3879.0      Airport  ...      Available           21\n",
              "6         4270.0      Airport  ...      Available            6\n",
              "7         5510.0      Airport  ...      Available            5\n",
              "8         6248.0         City  ...      Available           17\n",
              "0          619.0      Airport  ...      Available           11\n",
              "1          867.0      Airport  ...      Available           17\n",
              "2         1807.0         City  ...      Available            9\n",
              "3         2532.0      Airport  ...      Available           21\n",
              "2831      2905.0         City  ...      Available            6\n",
              "2832      4805.0         City  ...      Available           17\n",
              "2833      5202.0      Airport  ...      Available           20\n",
              "2834      5927.0         City  ...      Available           10\n",
              "12        2784.0      Airport  ...      Available            4\n",
              "13        3075.0         City  ...      Available            8\n",
              "14        3379.0         City  ...      Available           14\n",
              "15        3482.0      Airport  ...      Available           17\n",
              "16        4652.0         City  ...      Available           12\n",
              "17        5335.0      Airport  ...      Available           22\n",
              "9          267.0         City  ...      Available            6\n",
              "10        1467.0      Airport  ...      Available            5\n",
              "11        1983.0         City  ...      Available           12\n",
              "2835      2347.0      Airport  ...      Available           19\n",
              "2836      3806.0      Airport  ...      Available           20\n",
              "2837      4451.0         City  ...      Available            8\n",
              "2838      5023.0      Airport  ...      Available           19\n",
              "23        3096.0      Airport  ...      Available            8\n",
              "24        3881.0      Airport  ...      Available           21\n",
              "25        5254.0         City  ...      Available           21\n",
              "26        5434.0         City  ...      Available            2\n",
              "...          ...          ...  ...            ...          ...\n",
              "6715      6683.0         City  ...  Not Available           22\n",
              "6716      6686.0      Airport  ...  Not Available           22\n",
              "6717      6688.0      Airport  ...  Not Available           22\n",
              "6718      6689.0      Airport  ...  Not Available           22\n",
              "6719      6693.0         City  ...  Not Available           22\n",
              "6720      6696.0         City  ...  Not Available           22\n",
              "6721      6697.0      Airport  ...  Not Available           22\n",
              "6722      6709.0      Airport  ...  Not Available           22\n",
              "6723      6706.0      Airport  ...  Not Available           22\n",
              "6724      6708.0         City  ...  Not Available           23\n",
              "6725      6713.0         City  ...  Not Available           23\n",
              "6726      6715.0         City  ...  Not Available           23\n",
              "6727      6716.0         City  ...  Not Available           23\n",
              "6728      6718.0      Airport  ...  Not Available           23\n",
              "6729      6720.0         City  ...  Not Available           23\n",
              "6730      6722.0      Airport  ...  Not Available           23\n",
              "6731      6725.0      Airport  ...  Not Available           23\n",
              "6732      6728.0         City  ...  Not Available           23\n",
              "6733      6730.0      Airport  ...  Not Available           23\n",
              "6734      6732.0      Airport  ...  Not Available           23\n",
              "6735      6737.0      Airport  ...  Not Available           23\n",
              "6736      6744.0      Airport  ...  Not Available           23\n",
              "6737      6740.0         City  ...  Not Available           23\n",
              "6738      6746.0         City  ...  Not Available           23\n",
              "6739      6739.0         City  ...  Not Available           23\n",
              "6740      6745.0         City  ...  Not Available           23\n",
              "6741      6752.0      Airport  ...  Not Available           23\n",
              "6742      6751.0         City  ...  Not Available           23\n",
              "6743      6754.0         City  ...  Not Available           23\n",
              "6744      6753.0      Airport  ...  Not Available           23\n",
              "\n",
              "[6745 rows x 10 columns]"
            ]
          },
          "metadata": {
            "tags": []
          },
          "execution_count": 151
        }
      ]
    },
    {
      "cell_type": "code",
      "metadata": {
        "id": "S-eXvqLzZQ8Z",
        "colab_type": "code",
        "colab": {}
      },
      "source": [
        ""
      ],
      "execution_count": 0,
      "outputs": []
    }
  ]
}