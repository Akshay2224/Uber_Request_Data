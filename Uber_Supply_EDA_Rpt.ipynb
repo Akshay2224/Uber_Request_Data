{
  "nbformat": 4,
  "nbformat_minor": 0,
  "metadata": {
    "colab": {
      "name": "Untitled33.ipynb",
      "version": "0.3.2",
      "provenance": [],
      "include_colab_link": true
    },
    "kernelspec": {
      "name": "python3",
      "display_name": "Python 3"
    }
  },
  "cells": [
    {
      "cell_type": "markdown",
      "metadata": {
        "id": "view-in-github",
        "colab_type": "text"
      },
      "source": [
        "<a href=\"https://colab.research.google.com/github/Akshay2224/Uber_Request_Data/blob/master/Uber_Supply_EDA_Rpt.ipynb\" target=\"_parent\"><img src=\"https://colab.research.google.com/assets/colab-badge.svg\" alt=\"Open In Colab\"/></a>"
      ]
    },
    {
      "cell_type": "markdown",
      "metadata": {
        "id": "i76rsq3_whom",
        "colab_type": "text"
      },
      "source": [
        "# Uber_Supply_Demand_Gap"
      ]
    },
    {
      "cell_type": "markdown",
      "metadata": {
        "id": "cjeHq8KwwwOK",
        "colab_type": "text"
      },
      "source": [
        "## Introduction"
      ]
    },
    {
      "cell_type": "markdown",
      "metadata": {
        "id": "ShKnYvV1w0IT",
        "colab_type": "text"
      },
      "source": [
        "Uber Technologies, Inc. is an American multinational transportation network company offering services that include peer-to-peer ridesharing, ride service hailing, food delivery, and a bicycle-sharing system. The company is based in San Francisco and has operations in 785 metropolitan areas worldwide."
      ]
    },
    {
      "cell_type": "markdown",
      "metadata": {
        "id": "3zWRcDHSw48d",
        "colab_type": "text"
      },
      "source": [
        "![alt text](http://www.brooklynvegan.com/files/2018/08/uber.jpg))"
      ]
    },
    {
      "cell_type": "markdown",
      "metadata": {
        "id": "lExqOLpsxtz4",
        "colab_type": "text"
      },
      "source": [
        "## Problems Faced\n",
        "\n",
        "The problems faced by customers, these very issues also impact the business of Uber. If drivers cancel the request of riders or if cars are unavailable, Uber loses out on its revenue. Let’s hear more about such problems that Uber faces during its operations. We need to  decide to address the problem Uber is facing - driver cancellation and non-availability of cars leading to loss of potential revenue. "
      ]
    },
    {
      "cell_type": "markdown",
      "metadata": {
        "id": "Ythax_OrxmTF",
        "colab_type": "text"
      },
      "source": [
        "## Problem Statement\n",
        "\n",
        "The aim of analysis is to identify the root cause of the problem (i.e. cancellation and non-availability of cars) and recommend ways to improve the situation. As a result of your analysis, you should be able to present to the client the root cause(s) and possible hypotheses of the problem(s) and recommend ways to improve them.  \n",
        "\n",
        " "
      ]
    },
    {
      "cell_type": "code",
      "metadata": {
        "id": "D0CJuZdvzBRp",
        "colab_type": "code",
        "colab": {}
      },
      "source": [
        "# Importing of Libraries\n",
        "import pandas as pd\n",
        "import numpy as np\n",
        "import matplotlib.pyplot as plt\n",
        "from matplotlib.pyplot import pie, axis, show\n",
        "import seaborn as sns\n",
        "import datetime"
      ],
      "execution_count": 0,
      "outputs": []
    },
    {
      "cell_type": "code",
      "metadata": {
        "id": "LCu5OHuvzTS0",
        "colab_type": "code",
        "colab": {}
      },
      "source": [
        "#opening of file\n",
        "df=pd.read_csv('https://github.com/Akshay2224/Uber_Request_Data/raw/master/Uber%20Request%20Data.csv')"
      ],
      "execution_count": 0,
      "outputs": []
    },
    {
      "cell_type": "code",
      "metadata": {
        "id": "QZbIx82iznVW",
        "colab_type": "code",
        "outputId": "b2ca42ff-13a8-4d98-e98d-11e09944c23e",
        "colab": {
          "base_uri": "https://localhost:8080/",
          "height": 348
        }
      },
      "source": [
        "#Lets Head towards looking the dataset\n",
        "df.head(10)"
      ],
      "execution_count": 3,
      "outputs": [
        {
          "output_type": "execute_result",
          "data": {
            "text/html": [
              "<div>\n",
              "<style scoped>\n",
              "    .dataframe tbody tr th:only-of-type {\n",
              "        vertical-align: middle;\n",
              "    }\n",
              "\n",
              "    .dataframe tbody tr th {\n",
              "        vertical-align: top;\n",
              "    }\n",
              "\n",
              "    .dataframe thead th {\n",
              "        text-align: right;\n",
              "    }\n",
              "</style>\n",
              "<table border=\"1\" class=\"dataframe\">\n",
              "  <thead>\n",
              "    <tr style=\"text-align: right;\">\n",
              "      <th></th>\n",
              "      <th>Request id</th>\n",
              "      <th>Pickup point</th>\n",
              "      <th>Driver id</th>\n",
              "      <th>Status</th>\n",
              "      <th>Request timestamp</th>\n",
              "      <th>Drop timestamp</th>\n",
              "    </tr>\n",
              "  </thead>\n",
              "  <tbody>\n",
              "    <tr>\n",
              "      <th>0</th>\n",
              "      <td>619</td>\n",
              "      <td>Airport</td>\n",
              "      <td>1.0</td>\n",
              "      <td>Trip Completed</td>\n",
              "      <td>11/7/2016 11:51</td>\n",
              "      <td>11/7/2016 13:00</td>\n",
              "    </tr>\n",
              "    <tr>\n",
              "      <th>1</th>\n",
              "      <td>867</td>\n",
              "      <td>Airport</td>\n",
              "      <td>1.0</td>\n",
              "      <td>Trip Completed</td>\n",
              "      <td>11/7/2016 17:57</td>\n",
              "      <td>11/7/2016 18:47</td>\n",
              "    </tr>\n",
              "    <tr>\n",
              "      <th>2</th>\n",
              "      <td>1807</td>\n",
              "      <td>City</td>\n",
              "      <td>1.0</td>\n",
              "      <td>Trip Completed</td>\n",
              "      <td>12/7/2016 9:17</td>\n",
              "      <td>12/7/2016 9:58</td>\n",
              "    </tr>\n",
              "    <tr>\n",
              "      <th>3</th>\n",
              "      <td>2532</td>\n",
              "      <td>Airport</td>\n",
              "      <td>1.0</td>\n",
              "      <td>Trip Completed</td>\n",
              "      <td>12/7/2016 21:08</td>\n",
              "      <td>12/7/2016 22:03</td>\n",
              "    </tr>\n",
              "    <tr>\n",
              "      <th>4</th>\n",
              "      <td>3112</td>\n",
              "      <td>City</td>\n",
              "      <td>1.0</td>\n",
              "      <td>Trip Completed</td>\n",
              "      <td>13-07-2016 08:33:16</td>\n",
              "      <td>13-07-2016 09:25:47</td>\n",
              "    </tr>\n",
              "    <tr>\n",
              "      <th>5</th>\n",
              "      <td>3879</td>\n",
              "      <td>Airport</td>\n",
              "      <td>1.0</td>\n",
              "      <td>Trip Completed</td>\n",
              "      <td>13-07-2016 21:57:28</td>\n",
              "      <td>13-07-2016 22:28:59</td>\n",
              "    </tr>\n",
              "    <tr>\n",
              "      <th>6</th>\n",
              "      <td>4270</td>\n",
              "      <td>Airport</td>\n",
              "      <td>1.0</td>\n",
              "      <td>Trip Completed</td>\n",
              "      <td>14-07-2016 06:15:32</td>\n",
              "      <td>14-07-2016 07:13:15</td>\n",
              "    </tr>\n",
              "    <tr>\n",
              "      <th>7</th>\n",
              "      <td>5510</td>\n",
              "      <td>Airport</td>\n",
              "      <td>1.0</td>\n",
              "      <td>Trip Completed</td>\n",
              "      <td>15-07-2016 05:11:52</td>\n",
              "      <td>15-07-2016 06:07:52</td>\n",
              "    </tr>\n",
              "    <tr>\n",
              "      <th>8</th>\n",
              "      <td>6248</td>\n",
              "      <td>City</td>\n",
              "      <td>1.0</td>\n",
              "      <td>Trip Completed</td>\n",
              "      <td>15-07-2016 17:57:27</td>\n",
              "      <td>15-07-2016 18:50:51</td>\n",
              "    </tr>\n",
              "    <tr>\n",
              "      <th>9</th>\n",
              "      <td>267</td>\n",
              "      <td>City</td>\n",
              "      <td>2.0</td>\n",
              "      <td>Trip Completed</td>\n",
              "      <td>11/7/2016 6:46</td>\n",
              "      <td>11/7/2016 7:25</td>\n",
              "    </tr>\n",
              "  </tbody>\n",
              "</table>\n",
              "</div>"
            ],
            "text/plain": [
              "   Request id Pickup point  ...    Request timestamp       Drop timestamp\n",
              "0         619      Airport  ...      11/7/2016 11:51      11/7/2016 13:00\n",
              "1         867      Airport  ...      11/7/2016 17:57      11/7/2016 18:47\n",
              "2        1807         City  ...       12/7/2016 9:17       12/7/2016 9:58\n",
              "3        2532      Airport  ...      12/7/2016 21:08      12/7/2016 22:03\n",
              "4        3112         City  ...  13-07-2016 08:33:16  13-07-2016 09:25:47\n",
              "5        3879      Airport  ...  13-07-2016 21:57:28  13-07-2016 22:28:59\n",
              "6        4270      Airport  ...  14-07-2016 06:15:32  14-07-2016 07:13:15\n",
              "7        5510      Airport  ...  15-07-2016 05:11:52  15-07-2016 06:07:52\n",
              "8        6248         City  ...  15-07-2016 17:57:27  15-07-2016 18:50:51\n",
              "9         267         City  ...       11/7/2016 6:46       11/7/2016 7:25\n",
              "\n",
              "[10 rows x 6 columns]"
            ]
          },
          "metadata": {
            "tags": []
          },
          "execution_count": 3
        }
      ]
    },
    {
      "cell_type": "markdown",
      "metadata": {
        "id": "wtqcfnrmyuqc",
        "colab_type": "text"
      },
      "source": [
        "## Attribute Description\n",
        "\n",
        "There are six attributes associated with each request made by a customer:\n",
        "\n",
        "1. Request id: A unique identifier of the request.\n",
        "2. Time of request: The date and time at which the customer made the trip request\n",
        "3. Drop-off time: The drop-off date and time, in case the trip was completed \n",
        "4. Pick-up point: The point from which the request was made\n",
        "5. Driver id: The unique identification number of the driver\n",
        "6. Status of the request: The final status of the trip, that can be either completed, cancelled by the driver or no cars available"
      ]
    },
    {
      "cell_type": "markdown",
      "metadata": {
        "id": "tKho5Zel0BLK",
        "colab_type": "text"
      },
      "source": [
        "## Some Stats about the dataset"
      ]
    },
    {
      "cell_type": "code",
      "metadata": {
        "id": "DhrDE9feD6i-",
        "colab_type": "code",
        "outputId": "1023abfa-c5ad-466a-b422-44b14d77bf9d",
        "colab": {
          "base_uri": "https://localhost:8080/",
          "height": 288
        }
      },
      "source": [
        "# To get a description about the dataset\n",
        "df.describe()"
      ],
      "execution_count": 4,
      "outputs": [
        {
          "output_type": "execute_result",
          "data": {
            "text/html": [
              "<div>\n",
              "<style scoped>\n",
              "    .dataframe tbody tr th:only-of-type {\n",
              "        vertical-align: middle;\n",
              "    }\n",
              "\n",
              "    .dataframe tbody tr th {\n",
              "        vertical-align: top;\n",
              "    }\n",
              "\n",
              "    .dataframe thead th {\n",
              "        text-align: right;\n",
              "    }\n",
              "</style>\n",
              "<table border=\"1\" class=\"dataframe\">\n",
              "  <thead>\n",
              "    <tr style=\"text-align: right;\">\n",
              "      <th></th>\n",
              "      <th>Request id</th>\n",
              "      <th>Driver id</th>\n",
              "    </tr>\n",
              "  </thead>\n",
              "  <tbody>\n",
              "    <tr>\n",
              "      <th>count</th>\n",
              "      <td>6745.000000</td>\n",
              "      <td>4095.000000</td>\n",
              "    </tr>\n",
              "    <tr>\n",
              "      <th>mean</th>\n",
              "      <td>3384.644922</td>\n",
              "      <td>149.501343</td>\n",
              "    </tr>\n",
              "    <tr>\n",
              "      <th>std</th>\n",
              "      <td>1955.099667</td>\n",
              "      <td>86.051994</td>\n",
              "    </tr>\n",
              "    <tr>\n",
              "      <th>min</th>\n",
              "      <td>1.000000</td>\n",
              "      <td>1.000000</td>\n",
              "    </tr>\n",
              "    <tr>\n",
              "      <th>25%</th>\n",
              "      <td>1691.000000</td>\n",
              "      <td>75.000000</td>\n",
              "    </tr>\n",
              "    <tr>\n",
              "      <th>50%</th>\n",
              "      <td>3387.000000</td>\n",
              "      <td>149.000000</td>\n",
              "    </tr>\n",
              "    <tr>\n",
              "      <th>75%</th>\n",
              "      <td>5080.000000</td>\n",
              "      <td>224.000000</td>\n",
              "    </tr>\n",
              "    <tr>\n",
              "      <th>max</th>\n",
              "      <td>6766.000000</td>\n",
              "      <td>300.000000</td>\n",
              "    </tr>\n",
              "  </tbody>\n",
              "</table>\n",
              "</div>"
            ],
            "text/plain": [
              "        Request id    Driver id\n",
              "count  6745.000000  4095.000000\n",
              "mean   3384.644922   149.501343\n",
              "std    1955.099667    86.051994\n",
              "min       1.000000     1.000000\n",
              "25%    1691.000000    75.000000\n",
              "50%    3387.000000   149.000000\n",
              "75%    5080.000000   224.000000\n",
              "max    6766.000000   300.000000"
            ]
          },
          "metadata": {
            "tags": []
          },
          "execution_count": 4
        }
      ]
    },
    {
      "cell_type": "markdown",
      "metadata": {
        "id": "Gz3QjP2uEDU1",
        "colab_type": "text"
      },
      "source": [
        "#### We can see that number of request id are 6745 where 6766 is highest number of id alloted whereas we can see that Maximum number of driver Id is 300 and we have total 4095 drivers."
      ]
    },
    {
      "cell_type": "code",
      "metadata": {
        "id": "dYLYBVGj0Aim",
        "colab_type": "code",
        "outputId": "8a5b72b9-800f-454f-bad7-ca68ddc72d7e",
        "colab": {
          "base_uri": "https://localhost:8080/",
          "height": 35
        }
      },
      "source": [
        "#To see the number of rows and columns\n",
        "df.shape"
      ],
      "execution_count": 5,
      "outputs": [
        {
          "output_type": "execute_result",
          "data": {
            "text/plain": [
              "(6745, 6)"
            ]
          },
          "metadata": {
            "tags": []
          },
          "execution_count": 5
        }
      ]
    },
    {
      "cell_type": "code",
      "metadata": {
        "id": "DM80iSeM0YCi",
        "colab_type": "code",
        "outputId": "fe460ae8-afbd-4ef2-ab0e-7fdcc4feda37",
        "colab": {
          "base_uri": "https://localhost:8080/",
          "height": 72
        }
      },
      "source": [
        "#To check the name of columns \n",
        "df.columns"
      ],
      "execution_count": 6,
      "outputs": [
        {
          "output_type": "execute_result",
          "data": {
            "text/plain": [
              "Index(['Request id', 'Pickup point', 'Driver id', 'Status',\n",
              "       'Request timestamp', 'Drop timestamp'],\n",
              "      dtype='object')"
            ]
          },
          "metadata": {
            "tags": []
          },
          "execution_count": 6
        }
      ]
    },
    {
      "cell_type": "markdown",
      "metadata": {
        "id": "2CvPSt7x0kfN",
        "colab_type": "text"
      },
      "source": [
        "### Data Quality"
      ]
    },
    {
      "cell_type": "markdown",
      "metadata": {
        "id": "88B6EVI-9cjI",
        "colab_type": "text"
      },
      "source": [
        "#### Lets us check the date and time columns"
      ]
    },
    {
      "cell_type": "code",
      "metadata": {
        "id": "BmDFc5xr_JiH",
        "colab_type": "code",
        "outputId": "71602528-2847-4bf7-bf2b-45963d9b004e",
        "colab": {
          "base_uri": "https://localhost:8080/",
          "height": 307
        }
      },
      "source": [
        "df['Request timestamp']=pd.to_datetime(df['Request timestamp']) # Converted the column Request timestamp to datetime format\n",
        "df['Drop timestamp']=pd.to_datetime(df['Drop timestamp']) # Converted the column Drop timestamp to datetime format\n",
        "df['Day']=df['Request timestamp'].dt.month # Created new column with the name of Day having month number of request timestamp\n",
        "df['Day1']=df['Drop timestamp'].dt.month # Created new column with the name of Day having month number of Drop timestamp\n",
        "df['Monthdif']=df['Day']-df['Day1'] # Month Diffrence columns\n",
        "df1=df.query('Monthdif==-1')\n",
        "df1['B']=1\n",
        "df1.head()"
      ],
      "execution_count": 7,
      "outputs": [
        {
          "output_type": "stream",
          "text": [
            "/usr/local/lib/python3.6/dist-packages/ipykernel_launcher.py:7: SettingWithCopyWarning: \n",
            "A value is trying to be set on a copy of a slice from a DataFrame.\n",
            "Try using .loc[row_indexer,col_indexer] = value instead\n",
            "\n",
            "See the caveats in the documentation: http://pandas.pydata.org/pandas-docs/stable/indexing.html#indexing-view-versus-copy\n",
            "  import sys\n"
          ],
          "name": "stderr"
        },
        {
          "output_type": "execute_result",
          "data": {
            "text/html": [
              "<div>\n",
              "<style scoped>\n",
              "    .dataframe tbody tr th:only-of-type {\n",
              "        vertical-align: middle;\n",
              "    }\n",
              "\n",
              "    .dataframe tbody tr th {\n",
              "        vertical-align: top;\n",
              "    }\n",
              "\n",
              "    .dataframe thead th {\n",
              "        text-align: right;\n",
              "    }\n",
              "</style>\n",
              "<table border=\"1\" class=\"dataframe\">\n",
              "  <thead>\n",
              "    <tr style=\"text-align: right;\">\n",
              "      <th></th>\n",
              "      <th>Request id</th>\n",
              "      <th>Pickup point</th>\n",
              "      <th>Driver id</th>\n",
              "      <th>Status</th>\n",
              "      <th>Request timestamp</th>\n",
              "      <th>Drop timestamp</th>\n",
              "      <th>Day</th>\n",
              "      <th>Day1</th>\n",
              "      <th>Monthdif</th>\n",
              "      <th>B</th>\n",
              "    </tr>\n",
              "  </thead>\n",
              "  <tbody>\n",
              "    <tr>\n",
              "      <th>75</th>\n",
              "      <td>1346</td>\n",
              "      <td>Airport</td>\n",
              "      <td>9.0</td>\n",
              "      <td>Trip Completed</td>\n",
              "      <td>2016-11-07 23:39:00</td>\n",
              "      <td>2016-12-07 00:23:00</td>\n",
              "      <td>11</td>\n",
              "      <td>12.0</td>\n",
              "      <td>-1.0</td>\n",
              "      <td>1</td>\n",
              "    </tr>\n",
              "    <tr>\n",
              "      <th>390</th>\n",
              "      <td>1353</td>\n",
              "      <td>Airport</td>\n",
              "      <td>40.0</td>\n",
              "      <td>Trip Completed</td>\n",
              "      <td>2016-11-07 23:51:00</td>\n",
              "      <td>2016-12-07 00:34:00</td>\n",
              "      <td>11</td>\n",
              "      <td>12.0</td>\n",
              "      <td>-1.0</td>\n",
              "      <td>1</td>\n",
              "    </tr>\n",
              "    <tr>\n",
              "      <th>578</th>\n",
              "      <td>1349</td>\n",
              "      <td>Airport</td>\n",
              "      <td>61.0</td>\n",
              "      <td>Trip Completed</td>\n",
              "      <td>2016-11-07 23:41:00</td>\n",
              "      <td>2016-12-07 00:22:00</td>\n",
              "      <td>11</td>\n",
              "      <td>12.0</td>\n",
              "      <td>-1.0</td>\n",
              "      <td>1</td>\n",
              "    </tr>\n",
              "    <tr>\n",
              "      <th>911</th>\n",
              "      <td>1351</td>\n",
              "      <td>Airport</td>\n",
              "      <td>94.0</td>\n",
              "      <td>Trip Completed</td>\n",
              "      <td>2016-11-07 23:44:00</td>\n",
              "      <td>2016-12-07 00:49:00</td>\n",
              "      <td>11</td>\n",
              "      <td>12.0</td>\n",
              "      <td>-1.0</td>\n",
              "      <td>1</td>\n",
              "    </tr>\n",
              "    <tr>\n",
              "      <th>927</th>\n",
              "      <td>1344</td>\n",
              "      <td>City</td>\n",
              "      <td>96.0</td>\n",
              "      <td>Trip Completed</td>\n",
              "      <td>2016-11-07 23:35:00</td>\n",
              "      <td>2016-12-07 00:39:00</td>\n",
              "      <td>11</td>\n",
              "      <td>12.0</td>\n",
              "      <td>-1.0</td>\n",
              "      <td>1</td>\n",
              "    </tr>\n",
              "  </tbody>\n",
              "</table>\n",
              "</div>"
            ],
            "text/plain": [
              "     Request id Pickup point  Driver id          Status  ... Day  Day1  Monthdif  B\n",
              "75         1346      Airport        9.0  Trip Completed  ...  11  12.0      -1.0  1\n",
              "390        1353      Airport       40.0  Trip Completed  ...  11  12.0      -1.0  1\n",
              "578        1349      Airport       61.0  Trip Completed  ...  11  12.0      -1.0  1\n",
              "911        1351      Airport       94.0  Trip Completed  ...  11  12.0      -1.0  1\n",
              "927        1344         City       96.0  Trip Completed  ...  11  12.0      -1.0  1\n",
              "\n",
              "[5 rows x 10 columns]"
            ]
          },
          "metadata": {
            "tags": []
          },
          "execution_count": 7
        }
      ]
    },
    {
      "cell_type": "markdown",
      "metadata": {
        "id": "9GgrLqze9tNo",
        "colab_type": "text"
      },
      "source": [
        "#### Here it is visible from the data that there is some anomaly as because of some typographic error the month has changed abruptly by one which cannot be possible as there cannot be 1 month travelling time So we need to change this anomaly"
      ]
    },
    {
      "cell_type": "code",
      "metadata": {
        "id": "l5NlA7Cr9lVA",
        "colab_type": "code",
        "outputId": "03663859-bb5b-4340-a29b-658648494688",
        "colab": {
          "base_uri": "https://localhost:8080/",
          "height": 744
        }
      },
      "source": [
        "df1['Request timestamp']=df1['Request timestamp']+df1['B'].values.astype(\"timedelta64[M]\") #Adding to the number of months in the column Request time stamp\n",
        "df1['Request timestamp']=df1['Request timestamp']-df1['B'].values.astype(\"timedelta64[D]\") #Subtracting to the number of days in the column Request time stamp\n",
        "# Here we are adding hours to the time in Request timestamp column because after addition/Subtraction of months the time has changed\n",
        "df1['Request timestamp']=df1['Request timestamp']+datetime.timedelta(hours=13)\n",
        "df1['Request timestamp']=df1['Request timestamp']+datetime.timedelta(minutes=31)\n",
        "df1['Request timestamp']=df1['Request timestamp']-datetime.timedelta(seconds=6)\n",
        "df1.drop(['Day','Day1','Monthdif','B'],axis=1)\n",
        "df.update(df1) #Updating the data\n",
        "df.head()"
      ],
      "execution_count": 8,
      "outputs": [
        {
          "output_type": "stream",
          "text": [
            "/usr/local/lib/python3.6/dist-packages/ipykernel_launcher.py:1: SettingWithCopyWarning: \n",
            "A value is trying to be set on a copy of a slice from a DataFrame.\n",
            "Try using .loc[row_indexer,col_indexer] = value instead\n",
            "\n",
            "See the caveats in the documentation: http://pandas.pydata.org/pandas-docs/stable/indexing.html#indexing-view-versus-copy\n",
            "  \"\"\"Entry point for launching an IPython kernel.\n",
            "/usr/local/lib/python3.6/dist-packages/ipykernel_launcher.py:2: SettingWithCopyWarning: \n",
            "A value is trying to be set on a copy of a slice from a DataFrame.\n",
            "Try using .loc[row_indexer,col_indexer] = value instead\n",
            "\n",
            "See the caveats in the documentation: http://pandas.pydata.org/pandas-docs/stable/indexing.html#indexing-view-versus-copy\n",
            "  \n",
            "/usr/local/lib/python3.6/dist-packages/ipykernel_launcher.py:4: SettingWithCopyWarning: \n",
            "A value is trying to be set on a copy of a slice from a DataFrame.\n",
            "Try using .loc[row_indexer,col_indexer] = value instead\n",
            "\n",
            "See the caveats in the documentation: http://pandas.pydata.org/pandas-docs/stable/indexing.html#indexing-view-versus-copy\n",
            "  after removing the cwd from sys.path.\n",
            "/usr/local/lib/python3.6/dist-packages/ipykernel_launcher.py:5: SettingWithCopyWarning: \n",
            "A value is trying to be set on a copy of a slice from a DataFrame.\n",
            "Try using .loc[row_indexer,col_indexer] = value instead\n",
            "\n",
            "See the caveats in the documentation: http://pandas.pydata.org/pandas-docs/stable/indexing.html#indexing-view-versus-copy\n",
            "  \"\"\"\n",
            "/usr/local/lib/python3.6/dist-packages/ipykernel_launcher.py:6: SettingWithCopyWarning: \n",
            "A value is trying to be set on a copy of a slice from a DataFrame.\n",
            "Try using .loc[row_indexer,col_indexer] = value instead\n",
            "\n",
            "See the caveats in the documentation: http://pandas.pydata.org/pandas-docs/stable/indexing.html#indexing-view-versus-copy\n",
            "  \n"
          ],
          "name": "stderr"
        },
        {
          "output_type": "execute_result",
          "data": {
            "text/html": [
              "<div>\n",
              "<style scoped>\n",
              "    .dataframe tbody tr th:only-of-type {\n",
              "        vertical-align: middle;\n",
              "    }\n",
              "\n",
              "    .dataframe tbody tr th {\n",
              "        vertical-align: top;\n",
              "    }\n",
              "\n",
              "    .dataframe thead th {\n",
              "        text-align: right;\n",
              "    }\n",
              "</style>\n",
              "<table border=\"1\" class=\"dataframe\">\n",
              "  <thead>\n",
              "    <tr style=\"text-align: right;\">\n",
              "      <th></th>\n",
              "      <th>Request id</th>\n",
              "      <th>Pickup point</th>\n",
              "      <th>Driver id</th>\n",
              "      <th>Status</th>\n",
              "      <th>Request timestamp</th>\n",
              "      <th>Drop timestamp</th>\n",
              "      <th>Day</th>\n",
              "      <th>Day1</th>\n",
              "      <th>Monthdif</th>\n",
              "    </tr>\n",
              "  </thead>\n",
              "  <tbody>\n",
              "    <tr>\n",
              "      <th>0</th>\n",
              "      <td>619.0</td>\n",
              "      <td>Airport</td>\n",
              "      <td>1.0</td>\n",
              "      <td>Trip Completed</td>\n",
              "      <td>2016-11-07 11:51:00</td>\n",
              "      <td>2016-11-07 13:00:00</td>\n",
              "      <td>11.0</td>\n",
              "      <td>11.0</td>\n",
              "      <td>0.0</td>\n",
              "    </tr>\n",
              "    <tr>\n",
              "      <th>1</th>\n",
              "      <td>867.0</td>\n",
              "      <td>Airport</td>\n",
              "      <td>1.0</td>\n",
              "      <td>Trip Completed</td>\n",
              "      <td>2016-11-07 17:57:00</td>\n",
              "      <td>2016-11-07 18:47:00</td>\n",
              "      <td>11.0</td>\n",
              "      <td>11.0</td>\n",
              "      <td>0.0</td>\n",
              "    </tr>\n",
              "    <tr>\n",
              "      <th>2</th>\n",
              "      <td>1807.0</td>\n",
              "      <td>City</td>\n",
              "      <td>1.0</td>\n",
              "      <td>Trip Completed</td>\n",
              "      <td>2016-12-07 09:17:00</td>\n",
              "      <td>2016-12-07 09:58:00</td>\n",
              "      <td>12.0</td>\n",
              "      <td>12.0</td>\n",
              "      <td>0.0</td>\n",
              "    </tr>\n",
              "    <tr>\n",
              "      <th>3</th>\n",
              "      <td>2532.0</td>\n",
              "      <td>Airport</td>\n",
              "      <td>1.0</td>\n",
              "      <td>Trip Completed</td>\n",
              "      <td>2016-12-07 21:08:00</td>\n",
              "      <td>2016-12-07 22:03:00</td>\n",
              "      <td>12.0</td>\n",
              "      <td>12.0</td>\n",
              "      <td>0.0</td>\n",
              "    </tr>\n",
              "    <tr>\n",
              "      <th>4</th>\n",
              "      <td>3112.0</td>\n",
              "      <td>City</td>\n",
              "      <td>1.0</td>\n",
              "      <td>Trip Completed</td>\n",
              "      <td>2016-07-13 08:33:16</td>\n",
              "      <td>2016-07-13 09:25:47</td>\n",
              "      <td>7.0</td>\n",
              "      <td>7.0</td>\n",
              "      <td>0.0</td>\n",
              "    </tr>\n",
              "  </tbody>\n",
              "</table>\n",
              "</div>"
            ],
            "text/plain": [
              "   Request id Pickup point  Driver id  ...   Day  Day1 Monthdif\n",
              "0       619.0      Airport        1.0  ...  11.0  11.0      0.0\n",
              "1       867.0      Airport        1.0  ...  11.0  11.0      0.0\n",
              "2      1807.0         City        1.0  ...  12.0  12.0      0.0\n",
              "3      2532.0      Airport        1.0  ...  12.0  12.0      0.0\n",
              "4      3112.0         City        1.0  ...   7.0   7.0      0.0\n",
              "\n",
              "[5 rows x 9 columns]"
            ]
          },
          "metadata": {
            "tags": []
          },
          "execution_count": 8
        }
      ]
    },
    {
      "cell_type": "markdown",
      "metadata": {
        "id": "7iuCDqKK-VZa",
        "colab_type": "text"
      },
      "source": [
        "#### Here we can see that the now this anomaly is removed but there is some another problem as follows in the data -:"
      ]
    },
    {
      "cell_type": "code",
      "metadata": {
        "id": "YlUIMBT--GuC",
        "colab_type": "code",
        "outputId": "6ecca1e4-9eff-4599-f94a-6549f0accb0f",
        "colab": {
          "base_uri": "https://localhost:8080/",
          "height": 198
        }
      },
      "source": [
        "df2=df.query('Monthdif!=0&Monthdif!=-1')\n",
        "df2.head()"
      ],
      "execution_count": 9,
      "outputs": [
        {
          "output_type": "execute_result",
          "data": {
            "text/html": [
              "<div>\n",
              "<style scoped>\n",
              "    .dataframe tbody tr th:only-of-type {\n",
              "        vertical-align: middle;\n",
              "    }\n",
              "\n",
              "    .dataframe tbody tr th {\n",
              "        vertical-align: top;\n",
              "    }\n",
              "\n",
              "    .dataframe thead th {\n",
              "        text-align: right;\n",
              "    }\n",
              "</style>\n",
              "<table border=\"1\" class=\"dataframe\">\n",
              "  <thead>\n",
              "    <tr style=\"text-align: right;\">\n",
              "      <th></th>\n",
              "      <th>Request id</th>\n",
              "      <th>Pickup point</th>\n",
              "      <th>Driver id</th>\n",
              "      <th>Status</th>\n",
              "      <th>Request timestamp</th>\n",
              "      <th>Drop timestamp</th>\n",
              "      <th>Day</th>\n",
              "      <th>Day1</th>\n",
              "      <th>Monthdif</th>\n",
              "    </tr>\n",
              "  </thead>\n",
              "  <tbody>\n",
              "    <tr>\n",
              "      <th>133</th>\n",
              "      <td>2675.0</td>\n",
              "      <td>Airport</td>\n",
              "      <td>15.0</td>\n",
              "      <td>Trip Completed</td>\n",
              "      <td>2016-12-07 23:43:00</td>\n",
              "      <td>2016-07-13 00:35:12</td>\n",
              "      <td>12.0</td>\n",
              "      <td>7.0</td>\n",
              "      <td>5.0</td>\n",
              "    </tr>\n",
              "    <tr>\n",
              "      <th>143</th>\n",
              "      <td>2661.0</td>\n",
              "      <td>Airport</td>\n",
              "      <td>16.0</td>\n",
              "      <td>Trip Completed</td>\n",
              "      <td>2016-12-07 23:23:00</td>\n",
              "      <td>2016-07-13 00:27:21</td>\n",
              "      <td>12.0</td>\n",
              "      <td>7.0</td>\n",
              "      <td>5.0</td>\n",
              "    </tr>\n",
              "    <tr>\n",
              "      <th>245</th>\n",
              "      <td>2667.0</td>\n",
              "      <td>Airport</td>\n",
              "      <td>25.0</td>\n",
              "      <td>Trip Completed</td>\n",
              "      <td>2016-12-07 23:35:00</td>\n",
              "      <td>2016-07-13 00:40:52</td>\n",
              "      <td>12.0</td>\n",
              "      <td>7.0</td>\n",
              "      <td>5.0</td>\n",
              "    </tr>\n",
              "    <tr>\n",
              "      <th>532</th>\n",
              "      <td>2665.0</td>\n",
              "      <td>Airport</td>\n",
              "      <td>55.0</td>\n",
              "      <td>Trip Completed</td>\n",
              "      <td>2016-12-07 23:30:00</td>\n",
              "      <td>2016-07-13 00:37:17</td>\n",
              "      <td>12.0</td>\n",
              "      <td>7.0</td>\n",
              "      <td>5.0</td>\n",
              "    </tr>\n",
              "    <tr>\n",
              "      <th>656</th>\n",
              "      <td>2664.0</td>\n",
              "      <td>Airport</td>\n",
              "      <td>69.0</td>\n",
              "      <td>Trip Completed</td>\n",
              "      <td>2016-12-07 23:26:00</td>\n",
              "      <td>2016-07-13 00:01:12</td>\n",
              "      <td>12.0</td>\n",
              "      <td>7.0</td>\n",
              "      <td>5.0</td>\n",
              "    </tr>\n",
              "  </tbody>\n",
              "</table>\n",
              "</div>"
            ],
            "text/plain": [
              "     Request id Pickup point  Driver id  ...   Day Day1 Monthdif\n",
              "133      2675.0      Airport       15.0  ...  12.0  7.0      5.0\n",
              "143      2661.0      Airport       16.0  ...  12.0  7.0      5.0\n",
              "245      2667.0      Airport       25.0  ...  12.0  7.0      5.0\n",
              "532      2665.0      Airport       55.0  ...  12.0  7.0      5.0\n",
              "656      2664.0      Airport       69.0  ...  12.0  7.0      5.0\n",
              "\n",
              "[5 rows x 9 columns]"
            ]
          },
          "metadata": {
            "tags": []
          },
          "execution_count": 9
        }
      ]
    },
    {
      "cell_type": "markdown",
      "metadata": {
        "id": "SxgMSNmx-loc",
        "colab_type": "text"
      },
      "source": [
        "#### There is another problem with the month as here it can be possible that time and date of request timestamp column has replaced with each other so we need to remove this anomaly also"
      ]
    },
    {
      "cell_type": "code",
      "metadata": {
        "id": "udEm1WYA-j_z",
        "colab_type": "code",
        "outputId": "6b68f664-4788-47ca-f074-c47488804c3a",
        "colab": {
          "base_uri": "https://localhost:8080/",
          "height": 962
        }
      },
      "source": [
        "df2['D']=5.0\n",
        "df2['C']=4\n",
        "df2['Request timestamp']=df2['Request timestamp']-df2['D'].values.astype(\"timedelta64[M]\")#Adding to the number of months in the column Request time stamp\n",
        "df2['Request timestamp']=df2['Request timestamp']+df2['C'].values.astype(\"timedelta64[D]\")#Subtracting to the number of Days in the column Request time stamp\n",
        "# Here we are adding hours to the time in Request timestamp column because after addition/Subtraction of months the time has changed\n",
        "df2['Request timestamp']=df2['Request timestamp']+datetime.timedelta(hours=4)\n",
        "df2['Request timestamp']=df2['Request timestamp']+datetime.timedelta(minutes=26)\n",
        "df2['Request timestamp']=df2['Request timestamp']-datetime.timedelta(seconds=30)\n",
        "df.update(df2)\n",
        "df=df.drop(['Day','Day1','Monthdif'],axis=1)\n",
        "df.head()"
      ],
      "execution_count": 10,
      "outputs": [
        {
          "output_type": "stream",
          "text": [
            "/usr/local/lib/python3.6/dist-packages/ipykernel_launcher.py:1: SettingWithCopyWarning: \n",
            "A value is trying to be set on a copy of a slice from a DataFrame.\n",
            "Try using .loc[row_indexer,col_indexer] = value instead\n",
            "\n",
            "See the caveats in the documentation: http://pandas.pydata.org/pandas-docs/stable/indexing.html#indexing-view-versus-copy\n",
            "  \"\"\"Entry point for launching an IPython kernel.\n",
            "/usr/local/lib/python3.6/dist-packages/ipykernel_launcher.py:2: SettingWithCopyWarning: \n",
            "A value is trying to be set on a copy of a slice from a DataFrame.\n",
            "Try using .loc[row_indexer,col_indexer] = value instead\n",
            "\n",
            "See the caveats in the documentation: http://pandas.pydata.org/pandas-docs/stable/indexing.html#indexing-view-versus-copy\n",
            "  \n",
            "/usr/local/lib/python3.6/dist-packages/ipykernel_launcher.py:3: SettingWithCopyWarning: \n",
            "A value is trying to be set on a copy of a slice from a DataFrame.\n",
            "Try using .loc[row_indexer,col_indexer] = value instead\n",
            "\n",
            "See the caveats in the documentation: http://pandas.pydata.org/pandas-docs/stable/indexing.html#indexing-view-versus-copy\n",
            "  This is separate from the ipykernel package so we can avoid doing imports until\n",
            "/usr/local/lib/python3.6/dist-packages/ipykernel_launcher.py:4: SettingWithCopyWarning: \n",
            "A value is trying to be set on a copy of a slice from a DataFrame.\n",
            "Try using .loc[row_indexer,col_indexer] = value instead\n",
            "\n",
            "See the caveats in the documentation: http://pandas.pydata.org/pandas-docs/stable/indexing.html#indexing-view-versus-copy\n",
            "  after removing the cwd from sys.path.\n",
            "/usr/local/lib/python3.6/dist-packages/ipykernel_launcher.py:6: SettingWithCopyWarning: \n",
            "A value is trying to be set on a copy of a slice from a DataFrame.\n",
            "Try using .loc[row_indexer,col_indexer] = value instead\n",
            "\n",
            "See the caveats in the documentation: http://pandas.pydata.org/pandas-docs/stable/indexing.html#indexing-view-versus-copy\n",
            "  \n",
            "/usr/local/lib/python3.6/dist-packages/ipykernel_launcher.py:7: SettingWithCopyWarning: \n",
            "A value is trying to be set on a copy of a slice from a DataFrame.\n",
            "Try using .loc[row_indexer,col_indexer] = value instead\n",
            "\n",
            "See the caveats in the documentation: http://pandas.pydata.org/pandas-docs/stable/indexing.html#indexing-view-versus-copy\n",
            "  import sys\n",
            "/usr/local/lib/python3.6/dist-packages/ipykernel_launcher.py:8: SettingWithCopyWarning: \n",
            "A value is trying to be set on a copy of a slice from a DataFrame.\n",
            "Try using .loc[row_indexer,col_indexer] = value instead\n",
            "\n",
            "See the caveats in the documentation: http://pandas.pydata.org/pandas-docs/stable/indexing.html#indexing-view-versus-copy\n",
            "  \n"
          ],
          "name": "stderr"
        },
        {
          "output_type": "execute_result",
          "data": {
            "text/html": [
              "<div>\n",
              "<style scoped>\n",
              "    .dataframe tbody tr th:only-of-type {\n",
              "        vertical-align: middle;\n",
              "    }\n",
              "\n",
              "    .dataframe tbody tr th {\n",
              "        vertical-align: top;\n",
              "    }\n",
              "\n",
              "    .dataframe thead th {\n",
              "        text-align: right;\n",
              "    }\n",
              "</style>\n",
              "<table border=\"1\" class=\"dataframe\">\n",
              "  <thead>\n",
              "    <tr style=\"text-align: right;\">\n",
              "      <th></th>\n",
              "      <th>Request id</th>\n",
              "      <th>Pickup point</th>\n",
              "      <th>Driver id</th>\n",
              "      <th>Status</th>\n",
              "      <th>Request timestamp</th>\n",
              "      <th>Drop timestamp</th>\n",
              "    </tr>\n",
              "  </thead>\n",
              "  <tbody>\n",
              "    <tr>\n",
              "      <th>0</th>\n",
              "      <td>619.0</td>\n",
              "      <td>Airport</td>\n",
              "      <td>1.0</td>\n",
              "      <td>Trip Completed</td>\n",
              "      <td>2016-11-07 11:51:00</td>\n",
              "      <td>2016-11-07 13:00:00</td>\n",
              "    </tr>\n",
              "    <tr>\n",
              "      <th>1</th>\n",
              "      <td>867.0</td>\n",
              "      <td>Airport</td>\n",
              "      <td>1.0</td>\n",
              "      <td>Trip Completed</td>\n",
              "      <td>2016-11-07 17:57:00</td>\n",
              "      <td>2016-11-07 18:47:00</td>\n",
              "    </tr>\n",
              "    <tr>\n",
              "      <th>2</th>\n",
              "      <td>1807.0</td>\n",
              "      <td>City</td>\n",
              "      <td>1.0</td>\n",
              "      <td>Trip Completed</td>\n",
              "      <td>2016-12-07 09:17:00</td>\n",
              "      <td>2016-12-07 09:58:00</td>\n",
              "    </tr>\n",
              "    <tr>\n",
              "      <th>3</th>\n",
              "      <td>2532.0</td>\n",
              "      <td>Airport</td>\n",
              "      <td>1.0</td>\n",
              "      <td>Trip Completed</td>\n",
              "      <td>2016-12-07 21:08:00</td>\n",
              "      <td>2016-12-07 22:03:00</td>\n",
              "    </tr>\n",
              "    <tr>\n",
              "      <th>4</th>\n",
              "      <td>3112.0</td>\n",
              "      <td>City</td>\n",
              "      <td>1.0</td>\n",
              "      <td>Trip Completed</td>\n",
              "      <td>2016-07-13 08:33:16</td>\n",
              "      <td>2016-07-13 09:25:47</td>\n",
              "    </tr>\n",
              "  </tbody>\n",
              "</table>\n",
              "</div>"
            ],
            "text/plain": [
              "   Request id Pickup point  ...   Request timestamp      Drop timestamp\n",
              "0       619.0      Airport  ... 2016-11-07 11:51:00 2016-11-07 13:00:00\n",
              "1       867.0      Airport  ... 2016-11-07 17:57:00 2016-11-07 18:47:00\n",
              "2      1807.0         City  ... 2016-12-07 09:17:00 2016-12-07 09:58:00\n",
              "3      2532.0      Airport  ... 2016-12-07 21:08:00 2016-12-07 22:03:00\n",
              "4      3112.0         City  ... 2016-07-13 08:33:16 2016-07-13 09:25:47\n",
              "\n",
              "[5 rows x 6 columns]"
            ]
          },
          "metadata": {
            "tags": []
          },
          "execution_count": 10
        }
      ]
    },
    {
      "cell_type": "markdown",
      "metadata": {
        "id": "Wnf-4jyl_QV5",
        "colab_type": "text"
      },
      "source": [
        "#### Now the data has been cleaned properly."
      ]
    },
    {
      "cell_type": "markdown",
      "metadata": {
        "id": "MQ2yRkIqNtXr",
        "colab_type": "text"
      },
      "source": [
        "## Deriving New Columns"
      ]
    },
    {
      "cell_type": "code",
      "metadata": {
        "id": "Om8lvC8SNwzT",
        "colab_type": "code",
        "colab": {}
      },
      "source": [
        "df['Session']=df['Request timestamp'].dt.hour.apply(lambda x:\"Night\" if x<6  else (\"Morning\" if x<12 else(\"Afternoon\" if x<18 else(\"Evening\"))))"
      ],
      "execution_count": 0,
      "outputs": []
    },
    {
      "cell_type": "code",
      "metadata": {
        "id": "P5ZLl2VfPkDB",
        "colab_type": "code",
        "outputId": "5aea41eb-569a-4b24-f310-229d447c5c5c",
        "colab": {
          "base_uri": "https://localhost:8080/",
          "height": 198
        }
      },
      "source": [
        "df.head()"
      ],
      "execution_count": 12,
      "outputs": [
        {
          "output_type": "execute_result",
          "data": {
            "text/html": [
              "<div>\n",
              "<style scoped>\n",
              "    .dataframe tbody tr th:only-of-type {\n",
              "        vertical-align: middle;\n",
              "    }\n",
              "\n",
              "    .dataframe tbody tr th {\n",
              "        vertical-align: top;\n",
              "    }\n",
              "\n",
              "    .dataframe thead th {\n",
              "        text-align: right;\n",
              "    }\n",
              "</style>\n",
              "<table border=\"1\" class=\"dataframe\">\n",
              "  <thead>\n",
              "    <tr style=\"text-align: right;\">\n",
              "      <th></th>\n",
              "      <th>Request id</th>\n",
              "      <th>Pickup point</th>\n",
              "      <th>Driver id</th>\n",
              "      <th>Status</th>\n",
              "      <th>Request timestamp</th>\n",
              "      <th>Drop timestamp</th>\n",
              "      <th>Session</th>\n",
              "    </tr>\n",
              "  </thead>\n",
              "  <tbody>\n",
              "    <tr>\n",
              "      <th>0</th>\n",
              "      <td>619.0</td>\n",
              "      <td>Airport</td>\n",
              "      <td>1.0</td>\n",
              "      <td>Trip Completed</td>\n",
              "      <td>2016-11-07 11:51:00</td>\n",
              "      <td>2016-11-07 13:00:00</td>\n",
              "      <td>Morning</td>\n",
              "    </tr>\n",
              "    <tr>\n",
              "      <th>1</th>\n",
              "      <td>867.0</td>\n",
              "      <td>Airport</td>\n",
              "      <td>1.0</td>\n",
              "      <td>Trip Completed</td>\n",
              "      <td>2016-11-07 17:57:00</td>\n",
              "      <td>2016-11-07 18:47:00</td>\n",
              "      <td>Afternoon</td>\n",
              "    </tr>\n",
              "    <tr>\n",
              "      <th>2</th>\n",
              "      <td>1807.0</td>\n",
              "      <td>City</td>\n",
              "      <td>1.0</td>\n",
              "      <td>Trip Completed</td>\n",
              "      <td>2016-12-07 09:17:00</td>\n",
              "      <td>2016-12-07 09:58:00</td>\n",
              "      <td>Morning</td>\n",
              "    </tr>\n",
              "    <tr>\n",
              "      <th>3</th>\n",
              "      <td>2532.0</td>\n",
              "      <td>Airport</td>\n",
              "      <td>1.0</td>\n",
              "      <td>Trip Completed</td>\n",
              "      <td>2016-12-07 21:08:00</td>\n",
              "      <td>2016-12-07 22:03:00</td>\n",
              "      <td>Evening</td>\n",
              "    </tr>\n",
              "    <tr>\n",
              "      <th>4</th>\n",
              "      <td>3112.0</td>\n",
              "      <td>City</td>\n",
              "      <td>1.0</td>\n",
              "      <td>Trip Completed</td>\n",
              "      <td>2016-07-13 08:33:16</td>\n",
              "      <td>2016-07-13 09:25:47</td>\n",
              "      <td>Morning</td>\n",
              "    </tr>\n",
              "  </tbody>\n",
              "</table>\n",
              "</div>"
            ],
            "text/plain": [
              "   Request id Pickup point  ...      Drop timestamp    Session\n",
              "0       619.0      Airport  ... 2016-11-07 13:00:00    Morning\n",
              "1       867.0      Airport  ... 2016-11-07 18:47:00  Afternoon\n",
              "2      1807.0         City  ... 2016-12-07 09:58:00    Morning\n",
              "3      2532.0      Airport  ... 2016-12-07 22:03:00    Evening\n",
              "4      3112.0         City  ... 2016-07-13 09:25:47    Morning\n",
              "\n",
              "[5 rows x 7 columns]"
            ]
          },
          "metadata": {
            "tags": []
          },
          "execution_count": 12
        }
      ]
    },
    {
      "cell_type": "code",
      "metadata": {
        "id": "RTQeR3LBAaFS",
        "colab_type": "code",
        "colab": {}
      },
      "source": [
        "df['Destination']=df['Pickup point'].apply(lambda x:\"City-Airport\" if x=='City'else(\"Airport-City\"))"
      ],
      "execution_count": 0,
      "outputs": []
    },
    {
      "cell_type": "code",
      "metadata": {
        "id": "Sbg1AtMqQ2g6",
        "colab_type": "code",
        "colab": {}
      },
      "source": [
        "df['Availability']=df['Status'].apply(lambda x:\"Not Available\" if x=='No Cars Available' else(\"Available\"))"
      ],
      "execution_count": 0,
      "outputs": []
    },
    {
      "cell_type": "code",
      "metadata": {
        "id": "z5JrkFmTRN0a",
        "colab_type": "code",
        "outputId": "25e8ef7b-24e5-4242-bb4c-59a047b82812",
        "colab": {
          "base_uri": "https://localhost:8080/",
          "height": 198
        }
      },
      "source": [
        "df.head()"
      ],
      "execution_count": 15,
      "outputs": [
        {
          "output_type": "execute_result",
          "data": {
            "text/html": [
              "<div>\n",
              "<style scoped>\n",
              "    .dataframe tbody tr th:only-of-type {\n",
              "        vertical-align: middle;\n",
              "    }\n",
              "\n",
              "    .dataframe tbody tr th {\n",
              "        vertical-align: top;\n",
              "    }\n",
              "\n",
              "    .dataframe thead th {\n",
              "        text-align: right;\n",
              "    }\n",
              "</style>\n",
              "<table border=\"1\" class=\"dataframe\">\n",
              "  <thead>\n",
              "    <tr style=\"text-align: right;\">\n",
              "      <th></th>\n",
              "      <th>Request id</th>\n",
              "      <th>Pickup point</th>\n",
              "      <th>Driver id</th>\n",
              "      <th>Status</th>\n",
              "      <th>Request timestamp</th>\n",
              "      <th>Drop timestamp</th>\n",
              "      <th>Session</th>\n",
              "      <th>Destination</th>\n",
              "      <th>Availability</th>\n",
              "    </tr>\n",
              "  </thead>\n",
              "  <tbody>\n",
              "    <tr>\n",
              "      <th>0</th>\n",
              "      <td>619.0</td>\n",
              "      <td>Airport</td>\n",
              "      <td>1.0</td>\n",
              "      <td>Trip Completed</td>\n",
              "      <td>2016-11-07 11:51:00</td>\n",
              "      <td>2016-11-07 13:00:00</td>\n",
              "      <td>Morning</td>\n",
              "      <td>Airport-City</td>\n",
              "      <td>Available</td>\n",
              "    </tr>\n",
              "    <tr>\n",
              "      <th>1</th>\n",
              "      <td>867.0</td>\n",
              "      <td>Airport</td>\n",
              "      <td>1.0</td>\n",
              "      <td>Trip Completed</td>\n",
              "      <td>2016-11-07 17:57:00</td>\n",
              "      <td>2016-11-07 18:47:00</td>\n",
              "      <td>Afternoon</td>\n",
              "      <td>Airport-City</td>\n",
              "      <td>Available</td>\n",
              "    </tr>\n",
              "    <tr>\n",
              "      <th>2</th>\n",
              "      <td>1807.0</td>\n",
              "      <td>City</td>\n",
              "      <td>1.0</td>\n",
              "      <td>Trip Completed</td>\n",
              "      <td>2016-12-07 09:17:00</td>\n",
              "      <td>2016-12-07 09:58:00</td>\n",
              "      <td>Morning</td>\n",
              "      <td>City-Airport</td>\n",
              "      <td>Available</td>\n",
              "    </tr>\n",
              "    <tr>\n",
              "      <th>3</th>\n",
              "      <td>2532.0</td>\n",
              "      <td>Airport</td>\n",
              "      <td>1.0</td>\n",
              "      <td>Trip Completed</td>\n",
              "      <td>2016-12-07 21:08:00</td>\n",
              "      <td>2016-12-07 22:03:00</td>\n",
              "      <td>Evening</td>\n",
              "      <td>Airport-City</td>\n",
              "      <td>Available</td>\n",
              "    </tr>\n",
              "    <tr>\n",
              "      <th>4</th>\n",
              "      <td>3112.0</td>\n",
              "      <td>City</td>\n",
              "      <td>1.0</td>\n",
              "      <td>Trip Completed</td>\n",
              "      <td>2016-07-13 08:33:16</td>\n",
              "      <td>2016-07-13 09:25:47</td>\n",
              "      <td>Morning</td>\n",
              "      <td>City-Airport</td>\n",
              "      <td>Available</td>\n",
              "    </tr>\n",
              "  </tbody>\n",
              "</table>\n",
              "</div>"
            ],
            "text/plain": [
              "   Request id Pickup point  Driver id  ...    Session   Destination Availability\n",
              "0       619.0      Airport        1.0  ...    Morning  Airport-City    Available\n",
              "1       867.0      Airport        1.0  ...  Afternoon  Airport-City    Available\n",
              "2      1807.0         City        1.0  ...    Morning  City-Airport    Available\n",
              "3      2532.0      Airport        1.0  ...    Evening  Airport-City    Available\n",
              "4      3112.0         City        1.0  ...    Morning  City-Airport    Available\n",
              "\n",
              "[5 rows x 9 columns]"
            ]
          },
          "metadata": {
            "tags": []
          },
          "execution_count": 15
        }
      ]
    },
    {
      "cell_type": "code",
      "metadata": {
        "id": "lLkb0no1H7n6",
        "colab_type": "code",
        "colab": {}
      },
      "source": [
        "df['Request Hour']=df['Request timestamp'].dt.hour"
      ],
      "execution_count": 0,
      "outputs": []
    },
    {
      "cell_type": "code",
      "metadata": {
        "id": "k4g0hUJ3ICYC",
        "colab_type": "code",
        "colab": {
          "base_uri": "https://localhost:8080/",
          "height": 198
        },
        "outputId": "dbe36e5f-56c2-4d2e-c555-3f656219b929"
      },
      "source": [
        "df.head()"
      ],
      "execution_count": 17,
      "outputs": [
        {
          "output_type": "execute_result",
          "data": {
            "text/html": [
              "<div>\n",
              "<style scoped>\n",
              "    .dataframe tbody tr th:only-of-type {\n",
              "        vertical-align: middle;\n",
              "    }\n",
              "\n",
              "    .dataframe tbody tr th {\n",
              "        vertical-align: top;\n",
              "    }\n",
              "\n",
              "    .dataframe thead th {\n",
              "        text-align: right;\n",
              "    }\n",
              "</style>\n",
              "<table border=\"1\" class=\"dataframe\">\n",
              "  <thead>\n",
              "    <tr style=\"text-align: right;\">\n",
              "      <th></th>\n",
              "      <th>Request id</th>\n",
              "      <th>Pickup point</th>\n",
              "      <th>Driver id</th>\n",
              "      <th>Status</th>\n",
              "      <th>Request timestamp</th>\n",
              "      <th>Drop timestamp</th>\n",
              "      <th>Session</th>\n",
              "      <th>Destination</th>\n",
              "      <th>Availability</th>\n",
              "      <th>Request Hour</th>\n",
              "    </tr>\n",
              "  </thead>\n",
              "  <tbody>\n",
              "    <tr>\n",
              "      <th>0</th>\n",
              "      <td>619.0</td>\n",
              "      <td>Airport</td>\n",
              "      <td>1.0</td>\n",
              "      <td>Trip Completed</td>\n",
              "      <td>2016-11-07 11:51:00</td>\n",
              "      <td>2016-11-07 13:00:00</td>\n",
              "      <td>Morning</td>\n",
              "      <td>Airport-City</td>\n",
              "      <td>Available</td>\n",
              "      <td>11</td>\n",
              "    </tr>\n",
              "    <tr>\n",
              "      <th>1</th>\n",
              "      <td>867.0</td>\n",
              "      <td>Airport</td>\n",
              "      <td>1.0</td>\n",
              "      <td>Trip Completed</td>\n",
              "      <td>2016-11-07 17:57:00</td>\n",
              "      <td>2016-11-07 18:47:00</td>\n",
              "      <td>Afternoon</td>\n",
              "      <td>Airport-City</td>\n",
              "      <td>Available</td>\n",
              "      <td>17</td>\n",
              "    </tr>\n",
              "    <tr>\n",
              "      <th>2</th>\n",
              "      <td>1807.0</td>\n",
              "      <td>City</td>\n",
              "      <td>1.0</td>\n",
              "      <td>Trip Completed</td>\n",
              "      <td>2016-12-07 09:17:00</td>\n",
              "      <td>2016-12-07 09:58:00</td>\n",
              "      <td>Morning</td>\n",
              "      <td>City-Airport</td>\n",
              "      <td>Available</td>\n",
              "      <td>9</td>\n",
              "    </tr>\n",
              "    <tr>\n",
              "      <th>3</th>\n",
              "      <td>2532.0</td>\n",
              "      <td>Airport</td>\n",
              "      <td>1.0</td>\n",
              "      <td>Trip Completed</td>\n",
              "      <td>2016-12-07 21:08:00</td>\n",
              "      <td>2016-12-07 22:03:00</td>\n",
              "      <td>Evening</td>\n",
              "      <td>Airport-City</td>\n",
              "      <td>Available</td>\n",
              "      <td>21</td>\n",
              "    </tr>\n",
              "    <tr>\n",
              "      <th>4</th>\n",
              "      <td>3112.0</td>\n",
              "      <td>City</td>\n",
              "      <td>1.0</td>\n",
              "      <td>Trip Completed</td>\n",
              "      <td>2016-07-13 08:33:16</td>\n",
              "      <td>2016-07-13 09:25:47</td>\n",
              "      <td>Morning</td>\n",
              "      <td>City-Airport</td>\n",
              "      <td>Available</td>\n",
              "      <td>8</td>\n",
              "    </tr>\n",
              "  </tbody>\n",
              "</table>\n",
              "</div>"
            ],
            "text/plain": [
              "   Request id Pickup point  Driver id  ...   Destination Availability Request Hour\n",
              "0       619.0      Airport        1.0  ...  Airport-City    Available           11\n",
              "1       867.0      Airport        1.0  ...  Airport-City    Available           17\n",
              "2      1807.0         City        1.0  ...  City-Airport    Available            9\n",
              "3      2532.0      Airport        1.0  ...  Airport-City    Available           21\n",
              "4      3112.0         City        1.0  ...  City-Airport    Available            8\n",
              "\n",
              "[5 rows x 10 columns]"
            ]
          },
          "metadata": {
            "tags": []
          },
          "execution_count": 17
        }
      ]
    },
    {
      "cell_type": "markdown",
      "metadata": {
        "id": "JgyQ0WUXIZWl",
        "colab_type": "text"
      },
      "source": [
        "## Datatypes Used"
      ]
    },
    {
      "cell_type": "code",
      "metadata": {
        "id": "pArQshPUERKJ",
        "colab_type": "code",
        "outputId": "0609abe6-6b57-4ffc-a287-f708d4a910d8",
        "colab": {
          "base_uri": "https://localhost:8080/",
          "height": 290
        }
      },
      "source": [
        "df.info()"
      ],
      "execution_count": 18,
      "outputs": [
        {
          "output_type": "stream",
          "text": [
            "<class 'pandas.core.frame.DataFrame'>\n",
            "RangeIndex: 6745 entries, 0 to 6744\n",
            "Data columns (total 10 columns):\n",
            "Request id           6745 non-null float64\n",
            "Pickup point         6745 non-null object\n",
            "Driver id            4095 non-null float64\n",
            "Status               6745 non-null object\n",
            "Request timestamp    6745 non-null datetime64[ns]\n",
            "Drop timestamp       2831 non-null datetime64[ns]\n",
            "Session              6745 non-null object\n",
            "Destination          6745 non-null object\n",
            "Availability         6745 non-null object\n",
            "Request Hour         6745 non-null int64\n",
            "dtypes: datetime64[ns](2), float64(2), int64(1), object(5)\n",
            "memory usage: 527.0+ KB\n"
          ],
          "name": "stdout"
        }
      ]
    },
    {
      "cell_type": "markdown",
      "metadata": {
        "id": "nUZWuYUzImGo",
        "colab_type": "text"
      },
      "source": [
        "#### It is visible from the above analysis that there are 2 type of float type columns , 2 datetime type columns and also 2 object type columns"
      ]
    },
    {
      "cell_type": "code",
      "metadata": {
        "id": "Cwv7qRWu_Fc8",
        "colab_type": "code",
        "outputId": "93eca574-284c-4f80-ba10-9591d8181c88",
        "colab": {
          "base_uri": "https://localhost:8080/",
          "height": 217
        }
      },
      "source": [
        "#To check the number of unique values in each columns of dataset\n",
        "df.apply( lambda x: len(x.unique()))"
      ],
      "execution_count": 19,
      "outputs": [
        {
          "output_type": "execute_result",
          "data": {
            "text/plain": [
              "Request id           6745\n",
              "Pickup point            2\n",
              "Driver id             301\n",
              "Status                  3\n",
              "Request timestamp    6029\n",
              "Drop timestamp       2599\n",
              "Session                 4\n",
              "Destination             2\n",
              "Availability            2\n",
              "Request Hour           24\n",
              "dtype: int64"
            ]
          },
          "metadata": {
            "tags": []
          },
          "execution_count": 19
        }
      ]
    },
    {
      "cell_type": "markdown",
      "metadata": {
        "id": "cmk9NR63I9Tm",
        "colab_type": "text"
      },
      "source": [
        "#### Here we can see that there are 3 type of status value and 2 type of Pickpoint Value."
      ]
    },
    {
      "cell_type": "markdown",
      "metadata": {
        "id": "FjtuxuLRJIf7",
        "colab_type": "text"
      },
      "source": [
        "## Identifying th Pressing Problems"
      ]
    },
    {
      "cell_type": "markdown",
      "metadata": {
        "id": "gMfHAGWmJMIm",
        "colab_type": "text"
      },
      "source": [
        "### 1. Pickup Point"
      ]
    },
    {
      "cell_type": "code",
      "metadata": {
        "id": "XgC1ArHTI7fs",
        "colab_type": "code",
        "outputId": "86117e0f-98fe-4c5e-91ca-112517835325",
        "colab": {
          "base_uri": "https://localhost:8080/",
          "height": 108
        }
      },
      "source": [
        "df['Destination'].describe()"
      ],
      "execution_count": 20,
      "outputs": [
        {
          "output_type": "execute_result",
          "data": {
            "text/plain": [
              "count             6745\n",
              "unique               2\n",
              "top       City-Airport\n",
              "freq              3507\n",
              "Name: Destination, dtype: object"
            ]
          },
          "metadata": {
            "tags": []
          },
          "execution_count": 20
        }
      ]
    },
    {
      "cell_type": "markdown",
      "metadata": {
        "id": "GYEja2OaJaKu",
        "colab_type": "text"
      },
      "source": [
        "#### Here we can see that  maximum Destinations is from City.-Airport"
      ]
    },
    {
      "cell_type": "code",
      "metadata": {
        "id": "jKWuWN-HJXIE",
        "colab_type": "code",
        "outputId": "a4fde7a8-223b-4b16-d961-3ffc3dd90f76",
        "colab": {
          "base_uri": "https://localhost:8080/",
          "height": 90
        }
      },
      "source": [
        "df1=df.groupby('Destination').size()\n",
        "df1"
      ],
      "execution_count": 21,
      "outputs": [
        {
          "output_type": "execute_result",
          "data": {
            "text/plain": [
              "Destination\n",
              "Airport-City    3238\n",
              "City-Airport    3507\n",
              "dtype: int64"
            ]
          },
          "metadata": {
            "tags": []
          },
          "execution_count": 21
        }
      ]
    },
    {
      "cell_type": "markdown",
      "metadata": {
        "id": "6cZ-r-zHJs5P",
        "colab_type": "text"
      },
      "source": [
        "#### There are 3238 times from which theDestination is Airport- City whereas  there are 3507 times from which the destination is from City -Airport"
      ]
    },
    {
      "cell_type": "code",
      "metadata": {
        "id": "RFWAlJJ2JolY",
        "colab_type": "code",
        "outputId": "88c9cd30-040f-40e2-939a-1987a032f209",
        "colab": {
          "base_uri": "https://localhost:8080/",
          "height": 314
        }
      },
      "source": [
        "k=sns.countplot(df['Destination'])\n",
        "k.set_title('Destination')"
      ],
      "execution_count": 22,
      "outputs": [
        {
          "output_type": "execute_result",
          "data": {
            "text/plain": [
              "Text(0.5, 1.0, 'Destination')"
            ]
          },
          "metadata": {
            "tags": []
          },
          "execution_count": 22
        },
        {
          "output_type": "display_data",
          "data": {
            "image/png": "[encoded data removed]",
            "text/plain": [
              "<Figure size 432x288 with 1 Axes>"
            ]
          },
          "metadata": {
            "tags": []
          }
        }
      ]
    },
    {
      "cell_type": "markdown",
      "metadata": {
        "id": "RRS1jy4xKLGE",
        "colab_type": "text"
      },
      "source": [
        "#### The Destination are nearly equal to each other according to the graph"
      ]
    },
    {
      "cell_type": "code",
      "metadata": {
        "id": "NfK7GKZbJ-o4",
        "colab_type": "code",
        "outputId": "f84a0a15-4460-45eb-b45d-cbe2c03b57a0",
        "colab": {
          "base_uri": "https://localhost:8080/",
          "height": 365
        }
      },
      "source": [
        "pie(df1,labels=df1.index,autopct='%1.1f%%')"
      ],
      "execution_count": 23,
      "outputs": [
        {
          "output_type": "execute_result",
          "data": {
            "text/plain": [
              "([<matplotlib.patches.Wedge at 0x7fc70f6f62e8>,\n",
              "  <matplotlib.patches.Wedge at 0x7fc70f6f69e8>],\n",
              " [Text(0.06886506273679674, 1.0978422487471764, 'Airport-City'),\n",
              "  Text(-0.06886516552420652, -1.097842242299559, 'City-Airport')],\n",
              " [Text(0.03756276149279821, 0.5988230447711871, '48.0%'),\n",
              "  Text(-0.0375628175586581, -0.5988230412543049, '52.0%')])"
            ]
          },
          "metadata": {
            "tags": []
          },
          "execution_count": 23
        },
        {
          "output_type": "display_data",
          "data": {
            "image/png": "[encoded data removed]",
            "text/plain": [
              "<Figure size 432x288 with 1 Axes>"
            ]
          },
          "metadata": {
            "tags": []
          }
        }
      ]
    },
    {
      "cell_type": "markdown",
      "metadata": {
        "id": "gRS3eYqIK8Sq",
        "colab_type": "text"
      },
      "source": [
        "#### From the above graph it is visible that 52 % times the Destination is from City- Airport whereas 48 % time the Destination is from Airport- City"
      ]
    },
    {
      "cell_type": "markdown",
      "metadata": {
        "id": "pw5Isi1OLW3V",
        "colab_type": "text"
      },
      "source": [
        "### Status"
      ]
    },
    {
      "cell_type": "code",
      "metadata": {
        "id": "gsc9M3BRLWjq",
        "colab_type": "code",
        "outputId": "1f5364d5-254d-40fc-cbff-1fbca66b7e22",
        "colab": {
          "base_uri": "https://localhost:8080/",
          "height": 108
        }
      },
      "source": [
        "df['Status'].describe()\n"
      ],
      "execution_count": 24,
      "outputs": [
        {
          "output_type": "execute_result",
          "data": {
            "text/plain": [
              "count               6745\n",
              "unique                 3\n",
              "top       Trip Completed\n",
              "freq                2831\n",
              "Name: Status, dtype: object"
            ]
          },
          "metadata": {
            "tags": []
          },
          "execution_count": 24
        }
      ]
    },
    {
      "cell_type": "markdown",
      "metadata": {
        "id": "xiDp82tILoVS",
        "colab_type": "text"
      },
      "source": [
        "#### It is visible from the above analysis that mostly the Trip has completed that is 2831 times."
      ]
    },
    {
      "cell_type": "code",
      "metadata": {
        "id": "1IFtnHgFMqrq",
        "colab_type": "code",
        "outputId": "f0e032b5-3336-443b-ebd3-71af6bc5fdba",
        "colab": {
          "base_uri": "https://localhost:8080/",
          "height": 108
        }
      },
      "source": [
        "df2=df.groupby('Status').size()\n",
        "df2"
      ],
      "execution_count": 25,
      "outputs": [
        {
          "output_type": "execute_result",
          "data": {
            "text/plain": [
              "Status\n",
              "Cancelled            1264\n",
              "No Cars Available    2650\n",
              "Trip Completed       2831\n",
              "dtype: int64"
            ]
          },
          "metadata": {
            "tags": []
          },
          "execution_count": 25
        }
      ]
    },
    {
      "cell_type": "markdown",
      "metadata": {
        "id": "k5Tx5xaqMswP",
        "colab_type": "text"
      },
      "source": [
        "#### There are 1264 times the Request from costumer has been Cancelled  whereas 2650 times there are No cars available whereas 2831 times , the trip has been completed"
      ]
    },
    {
      "cell_type": "code",
      "metadata": {
        "id": "qwDB507NKax_",
        "colab_type": "code",
        "outputId": "1291869a-dec7-42a1-9e51-5126ec0c3eba",
        "colab": {
          "base_uri": "https://localhost:8080/",
          "height": 302
        }
      },
      "source": [
        "sns.countplot(df['Status'])"
      ],
      "execution_count": 26,
      "outputs": [
        {
          "output_type": "execute_result",
          "data": {
            "text/plain": [
              "<matplotlib.axes._subplots.AxesSubplot at 0x7fc70f681fd0>"
            ]
          },
          "metadata": {
            "tags": []
          },
          "execution_count": 26
        },
        {
          "output_type": "display_data",
          "data": {
            "image/png": "[encoded data removed]",
            "text/plain": [
              "<Figure size 432x288 with 1 Axes>"
            ]
          },
          "metadata": {
            "tags": []
          }
        }
      ]
    },
    {
      "cell_type": "markdown",
      "metadata": {
        "id": "7i0ASDL5L09K",
        "colab_type": "text"
      },
      "source": [
        "#### Here it can be seen that the trips completed and No cars Available has the maximum frequency."
      ]
    },
    {
      "cell_type": "code",
      "metadata": {
        "id": "wQfR2XypLyo2",
        "colab_type": "code",
        "outputId": "52699337-b902-4dcf-9d92-9cdbc2d73068",
        "colab": {
          "base_uri": "https://localhost:8080/",
          "height": 419
        }
      },
      "source": [
        "pie(df2,labels=df2.index,autopct='%1.1f%%')"
      ],
      "execution_count": 27,
      "outputs": [
        {
          "output_type": "execute_result",
          "data": {
            "text/plain": [
              "([<matplotlib.patches.Wedge at 0x7fc70f60e0b8>,\n",
              "  <matplotlib.patches.Wedge at 0x7fc70f60e7f0>,\n",
              "  <matplotlib.patches.Wedge at 0x7fc70f60eef0>],\n",
              " [Text(0.9148122117335421, 0.6108343615606322, 'Cancelled'),\n",
              "  Text(-0.8197978372292601, 0.7334381405914392, 'No Cars Available'),\n",
              "  Text(0.27450168572516787, -1.0651989600699212, 'Trip Completed')],\n",
              " [Text(0.49898847912738653, 0.3331823790330721, '18.7%'),\n",
              "  Text(-0.44716245667050547, 0.40005716759533044, '39.3%'),\n",
              "  Text(0.1497281922137279, -0.5810176145835932, '42.0%')])"
            ]
          },
          "metadata": {
            "tags": []
          },
          "execution_count": 27
        },
        {
          "output_type": "display_data",
          "data": {
            "image/png": "[encoded data removed]",
            "text/plain": [
              "<Figure size 432x288 with 1 Axes>"
            ]
          },
          "metadata": {
            "tags": []
          }
        }
      ]
    },
    {
      "cell_type": "markdown",
      "metadata": {
        "id": "V6ekusD_NSKn",
        "colab_type": "text"
      },
      "source": [
        "#### So from the above analysis it is visible that 39.3 % times when the user putted a car request there were no cars available whereas 18.7 % times the trip was cancelled whereas 42 % times the trip was completed from the total request."
      ]
    },
    {
      "cell_type": "markdown",
      "metadata": {
        "id": "HT4pxohpRR1T",
        "colab_type": "text"
      },
      "source": [
        "## Session"
      ]
    },
    {
      "cell_type": "code",
      "metadata": {
        "id": "sc_3_seJMje2",
        "colab_type": "code",
        "outputId": "44087394-c26f-4057-a02c-18c322d3b659",
        "colab": {
          "base_uri": "https://localhost:8080/",
          "height": 108
        }
      },
      "source": [
        "df['Session'].describe()"
      ],
      "execution_count": 28,
      "outputs": [
        {
          "output_type": "execute_result",
          "data": {
            "text/plain": [
              "count        6745\n",
              "unique          4\n",
              "top       Evening\n",
              "freq         2422\n",
              "Name: Session, dtype: object"
            ]
          },
          "metadata": {
            "tags": []
          },
          "execution_count": 28
        }
      ]
    },
    {
      "cell_type": "markdown",
      "metadata": {
        "id": "OW4XCUItRX-l",
        "colab_type": "text"
      },
      "source": [
        "#### Here it is visible that the maximum time the Request has been made in Evening times that is 2422 times"
      ]
    },
    {
      "cell_type": "code",
      "metadata": {
        "id": "hMPLd1bTRXse",
        "colab_type": "code",
        "outputId": "934473c0-d793-40ab-91ff-b905ba378565",
        "colab": {
          "base_uri": "https://localhost:8080/",
          "height": 126
        }
      },
      "source": [
        "df3=df.groupby('Session').size()\n",
        "df3"
      ],
      "execution_count": 29,
      "outputs": [
        {
          "output_type": "execute_result",
          "data": {
            "text/plain": [
              "Session\n",
              "Afternoon    1228\n",
              "Evening      2422\n",
              "Morning      2072\n",
              "Night        1023\n",
              "dtype: int64"
            ]
          },
          "metadata": {
            "tags": []
          },
          "execution_count": 29
        }
      ]
    },
    {
      "cell_type": "markdown",
      "metadata": {
        "id": "G4ybQMhCR26v",
        "colab_type": "text"
      },
      "source": [
        "#### Here we can see the distribution of the requests made according to the sessions as we can see that maximum times the request is made on Evening that is 2422 times whereas on night the requests are made minimum times that is 1023 times."
      ]
    },
    {
      "cell_type": "code",
      "metadata": {
        "id": "po0gJ-lzRWVa",
        "colab_type": "code",
        "outputId": "e189bff6-f779-418a-8ea8-c9b81f3270fe",
        "colab": {
          "base_uri": "https://localhost:8080/",
          "height": 302
        }
      },
      "source": [
        "sns.countplot(df['Session'])"
      ],
      "execution_count": 30,
      "outputs": [
        {
          "output_type": "execute_result",
          "data": {
            "text/plain": [
              "<matplotlib.axes._subplots.AxesSubplot at 0x7fc70f621400>"
            ]
          },
          "metadata": {
            "tags": []
          },
          "execution_count": 30
        },
        {
          "output_type": "display_data",
          "data": {
            "image/png": "[encoded data removed]",
            "text/plain": [
              "<Figure size 432x288 with 1 Axes>"
            ]
          },
          "metadata": {
            "tags": []
          }
        }
      ]
    },
    {
      "cell_type": "markdown",
      "metadata": {
        "id": "tW1riFeDSqAR",
        "colab_type": "text"
      },
      "source": [
        "#### From here we can see the visualiztion on the column session also"
      ]
    },
    {
      "cell_type": "code",
      "metadata": {
        "id": "xRImvvHxSn6F",
        "colab_type": "code",
        "outputId": "d50a118d-d192-4315-949b-313547a0ef08",
        "colab": {
          "base_uri": "https://localhost:8080/",
          "height": 474
        }
      },
      "source": [
        "pie(df3,labels=df3.index,autopct='%1.1f%%')"
      ],
      "execution_count": 31,
      "outputs": [
        {
          "output_type": "execute_result",
          "data": {
            "text/plain": [
              "([<matplotlib.patches.Wedge at 0x7fc70cd1d908>,\n",
              "  <matplotlib.patches.Wedge at 0x7fc70cd26080>,\n",
              "  <matplotlib.patches.Wedge at 0x7fc70cd26780>,\n",
              "  <matplotlib.patches.Wedge at 0x7fc70cd26e80>],\n",
              " [Text(0.9249253418358186, 0.5954100368904561, 'Afternoon'),\n",
              "  Text(-0.7096577400126294, 0.8404676626974815, 'Evening'),\n",
              "  Text(-0.3743225163513971, -1.034351320273899, 'Morning'),\n",
              "  Text(0.977476988688673, -0.5045183213562455, 'Night')],\n",
              " [Text(0.5045047319104464, 0.32476911103115785, '18.2%'),\n",
              "  Text(-0.3870860400068887, 0.45843690692589895, '35.9%'),\n",
              "  Text(-0.20417591800985296, -0.5641916292403085, '30.7%'),\n",
              "  Text(0.533169266557458, -0.2751918116488612, '15.2%')])"
            ]
          },
          "metadata": {
            "tags": []
          },
          "execution_count": 31
        },
        {
          "output_type": "display_data",
          "data": {
            "image/png": "[encoded data removed]",
            "text/plain": [
              "<Figure size 432x288 with 1 Axes>"
            ]
          },
          "metadata": {
            "tags": []
          }
        }
      ]
    },
    {
      "cell_type": "markdown",
      "metadata": {
        "id": "LvWiw4mLTJp_",
        "colab_type": "text"
      },
      "source": [
        "#### From the above visualization, we can see that 35.9% of requests are made on Evening whereas 30.7% of requests made on Morning . "
      ]
    },
    {
      "cell_type": "markdown",
      "metadata": {
        "id": "tfkwQ5_DTqR5",
        "colab_type": "text"
      },
      "source": [
        "### Availability"
      ]
    },
    {
      "cell_type": "code",
      "metadata": {
        "id": "UPzF9_l4TBBU",
        "colab_type": "code",
        "outputId": "adb9cca6-7161-4856-e0bb-950209678ae0",
        "colab": {
          "base_uri": "https://localhost:8080/",
          "height": 108
        }
      },
      "source": [
        "df['Availability'].describe()"
      ],
      "execution_count": 32,
      "outputs": [
        {
          "output_type": "execute_result",
          "data": {
            "text/plain": [
              "count          6745\n",
              "unique            2\n",
              "top       Available\n",
              "freq           4095\n",
              "Name: Availability, dtype: object"
            ]
          },
          "metadata": {
            "tags": []
          },
          "execution_count": 32
        }
      ]
    },
    {
      "cell_type": "markdown",
      "metadata": {
        "id": "FcocjV1rT7EK",
        "colab_type": "text"
      },
      "source": [
        "#### Here it can be noted that about 4095 times the cars are available."
      ]
    },
    {
      "cell_type": "code",
      "metadata": {
        "id": "0CQQ_vmkT51d",
        "colab_type": "code",
        "outputId": "22ba7367-851d-4508-90e3-14fdaaebea08",
        "colab": {
          "base_uri": "https://localhost:8080/",
          "height": 90
        }
      },
      "source": [
        "df4=df.groupby('Availability').size()\n",
        "df4"
      ],
      "execution_count": 33,
      "outputs": [
        {
          "output_type": "execute_result",
          "data": {
            "text/plain": [
              "Availability\n",
              "Available        4095\n",
              "Not Available    2650\n",
              "dtype: int64"
            ]
          },
          "metadata": {
            "tags": []
          },
          "execution_count": 33
        }
      ]
    },
    {
      "cell_type": "markdown",
      "metadata": {
        "id": "BhAp57_GUO-F",
        "colab_type": "text"
      },
      "source": [
        "#### In the above analysis we can see the above distribution that the number of times the cars were available are more than they are not available."
      ]
    },
    {
      "cell_type": "code",
      "metadata": {
        "id": "Dmiaq-z5UIea",
        "colab_type": "code",
        "outputId": "f747421d-627a-4dfe-86d1-6aab3fe0fcbc",
        "colab": {
          "base_uri": "https://localhost:8080/",
          "height": 302
        }
      },
      "source": [
        "sns.countplot(df['Availability'])"
      ],
      "execution_count": 34,
      "outputs": [
        {
          "output_type": "execute_result",
          "data": {
            "text/plain": [
              "<matplotlib.axes._subplots.AxesSubplot at 0x7fc70ccbd240>"
            ]
          },
          "metadata": {
            "tags": []
          },
          "execution_count": 34
        },
        {
          "output_type": "display_data",
          "data": {
            "image/png": "[encoded data removed]",
            "text/plain": [
              "<Figure size 432x288 with 1 Axes>"
            ]
          },
          "metadata": {
            "tags": []
          }
        }
      ]
    },
    {
      "cell_type": "markdown",
      "metadata": {
        "id": "6BbkYblW2lHQ",
        "colab_type": "text"
      },
      "source": [
        "#### Here we can see that number of available cars at the time of request are more than the number of car not availabe at that time."
      ]
    },
    {
      "cell_type": "code",
      "metadata": {
        "id": "1YnbLVP31zrE",
        "colab_type": "code",
        "outputId": "b5021187-de00-4f2e-e3d0-5a5aa58c0228",
        "colab": {
          "base_uri": "https://localhost:8080/",
          "height": 365
        }
      },
      "source": [
        "pie(df4,labels=df4.index,autopct='%1.1f%%')"
      ],
      "execution_count": 35,
      "outputs": [
        {
          "output_type": "execute_result",
          "data": {
            "text/plain": [
              "([<matplotlib.patches.Wedge at 0x7fc70cc367b8>,\n",
              "  <matplotlib.patches.Wedge at 0x7fc70cc36ef0>],\n",
              " [Text(-0.36322067218241233, 1.0383018555792707, 'Available'),\n",
              "  Text(0.3632207693952466, -1.0383018215720925, 'Not Available')],\n",
              " [Text(-0.19812036664495217, 0.5663464666796022, '60.7%'),\n",
              "  Text(0.1981204196701345, -0.5663464481302322, '39.3%')])"
            ]
          },
          "metadata": {
            "tags": []
          },
          "execution_count": 35
        },
        {
          "output_type": "display_data",
          "data": {
            "image/png": "[encoded data removed]",
            "text/plain": [
              "<Figure size 432x288 with 1 Axes>"
            ]
          },
          "metadata": {
            "tags": []
          }
        }
      ]
    },
    {
      "cell_type": "markdown",
      "metadata": {
        "id": "dWXWHhbD3UW1",
        "colab_type": "text"
      },
      "source": [
        "#### Accorrding to the above graph we can say that 60.7% times the cars are available and 39.3 % times the cars are not available"
      ]
    },
    {
      "cell_type": "markdown",
      "metadata": {
        "id": "ovENWXV0MBjQ",
        "colab_type": "text"
      },
      "source": [
        "### Gap between supply and demand"
      ]
    },
    {
      "cell_type": "markdown",
      "metadata": {
        "id": "aHbkoVHLJEGv",
        "colab_type": "text"
      },
      "source": [
        "### Request Hour Time slot"
      ]
    },
    {
      "cell_type": "code",
      "metadata": {
        "id": "qiWiHD0OJMaC",
        "colab_type": "code",
        "colab": {
          "base_uri": "https://localhost:8080/",
          "height": 532
        },
        "outputId": "43b13486-ba8d-47de-f4f5-21655c453e93"
      },
      "source": [
        "plt.figure(figsize=(15,8))\n",
        "k=sns.countplot(df['Request Hour'])\n",
        "k.set_title('Request Hour')"
      ],
      "execution_count": 36,
      "outputs": [
        {
          "output_type": "execute_result",
          "data": {
            "text/plain": [
              "Text(0.5, 1.0, 'Request Hour')"
            ]
          },
          "metadata": {
            "tags": []
          },
          "execution_count": 36
        },
        {
          "output_type": "display_data",
          "data": {
            "image/png": "[encoded data removed]",
            "text/plain": [
              "<Figure size 1080x576 with 1 Axes>"
            ]
          },
          "metadata": {
            "tags": []
          }
        }
      ]
    },
    {
      "cell_type": "markdown",
      "metadata": {
        "id": "FYOelPEWJZOS",
        "colab_type": "text"
      },
      "source": [
        "#### It can be seen from the table that at time 5- 9 A.M and 17-21 P.M the request for the cab is maximum whereas it is minimum at 0-4 A.M and 10-16 P.M"
      ]
    },
    {
      "cell_type": "code",
      "metadata": {
        "id": "ZhOt7DfCJQMC",
        "colab_type": "code",
        "colab": {
          "base_uri": "https://localhost:8080/",
          "height": 490
        },
        "outputId": "da1a955a-979c-4ce9-b3f1-fdf911e23db5"
      },
      "source": [
        "p=df.groupby('Request Hour').size()\n",
        "p"
      ],
      "execution_count": 37,
      "outputs": [
        {
          "output_type": "execute_result",
          "data": {
            "text/plain": [
              "Request Hour\n",
              "0      99\n",
              "1      85\n",
              "2      99\n",
              "3      92\n",
              "4     203\n",
              "5     445\n",
              "6     398\n",
              "7     406\n",
              "8     423\n",
              "9     431\n",
              "10    243\n",
              "11    171\n",
              "12    184\n",
              "13    160\n",
              "14    136\n",
              "15    171\n",
              "16    159\n",
              "17    418\n",
              "18    510\n",
              "19    473\n",
              "20    492\n",
              "21    449\n",
              "22    304\n",
              "23    194\n",
              "dtype: int64"
            ]
          },
          "metadata": {
            "tags": []
          },
          "execution_count": 37
        }
      ]
    },
    {
      "cell_type": "code",
      "metadata": {
        "id": "YJXpsWFbKbhk",
        "colab_type": "code",
        "colab": {
          "base_uri": "https://localhost:8080/",
          "height": 411
        },
        "outputId": "d7a63c91-b7c4-4c43-e409-484f9860d042"
      },
      "source": [
        "plt.figure(figsize=(18,6))\n",
        "sns.lineplot(y=p,x=p.index,color='Red')"
      ],
      "execution_count": 38,
      "outputs": [
        {
          "output_type": "execute_result",
          "data": {
            "text/plain": [
              "<matplotlib.axes._subplots.AxesSubplot at 0x7fc70cbe86d8>"
            ]
          },
          "metadata": {
            "tags": []
          },
          "execution_count": 38
        },
        {
          "output_type": "display_data",
          "data": {
            "image/png": "[encoded data removed]",
            "text/plain": [
              "<Figure size 1296x432 with 1 Axes>"
            ]
          },
          "metadata": {
            "tags": []
          }
        }
      ]
    },
    {
      "cell_type": "markdown",
      "metadata": {
        "id": "JfZ3FQRvLeC4",
        "colab_type": "text"
      },
      "source": [
        "#### Here it is visible that it is maximum during 5-10 A.M and at  4-8 P.M"
      ]
    },
    {
      "cell_type": "code",
      "metadata": {
        "id": "TZMZ_BVMVYqx",
        "colab_type": "code",
        "colab": {}
      },
      "source": [
        "from statsmodels.graphics.mosaicplot import mosaic"
      ],
      "execution_count": 0,
      "outputs": []
    },
    {
      "cell_type": "code",
      "metadata": {
        "id": "NmTTA35xVbg_",
        "colab_type": "code",
        "colab": {
          "base_uri": "https://localhost:8080/",
          "height": 486
        },
        "outputId": "e17723cc-d169-4023-d83f-ca688472026d"
      },
      "source": [
        "plt.rcParams['figure.figsize'] = (15,8)\n",
        "mosaic(df, ['Status', 'Pickup point'])\n",
        "plt.show()"
      ],
      "execution_count": 40,
      "outputs": [
        {
          "output_type": "display_data",
          "data": {
            "image/png": "[encoded data removed]",
            "text/plain": [
              "<Figure size 1080x576 with 3 Axes>"
            ]
          },
          "metadata": {
            "tags": []
          }
        }
      ]
    },
    {
      "cell_type": "markdown",
      "metadata": {
        "id": "aEt-Bir-VdzL",
        "colab_type": "text"
      },
      "source": [
        "#### It tells that the Trip Completed for City and Airport are nearly equal whereas for Cancelled for city as a pickup point whereas From whereas Airport maximum times the Cars are not available. "
      ]
    },
    {
      "cell_type": "markdown",
      "metadata": {
        "id": "5hp9Y7DrMJHn",
        "colab_type": "text"
      },
      "source": [
        "### Request time and Destinations"
      ]
    },
    {
      "cell_type": "code",
      "metadata": {
        "id": "S-eXvqLzZQ8Z",
        "colab_type": "code",
        "colab": {
          "base_uri": "https://localhost:8080/",
          "height": 518
        },
        "outputId": "c8c6266a-c718-4fa8-c35e-fba499f77da2"
      },
      "source": [
        "sns.countplot(x=df['Session'],hue=df['Destination'],palette = 'Set2')"
      ],
      "execution_count": 41,
      "outputs": [
        {
          "output_type": "execute_result",
          "data": {
            "text/plain": [
              "<matplotlib.axes._subplots.AxesSubplot at 0x7fc70ca97f98>"
            ]
          },
          "metadata": {
            "tags": []
          },
          "execution_count": 41
        },
        {
          "output_type": "display_data",
          "data": {
            "image/png": "[encoded data removed]",
            "text/plain": [
              "<Figure size 1080x576 with 1 Axes>"
            ]
          },
          "metadata": {
            "tags": []
          }
        }
      ]
    },
    {
      "cell_type": "markdown",
      "metadata": {
        "id": "8Osd8hgeoagv",
        "colab_type": "text"
      },
      "source": [
        "#### Here it is visible that on Morning the destination is prefferably City-Airport whereas in Evening the destination is prefferably is Airport-City "
      ]
    },
    {
      "cell_type": "code",
      "metadata": {
        "id": "r4-id4funKe6",
        "colab_type": "code",
        "colab": {}
      },
      "source": [
        ""
      ],
      "execution_count": 0,
      "outputs": []
    }
  ]
}