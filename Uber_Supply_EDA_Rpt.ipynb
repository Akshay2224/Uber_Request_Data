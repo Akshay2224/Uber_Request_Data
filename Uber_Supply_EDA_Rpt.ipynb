{
  "nbformat": 4,
  "nbformat_minor": 0,
  "metadata": {
    "colab": {
      "name": "Untitled33.ipynb",
      "version": "0.3.2",
      "provenance": [],
      "include_colab_link": true
    },
    "kernelspec": {
      "name": "python3",
      "display_name": "Python 3"
    }
  },
  "cells": [
    {
      "cell_type": "markdown",
      "metadata": {
        "id": "view-in-github",
        "colab_type": "text"
      },
      "source": [
        "<a href=\"https://colab.research.google.com/github/Akshay2224/Uber_Request_Data/blob/master/Uber_Supply_EDA_Rpt.ipynb\" target=\"_parent\"><img src=\"https://colab.research.google.com/assets/colab-badge.svg\" alt=\"Open In Colab\"/></a>"
      ]
    },
    {
      "cell_type": "markdown",
      "metadata": {
        "id": "i76rsq3_whom",
        "colab_type": "text"
      },
      "source": [
        "# Uber_Supply_Demand_Gap"
      ]
    },
    {
      "cell_type": "markdown",
      "metadata": {
        "id": "cjeHq8KwwwOK",
        "colab_type": "text"
      },
      "source": [
        "## Introduction"
      ]
    },
    {
      "cell_type": "markdown",
      "metadata": {
        "id": "ShKnYvV1w0IT",
        "colab_type": "text"
      },
      "source": [
        "Uber Technologies, Inc. is an American multinational transportation network company offering services that include peer-to-peer ridesharing, ride service hailing, food delivery, and a bicycle-sharing system. The company is based in San Francisco and has operations in 785 metropolitan areas worldwide."
      ]
    },
    {
      "cell_type": "markdown",
      "metadata": {
        "id": "3zWRcDHSw48d",
        "colab_type": "text"
      },
      "source": [
        "![alt text](http://www.brooklynvegan.com/files/2018/08/uber.jpg))"
      ]
    },
    {
      "cell_type": "markdown",
      "metadata": {
        "id": "lExqOLpsxtz4",
        "colab_type": "text"
      },
      "source": [
        "## Problems Faced\n",
        "\n",
        "The problems faced by customers, these very issues also impact the business of Uber. If drivers cancel the request of riders or if cars are unavailable, Uber loses out on its revenue. Let’s hear more about such problems that Uber faces during its operations. We need to  decide to address the problem Uber is facing - driver cancellation and non-availability of cars leading to loss of potential revenue. "
      ]
    },
    {
      "cell_type": "markdown",
      "metadata": {
        "id": "Ythax_OrxmTF",
        "colab_type": "text"
      },
      "source": [
        "## Problem Statement\n",
        "\n",
        "The aim of analysis is to identify the root cause of the problem (i.e. cancellation and non-availability of cars) and recommend ways to improve the situation. As a result of your analysis, you should be able to present to the client the root cause(s) and possible hypotheses of the problem(s) and recommend ways to improve them.  \n",
        "\n",
        " "
      ]
    },
    {
      "cell_type": "code",
      "metadata": {
        "id": "D0CJuZdvzBRp",
        "colab_type": "code",
        "colab": {}
      },
      "source": [
        "# Importing of Libraries\n",
        "import pandas as pd\n",
        "import numpy as np\n",
        "import matplotlib.pyplot as plt\n",
        "from matplotlib.pyplot import pie, axis, show\n",
        "import seaborn as sns\n",
        "import datetime"
      ],
      "execution_count": 0,
      "outputs": []
    },
    {
      "cell_type": "code",
      "metadata": {
        "id": "LCu5OHuvzTS0",
        "colab_type": "code",
        "colab": {}
      },
      "source": [
        "#opening of file\n",
        "df=pd.read_csv('https://github.com/Akshay2224/Uber_Request_Data/raw/master/Uber%20Request%20Data.csv')"
      ],
      "execution_count": 0,
      "outputs": []
    },
    {
      "cell_type": "code",
      "metadata": {
        "id": "QZbIx82iznVW",
        "colab_type": "code",
        "outputId": "c73a6b63-b8df-43b8-b137-b9f3c5ca1f89",
        "colab": {
          "base_uri": "https://localhost:8080/",
          "height": 348
        }
      },
      "source": [
        "#Lets Head towards looking the dataset\n",
        "df.head(10)"
      ],
      "execution_count": 4,
      "outputs": [
        {
          "output_type": "execute_result",
          "data": {
            "text/html": [
              "<div>\n",
              "<style scoped>\n",
              "    .dataframe tbody tr th:only-of-type {\n",
              "        vertical-align: middle;\n",
              "    }\n",
              "\n",
              "    .dataframe tbody tr th {\n",
              "        vertical-align: top;\n",
              "    }\n",
              "\n",
              "    .dataframe thead th {\n",
              "        text-align: right;\n",
              "    }\n",
              "</style>\n",
              "<table border=\"1\" class=\"dataframe\">\n",
              "  <thead>\n",
              "    <tr style=\"text-align: right;\">\n",
              "      <th></th>\n",
              "      <th>Request id</th>\n",
              "      <th>Pickup point</th>\n",
              "      <th>Driver id</th>\n",
              "      <th>Status</th>\n",
              "      <th>Request timestamp</th>\n",
              "      <th>Drop timestamp</th>\n",
              "    </tr>\n",
              "  </thead>\n",
              "  <tbody>\n",
              "    <tr>\n",
              "      <th>0</th>\n",
              "      <td>619</td>\n",
              "      <td>Airport</td>\n",
              "      <td>1.0</td>\n",
              "      <td>Trip Completed</td>\n",
              "      <td>11/7/2016 11:51</td>\n",
              "      <td>11/7/2016 13:00</td>\n",
              "    </tr>\n",
              "    <tr>\n",
              "      <th>1</th>\n",
              "      <td>867</td>\n",
              "      <td>Airport</td>\n",
              "      <td>1.0</td>\n",
              "      <td>Trip Completed</td>\n",
              "      <td>11/7/2016 17:57</td>\n",
              "      <td>11/7/2016 18:47</td>\n",
              "    </tr>\n",
              "    <tr>\n",
              "      <th>2</th>\n",
              "      <td>1807</td>\n",
              "      <td>City</td>\n",
              "      <td>1.0</td>\n",
              "      <td>Trip Completed</td>\n",
              "      <td>12/7/2016 9:17</td>\n",
              "      <td>12/7/2016 9:58</td>\n",
              "    </tr>\n",
              "    <tr>\n",
              "      <th>3</th>\n",
              "      <td>2532</td>\n",
              "      <td>Airport</td>\n",
              "      <td>1.0</td>\n",
              "      <td>Trip Completed</td>\n",
              "      <td>12/7/2016 21:08</td>\n",
              "      <td>12/7/2016 22:03</td>\n",
              "    </tr>\n",
              "    <tr>\n",
              "      <th>4</th>\n",
              "      <td>3112</td>\n",
              "      <td>City</td>\n",
              "      <td>1.0</td>\n",
              "      <td>Trip Completed</td>\n",
              "      <td>13-07-2016 08:33:16</td>\n",
              "      <td>13-07-2016 09:25:47</td>\n",
              "    </tr>\n",
              "    <tr>\n",
              "      <th>5</th>\n",
              "      <td>3879</td>\n",
              "      <td>Airport</td>\n",
              "      <td>1.0</td>\n",
              "      <td>Trip Completed</td>\n",
              "      <td>13-07-2016 21:57:28</td>\n",
              "      <td>13-07-2016 22:28:59</td>\n",
              "    </tr>\n",
              "    <tr>\n",
              "      <th>6</th>\n",
              "      <td>4270</td>\n",
              "      <td>Airport</td>\n",
              "      <td>1.0</td>\n",
              "      <td>Trip Completed</td>\n",
              "      <td>14-07-2016 06:15:32</td>\n",
              "      <td>14-07-2016 07:13:15</td>\n",
              "    </tr>\n",
              "    <tr>\n",
              "      <th>7</th>\n",
              "      <td>5510</td>\n",
              "      <td>Airport</td>\n",
              "      <td>1.0</td>\n",
              "      <td>Trip Completed</td>\n",
              "      <td>15-07-2016 05:11:52</td>\n",
              "      <td>15-07-2016 06:07:52</td>\n",
              "    </tr>\n",
              "    <tr>\n",
              "      <th>8</th>\n",
              "      <td>6248</td>\n",
              "      <td>City</td>\n",
              "      <td>1.0</td>\n",
              "      <td>Trip Completed</td>\n",
              "      <td>15-07-2016 17:57:27</td>\n",
              "      <td>15-07-2016 18:50:51</td>\n",
              "    </tr>\n",
              "    <tr>\n",
              "      <th>9</th>\n",
              "      <td>267</td>\n",
              "      <td>City</td>\n",
              "      <td>2.0</td>\n",
              "      <td>Trip Completed</td>\n",
              "      <td>11/7/2016 6:46</td>\n",
              "      <td>11/7/2016 7:25</td>\n",
              "    </tr>\n",
              "  </tbody>\n",
              "</table>\n",
              "</div>"
            ],
            "text/plain": [
              "   Request id Pickup point  ...    Request timestamp       Drop timestamp\n",
              "0         619      Airport  ...      11/7/2016 11:51      11/7/2016 13:00\n",
              "1         867      Airport  ...      11/7/2016 17:57      11/7/2016 18:47\n",
              "2        1807         City  ...       12/7/2016 9:17       12/7/2016 9:58\n",
              "3        2532      Airport  ...      12/7/2016 21:08      12/7/2016 22:03\n",
              "4        3112         City  ...  13-07-2016 08:33:16  13-07-2016 09:25:47\n",
              "5        3879      Airport  ...  13-07-2016 21:57:28  13-07-2016 22:28:59\n",
              "6        4270      Airport  ...  14-07-2016 06:15:32  14-07-2016 07:13:15\n",
              "7        5510      Airport  ...  15-07-2016 05:11:52  15-07-2016 06:07:52\n",
              "8        6248         City  ...  15-07-2016 17:57:27  15-07-2016 18:50:51\n",
              "9         267         City  ...       11/7/2016 6:46       11/7/2016 7:25\n",
              "\n",
              "[10 rows x 6 columns]"
            ]
          },
          "metadata": {
            "tags": []
          },
          "execution_count": 4
        }
      ]
    },
    {
      "cell_type": "markdown",
      "metadata": {
        "id": "wtqcfnrmyuqc",
        "colab_type": "text"
      },
      "source": [
        "## Attribute Description\n",
        "\n",
        "There are six attributes associated with each request made by a customer:\n",
        "\n",
        "1. Request id: A unique identifier of the request.\n",
        "2. Time of request: The date and time at which the customer made the trip request\n",
        "3. Drop-off time: The drop-off date and time, in case the trip was completed \n",
        "4. Pick-up point: The point from which the request was made\n",
        "5. Driver id: The unique identification number of the driver\n",
        "6. Status of the request: The final status of the trip, that can be either completed, cancelled by the driver or no cars available"
      ]
    },
    {
      "cell_type": "markdown",
      "metadata": {
        "id": "tKho5Zel0BLK",
        "colab_type": "text"
      },
      "source": [
        "## Some Stats about the dataset"
      ]
    },
    {
      "cell_type": "code",
      "metadata": {
        "id": "DhrDE9feD6i-",
        "colab_type": "code",
        "outputId": "c8a7755b-3788-4d92-8cef-a90874e3d8bc",
        "colab": {
          "base_uri": "https://localhost:8080/",
          "height": 288
        }
      },
      "source": [
        "# To get a description about the dataset\n",
        "df.describe()"
      ],
      "execution_count": 5,
      "outputs": [
        {
          "output_type": "execute_result",
          "data": {
            "text/html": [
              "<div>\n",
              "<style scoped>\n",
              "    .dataframe tbody tr th:only-of-type {\n",
              "        vertical-align: middle;\n",
              "    }\n",
              "\n",
              "    .dataframe tbody tr th {\n",
              "        vertical-align: top;\n",
              "    }\n",
              "\n",
              "    .dataframe thead th {\n",
              "        text-align: right;\n",
              "    }\n",
              "</style>\n",
              "<table border=\"1\" class=\"dataframe\">\n",
              "  <thead>\n",
              "    <tr style=\"text-align: right;\">\n",
              "      <th></th>\n",
              "      <th>Request id</th>\n",
              "      <th>Driver id</th>\n",
              "    </tr>\n",
              "  </thead>\n",
              "  <tbody>\n",
              "    <tr>\n",
              "      <th>count</th>\n",
              "      <td>6745.000000</td>\n",
              "      <td>4095.000000</td>\n",
              "    </tr>\n",
              "    <tr>\n",
              "      <th>mean</th>\n",
              "      <td>3384.644922</td>\n",
              "      <td>149.501343</td>\n",
              "    </tr>\n",
              "    <tr>\n",
              "      <th>std</th>\n",
              "      <td>1955.099667</td>\n",
              "      <td>86.051994</td>\n",
              "    </tr>\n",
              "    <tr>\n",
              "      <th>min</th>\n",
              "      <td>1.000000</td>\n",
              "      <td>1.000000</td>\n",
              "    </tr>\n",
              "    <tr>\n",
              "      <th>25%</th>\n",
              "      <td>1691.000000</td>\n",
              "      <td>75.000000</td>\n",
              "    </tr>\n",
              "    <tr>\n",
              "      <th>50%</th>\n",
              "      <td>3387.000000</td>\n",
              "      <td>149.000000</td>\n",
              "    </tr>\n",
              "    <tr>\n",
              "      <th>75%</th>\n",
              "      <td>5080.000000</td>\n",
              "      <td>224.000000</td>\n",
              "    </tr>\n",
              "    <tr>\n",
              "      <th>max</th>\n",
              "      <td>6766.000000</td>\n",
              "      <td>300.000000</td>\n",
              "    </tr>\n",
              "  </tbody>\n",
              "</table>\n",
              "</div>"
            ],
            "text/plain": [
              "        Request id    Driver id\n",
              "count  6745.000000  4095.000000\n",
              "mean   3384.644922   149.501343\n",
              "std    1955.099667    86.051994\n",
              "min       1.000000     1.000000\n",
              "25%    1691.000000    75.000000\n",
              "50%    3387.000000   149.000000\n",
              "75%    5080.000000   224.000000\n",
              "max    6766.000000   300.000000"
            ]
          },
          "metadata": {
            "tags": []
          },
          "execution_count": 5
        }
      ]
    },
    {
      "cell_type": "markdown",
      "metadata": {
        "id": "Gz3QjP2uEDU1",
        "colab_type": "text"
      },
      "source": [
        "#### We can see that number of request id are 6745 where 6766 is highest number of id alloted whereas we can see that Maximum number of driver Id is 300 and we have total 4095 drivers."
      ]
    },
    {
      "cell_type": "code",
      "metadata": {
        "id": "dYLYBVGj0Aim",
        "colab_type": "code",
        "outputId": "40347bed-9e6b-4f2a-d283-00c121269c6e",
        "colab": {
          "base_uri": "https://localhost:8080/",
          "height": 35
        }
      },
      "source": [
        "#To see the number of rows and columns\n",
        "df.shape"
      ],
      "execution_count": 6,
      "outputs": [
        {
          "output_type": "execute_result",
          "data": {
            "text/plain": [
              "(6745, 6)"
            ]
          },
          "metadata": {
            "tags": []
          },
          "execution_count": 6
        }
      ]
    },
    {
      "cell_type": "code",
      "metadata": {
        "id": "DM80iSeM0YCi",
        "colab_type": "code",
        "outputId": "4efcde56-80f6-430c-ca0b-2df2ab385269",
        "colab": {
          "base_uri": "https://localhost:8080/",
          "height": 72
        }
      },
      "source": [
        "#To check the name of columns \n",
        "df.columns"
      ],
      "execution_count": 7,
      "outputs": [
        {
          "output_type": "execute_result",
          "data": {
            "text/plain": [
              "Index(['Request id', 'Pickup point', 'Driver id', 'Status',\n",
              "       'Request timestamp', 'Drop timestamp'],\n",
              "      dtype='object')"
            ]
          },
          "metadata": {
            "tags": []
          },
          "execution_count": 7
        }
      ]
    },
    {
      "cell_type": "markdown",
      "metadata": {
        "id": "2CvPSt7x0kfN",
        "colab_type": "text"
      },
      "source": [
        "### Data Quality"
      ]
    },
    {
      "cell_type": "markdown",
      "metadata": {
        "id": "88B6EVI-9cjI",
        "colab_type": "text"
      },
      "source": [
        "#### Lets us check the date and time columns"
      ]
    },
    {
      "cell_type": "code",
      "metadata": {
        "id": "BmDFc5xr_JiH",
        "colab_type": "code",
        "colab": {
          "base_uri": "https://localhost:8080/",
          "height": 307
        },
        "outputId": "2044e476-0536-4afb-fc1b-1bdc6386ddbf"
      },
      "source": [
        "df['Request timestamp']=pd.to_datetime(df['Request timestamp']) # Converted the column Request timestamp to datetime format\n",
        "df['Drop timestamp']=pd.to_datetime(df['Drop timestamp']) # Converted the column Drop timestamp to datetime format\n",
        "df['Day']=df['Request timestamp'].dt.month # Created new column with the name of Day having month number of request timestamp\n",
        "df['Day1']=df['Drop timestamp'].dt.month # Created new column with the name of Day having month number of Drop timestamp\n",
        "df['Monthdif']=df['Day']-df['Day1'] # Month Diffrence columns\n",
        "df1=df.query('Monthdif==-1')\n",
        "df1['B']=1\n",
        "df1.head()"
      ],
      "execution_count": 8,
      "outputs": [
        {
          "output_type": "stream",
          "text": [
            "/usr/local/lib/python3.6/dist-packages/ipykernel_launcher.py:7: SettingWithCopyWarning: \n",
            "A value is trying to be set on a copy of a slice from a DataFrame.\n",
            "Try using .loc[row_indexer,col_indexer] = value instead\n",
            "\n",
            "See the caveats in the documentation: http://pandas.pydata.org/pandas-docs/stable/indexing.html#indexing-view-versus-copy\n",
            "  import sys\n"
          ],
          "name": "stderr"
        },
        {
          "output_type": "execute_result",
          "data": {
            "text/html": [
              "<div>\n",
              "<style scoped>\n",
              "    .dataframe tbody tr th:only-of-type {\n",
              "        vertical-align: middle;\n",
              "    }\n",
              "\n",
              "    .dataframe tbody tr th {\n",
              "        vertical-align: top;\n",
              "    }\n",
              "\n",
              "    .dataframe thead th {\n",
              "        text-align: right;\n",
              "    }\n",
              "</style>\n",
              "<table border=\"1\" class=\"dataframe\">\n",
              "  <thead>\n",
              "    <tr style=\"text-align: right;\">\n",
              "      <th></th>\n",
              "      <th>Request id</th>\n",
              "      <th>Pickup point</th>\n",
              "      <th>Driver id</th>\n",
              "      <th>Status</th>\n",
              "      <th>Request timestamp</th>\n",
              "      <th>Drop timestamp</th>\n",
              "      <th>Day</th>\n",
              "      <th>Day1</th>\n",
              "      <th>Monthdif</th>\n",
              "      <th>B</th>\n",
              "    </tr>\n",
              "  </thead>\n",
              "  <tbody>\n",
              "    <tr>\n",
              "      <th>75</th>\n",
              "      <td>1346</td>\n",
              "      <td>Airport</td>\n",
              "      <td>9.0</td>\n",
              "      <td>Trip Completed</td>\n",
              "      <td>2016-11-07 23:39:00</td>\n",
              "      <td>2016-12-07 00:23:00</td>\n",
              "      <td>11</td>\n",
              "      <td>12.0</td>\n",
              "      <td>-1.0</td>\n",
              "      <td>1</td>\n",
              "    </tr>\n",
              "    <tr>\n",
              "      <th>390</th>\n",
              "      <td>1353</td>\n",
              "      <td>Airport</td>\n",
              "      <td>40.0</td>\n",
              "      <td>Trip Completed</td>\n",
              "      <td>2016-11-07 23:51:00</td>\n",
              "      <td>2016-12-07 00:34:00</td>\n",
              "      <td>11</td>\n",
              "      <td>12.0</td>\n",
              "      <td>-1.0</td>\n",
              "      <td>1</td>\n",
              "    </tr>\n",
              "    <tr>\n",
              "      <th>578</th>\n",
              "      <td>1349</td>\n",
              "      <td>Airport</td>\n",
              "      <td>61.0</td>\n",
              "      <td>Trip Completed</td>\n",
              "      <td>2016-11-07 23:41:00</td>\n",
              "      <td>2016-12-07 00:22:00</td>\n",
              "      <td>11</td>\n",
              "      <td>12.0</td>\n",
              "      <td>-1.0</td>\n",
              "      <td>1</td>\n",
              "    </tr>\n",
              "    <tr>\n",
              "      <th>911</th>\n",
              "      <td>1351</td>\n",
              "      <td>Airport</td>\n",
              "      <td>94.0</td>\n",
              "      <td>Trip Completed</td>\n",
              "      <td>2016-11-07 23:44:00</td>\n",
              "      <td>2016-12-07 00:49:00</td>\n",
              "      <td>11</td>\n",
              "      <td>12.0</td>\n",
              "      <td>-1.0</td>\n",
              "      <td>1</td>\n",
              "    </tr>\n",
              "    <tr>\n",
              "      <th>927</th>\n",
              "      <td>1344</td>\n",
              "      <td>City</td>\n",
              "      <td>96.0</td>\n",
              "      <td>Trip Completed</td>\n",
              "      <td>2016-11-07 23:35:00</td>\n",
              "      <td>2016-12-07 00:39:00</td>\n",
              "      <td>11</td>\n",
              "      <td>12.0</td>\n",
              "      <td>-1.0</td>\n",
              "      <td>1</td>\n",
              "    </tr>\n",
              "  </tbody>\n",
              "</table>\n",
              "</div>"
            ],
            "text/plain": [
              "     Request id Pickup point  Driver id          Status  ... Day  Day1  Monthdif  B\n",
              "75         1346      Airport        9.0  Trip Completed  ...  11  12.0      -1.0  1\n",
              "390        1353      Airport       40.0  Trip Completed  ...  11  12.0      -1.0  1\n",
              "578        1349      Airport       61.0  Trip Completed  ...  11  12.0      -1.0  1\n",
              "911        1351      Airport       94.0  Trip Completed  ...  11  12.0      -1.0  1\n",
              "927        1344         City       96.0  Trip Completed  ...  11  12.0      -1.0  1\n",
              "\n",
              "[5 rows x 10 columns]"
            ]
          },
          "metadata": {
            "tags": []
          },
          "execution_count": 8
        }
      ]
    },
    {
      "cell_type": "markdown",
      "metadata": {
        "id": "9GgrLqze9tNo",
        "colab_type": "text"
      },
      "source": [
        "#### Here it is visible from the data that there is some anomaly as because of some typographic error the month has changed abruptly by one which cannot be possible as there cannot be 1 month travelling time So we need to change this anomaly"
      ]
    },
    {
      "cell_type": "code",
      "metadata": {
        "id": "l5NlA7Cr9lVA",
        "colab_type": "code",
        "colab": {
          "base_uri": "https://localhost:8080/",
          "height": 744
        },
        "outputId": "1dbbd3c9-76d7-4703-b0c5-6ea0b85a6e81"
      },
      "source": [
        "df1['Request timestamp']=df1['Request timestamp']+df1['B'].values.astype(\"timedelta64[M]\") #Adding to the number of months in the column Request time stamp\n",
        "df1['Request timestamp']=df1['Request timestamp']-df1['B'].values.astype(\"timedelta64[D]\") #Subtracting to the number of days in the column Request time stamp\n",
        "# Here we are adding hours to the time in Request timestamp column because after addition/Subtraction of months the time has changed\n",
        "df1['Request timestamp']=df1['Request timestamp']+datetime.timedelta(hours=13)\n",
        "df1['Request timestamp']=df1['Request timestamp']+datetime.timedelta(minutes=31)\n",
        "df1['Request timestamp']=df1['Request timestamp']-datetime.timedelta(seconds=6)\n",
        "df1.drop(['Day','Day1','Monthdif','B'],axis=1)\n",
        "df.update(df1) #Updating the data\n",
        "df.head()"
      ],
      "execution_count": 9,
      "outputs": [
        {
          "output_type": "stream",
          "text": [
            "/usr/local/lib/python3.6/dist-packages/ipykernel_launcher.py:1: SettingWithCopyWarning: \n",
            "A value is trying to be set on a copy of a slice from a DataFrame.\n",
            "Try using .loc[row_indexer,col_indexer] = value instead\n",
            "\n",
            "See the caveats in the documentation: http://pandas.pydata.org/pandas-docs/stable/indexing.html#indexing-view-versus-copy\n",
            "  \"\"\"Entry point for launching an IPython kernel.\n",
            "/usr/local/lib/python3.6/dist-packages/ipykernel_launcher.py:2: SettingWithCopyWarning: \n",
            "A value is trying to be set on a copy of a slice from a DataFrame.\n",
            "Try using .loc[row_indexer,col_indexer] = value instead\n",
            "\n",
            "See the caveats in the documentation: http://pandas.pydata.org/pandas-docs/stable/indexing.html#indexing-view-versus-copy\n",
            "  \n",
            "/usr/local/lib/python3.6/dist-packages/ipykernel_launcher.py:4: SettingWithCopyWarning: \n",
            "A value is trying to be set on a copy of a slice from a DataFrame.\n",
            "Try using .loc[row_indexer,col_indexer] = value instead\n",
            "\n",
            "See the caveats in the documentation: http://pandas.pydata.org/pandas-docs/stable/indexing.html#indexing-view-versus-copy\n",
            "  after removing the cwd from sys.path.\n",
            "/usr/local/lib/python3.6/dist-packages/ipykernel_launcher.py:5: SettingWithCopyWarning: \n",
            "A value is trying to be set on a copy of a slice from a DataFrame.\n",
            "Try using .loc[row_indexer,col_indexer] = value instead\n",
            "\n",
            "See the caveats in the documentation: http://pandas.pydata.org/pandas-docs/stable/indexing.html#indexing-view-versus-copy\n",
            "  \"\"\"\n",
            "/usr/local/lib/python3.6/dist-packages/ipykernel_launcher.py:6: SettingWithCopyWarning: \n",
            "A value is trying to be set on a copy of a slice from a DataFrame.\n",
            "Try using .loc[row_indexer,col_indexer] = value instead\n",
            "\n",
            "See the caveats in the documentation: http://pandas.pydata.org/pandas-docs/stable/indexing.html#indexing-view-versus-copy\n",
            "  \n"
          ],
          "name": "stderr"
        },
        {
          "output_type": "execute_result",
          "data": {
            "text/html": [
              "<div>\n",
              "<style scoped>\n",
              "    .dataframe tbody tr th:only-of-type {\n",
              "        vertical-align: middle;\n",
              "    }\n",
              "\n",
              "    .dataframe tbody tr th {\n",
              "        vertical-align: top;\n",
              "    }\n",
              "\n",
              "    .dataframe thead th {\n",
              "        text-align: right;\n",
              "    }\n",
              "</style>\n",
              "<table border=\"1\" class=\"dataframe\">\n",
              "  <thead>\n",
              "    <tr style=\"text-align: right;\">\n",
              "      <th></th>\n",
              "      <th>Request id</th>\n",
              "      <th>Pickup point</th>\n",
              "      <th>Driver id</th>\n",
              "      <th>Status</th>\n",
              "      <th>Request timestamp</th>\n",
              "      <th>Drop timestamp</th>\n",
              "      <th>Day</th>\n",
              "      <th>Day1</th>\n",
              "      <th>Monthdif</th>\n",
              "    </tr>\n",
              "  </thead>\n",
              "  <tbody>\n",
              "    <tr>\n",
              "      <th>0</th>\n",
              "      <td>619.0</td>\n",
              "      <td>Airport</td>\n",
              "      <td>1.0</td>\n",
              "      <td>Trip Completed</td>\n",
              "      <td>2016-11-07 11:51:00</td>\n",
              "      <td>2016-11-07 13:00:00</td>\n",
              "      <td>11.0</td>\n",
              "      <td>11.0</td>\n",
              "      <td>0.0</td>\n",
              "    </tr>\n",
              "    <tr>\n",
              "      <th>1</th>\n",
              "      <td>867.0</td>\n",
              "      <td>Airport</td>\n",
              "      <td>1.0</td>\n",
              "      <td>Trip Completed</td>\n",
              "      <td>2016-11-07 17:57:00</td>\n",
              "      <td>2016-11-07 18:47:00</td>\n",
              "      <td>11.0</td>\n",
              "      <td>11.0</td>\n",
              "      <td>0.0</td>\n",
              "    </tr>\n",
              "    <tr>\n",
              "      <th>2</th>\n",
              "      <td>1807.0</td>\n",
              "      <td>City</td>\n",
              "      <td>1.0</td>\n",
              "      <td>Trip Completed</td>\n",
              "      <td>2016-12-07 09:17:00</td>\n",
              "      <td>2016-12-07 09:58:00</td>\n",
              "      <td>12.0</td>\n",
              "      <td>12.0</td>\n",
              "      <td>0.0</td>\n",
              "    </tr>\n",
              "    <tr>\n",
              "      <th>3</th>\n",
              "      <td>2532.0</td>\n",
              "      <td>Airport</td>\n",
              "      <td>1.0</td>\n",
              "      <td>Trip Completed</td>\n",
              "      <td>2016-12-07 21:08:00</td>\n",
              "      <td>2016-12-07 22:03:00</td>\n",
              "      <td>12.0</td>\n",
              "      <td>12.0</td>\n",
              "      <td>0.0</td>\n",
              "    </tr>\n",
              "    <tr>\n",
              "      <th>4</th>\n",
              "      <td>3112.0</td>\n",
              "      <td>City</td>\n",
              "      <td>1.0</td>\n",
              "      <td>Trip Completed</td>\n",
              "      <td>2016-07-13 08:33:16</td>\n",
              "      <td>2016-07-13 09:25:47</td>\n",
              "      <td>7.0</td>\n",
              "      <td>7.0</td>\n",
              "      <td>0.0</td>\n",
              "    </tr>\n",
              "  </tbody>\n",
              "</table>\n",
              "</div>"
            ],
            "text/plain": [
              "   Request id Pickup point  Driver id  ...   Day  Day1 Monthdif\n",
              "0       619.0      Airport        1.0  ...  11.0  11.0      0.0\n",
              "1       867.0      Airport        1.0  ...  11.0  11.0      0.0\n",
              "2      1807.0         City        1.0  ...  12.0  12.0      0.0\n",
              "3      2532.0      Airport        1.0  ...  12.0  12.0      0.0\n",
              "4      3112.0         City        1.0  ...   7.0   7.0      0.0\n",
              "\n",
              "[5 rows x 9 columns]"
            ]
          },
          "metadata": {
            "tags": []
          },
          "execution_count": 9
        }
      ]
    },
    {
      "cell_type": "markdown",
      "metadata": {
        "id": "7iuCDqKK-VZa",
        "colab_type": "text"
      },
      "source": [
        "#### Here we can see that the now this anomaly is removed but there is some another problem as follows in the data -:"
      ]
    },
    {
      "cell_type": "code",
      "metadata": {
        "id": "YlUIMBT--GuC",
        "colab_type": "code",
        "colab": {
          "base_uri": "https://localhost:8080/",
          "height": 198
        },
        "outputId": "78890c86-8f35-40b3-febf-a2bf8b34d321"
      },
      "source": [
        "df2=df.query('Monthdif!=0&Monthdif!=-1')\n",
        "df2.head()"
      ],
      "execution_count": 10,
      "outputs": [
        {
          "output_type": "execute_result",
          "data": {
            "text/html": [
              "<div>\n",
              "<style scoped>\n",
              "    .dataframe tbody tr th:only-of-type {\n",
              "        vertical-align: middle;\n",
              "    }\n",
              "\n",
              "    .dataframe tbody tr th {\n",
              "        vertical-align: top;\n",
              "    }\n",
              "\n",
              "    .dataframe thead th {\n",
              "        text-align: right;\n",
              "    }\n",
              "</style>\n",
              "<table border=\"1\" class=\"dataframe\">\n",
              "  <thead>\n",
              "    <tr style=\"text-align: right;\">\n",
              "      <th></th>\n",
              "      <th>Request id</th>\n",
              "      <th>Pickup point</th>\n",
              "      <th>Driver id</th>\n",
              "      <th>Status</th>\n",
              "      <th>Request timestamp</th>\n",
              "      <th>Drop timestamp</th>\n",
              "      <th>Day</th>\n",
              "      <th>Day1</th>\n",
              "      <th>Monthdif</th>\n",
              "    </tr>\n",
              "  </thead>\n",
              "  <tbody>\n",
              "    <tr>\n",
              "      <th>133</th>\n",
              "      <td>2675.0</td>\n",
              "      <td>Airport</td>\n",
              "      <td>15.0</td>\n",
              "      <td>Trip Completed</td>\n",
              "      <td>2016-12-07 23:43:00</td>\n",
              "      <td>2016-07-13 00:35:12</td>\n",
              "      <td>12.0</td>\n",
              "      <td>7.0</td>\n",
              "      <td>5.0</td>\n",
              "    </tr>\n",
              "    <tr>\n",
              "      <th>143</th>\n",
              "      <td>2661.0</td>\n",
              "      <td>Airport</td>\n",
              "      <td>16.0</td>\n",
              "      <td>Trip Completed</td>\n",
              "      <td>2016-12-07 23:23:00</td>\n",
              "      <td>2016-07-13 00:27:21</td>\n",
              "      <td>12.0</td>\n",
              "      <td>7.0</td>\n",
              "      <td>5.0</td>\n",
              "    </tr>\n",
              "    <tr>\n",
              "      <th>245</th>\n",
              "      <td>2667.0</td>\n",
              "      <td>Airport</td>\n",
              "      <td>25.0</td>\n",
              "      <td>Trip Completed</td>\n",
              "      <td>2016-12-07 23:35:00</td>\n",
              "      <td>2016-07-13 00:40:52</td>\n",
              "      <td>12.0</td>\n",
              "      <td>7.0</td>\n",
              "      <td>5.0</td>\n",
              "    </tr>\n",
              "    <tr>\n",
              "      <th>532</th>\n",
              "      <td>2665.0</td>\n",
              "      <td>Airport</td>\n",
              "      <td>55.0</td>\n",
              "      <td>Trip Completed</td>\n",
              "      <td>2016-12-07 23:30:00</td>\n",
              "      <td>2016-07-13 00:37:17</td>\n",
              "      <td>12.0</td>\n",
              "      <td>7.0</td>\n",
              "      <td>5.0</td>\n",
              "    </tr>\n",
              "    <tr>\n",
              "      <th>656</th>\n",
              "      <td>2664.0</td>\n",
              "      <td>Airport</td>\n",
              "      <td>69.0</td>\n",
              "      <td>Trip Completed</td>\n",
              "      <td>2016-12-07 23:26:00</td>\n",
              "      <td>2016-07-13 00:01:12</td>\n",
              "      <td>12.0</td>\n",
              "      <td>7.0</td>\n",
              "      <td>5.0</td>\n",
              "    </tr>\n",
              "  </tbody>\n",
              "</table>\n",
              "</div>"
            ],
            "text/plain": [
              "     Request id Pickup point  Driver id  ...   Day Day1 Monthdif\n",
              "133      2675.0      Airport       15.0  ...  12.0  7.0      5.0\n",
              "143      2661.0      Airport       16.0  ...  12.0  7.0      5.0\n",
              "245      2667.0      Airport       25.0  ...  12.0  7.0      5.0\n",
              "532      2665.0      Airport       55.0  ...  12.0  7.0      5.0\n",
              "656      2664.0      Airport       69.0  ...  12.0  7.0      5.0\n",
              "\n",
              "[5 rows x 9 columns]"
            ]
          },
          "metadata": {
            "tags": []
          },
          "execution_count": 10
        }
      ]
    },
    {
      "cell_type": "markdown",
      "metadata": {
        "id": "SxgMSNmx-loc",
        "colab_type": "text"
      },
      "source": [
        "#### There is another problem with the month as here it can be possible that time and date of request timestamp column has replaced with each other so we need to remove this anomaly also"
      ]
    },
    {
      "cell_type": "code",
      "metadata": {
        "id": "udEm1WYA-j_z",
        "colab_type": "code",
        "colab": {
          "base_uri": "https://localhost:8080/",
          "height": 962
        },
        "outputId": "4861671d-4be2-457c-ea57-9150f528c797"
      },
      "source": [
        "df2['D']=5.0\n",
        "df2['C']=4\n",
        "df2['Request timestamp']=df2['Request timestamp']-df2['D'].values.astype(\"timedelta64[M]\")#Adding to the number of months in the column Request time stamp\n",
        "df2['Request timestamp']=df2['Request timestamp']+df2['C'].values.astype(\"timedelta64[D]\")#Subtracting to the number of Days in the column Request time stamp\n",
        "# Here we are adding hours to the time in Request timestamp column because after addition/Subtraction of months the time has changed\n",
        "df2['Request timestamp']=df2['Request timestamp']+datetime.timedelta(hours=4)\n",
        "df2['Request timestamp']=df2['Request timestamp']+datetime.timedelta(minutes=26)\n",
        "df2['Request timestamp']=df2['Request timestamp']-datetime.timedelta(seconds=30)\n",
        "df.update(df2)\n",
        "df=df.drop(['Day','Day1','Monthdif'],axis=1)\n",
        "df.head()"
      ],
      "execution_count": 11,
      "outputs": [
        {
          "output_type": "stream",
          "text": [
            "/usr/local/lib/python3.6/dist-packages/ipykernel_launcher.py:1: SettingWithCopyWarning: \n",
            "A value is trying to be set on a copy of a slice from a DataFrame.\n",
            "Try using .loc[row_indexer,col_indexer] = value instead\n",
            "\n",
            "See the caveats in the documentation: http://pandas.pydata.org/pandas-docs/stable/indexing.html#indexing-view-versus-copy\n",
            "  \"\"\"Entry point for launching an IPython kernel.\n",
            "/usr/local/lib/python3.6/dist-packages/ipykernel_launcher.py:2: SettingWithCopyWarning: \n",
            "A value is trying to be set on a copy of a slice from a DataFrame.\n",
            "Try using .loc[row_indexer,col_indexer] = value instead\n",
            "\n",
            "See the caveats in the documentation: http://pandas.pydata.org/pandas-docs/stable/indexing.html#indexing-view-versus-copy\n",
            "  \n",
            "/usr/local/lib/python3.6/dist-packages/ipykernel_launcher.py:3: SettingWithCopyWarning: \n",
            "A value is trying to be set on a copy of a slice from a DataFrame.\n",
            "Try using .loc[row_indexer,col_indexer] = value instead\n",
            "\n",
            "See the caveats in the documentation: http://pandas.pydata.org/pandas-docs/stable/indexing.html#indexing-view-versus-copy\n",
            "  This is separate from the ipykernel package so we can avoid doing imports until\n",
            "/usr/local/lib/python3.6/dist-packages/ipykernel_launcher.py:4: SettingWithCopyWarning: \n",
            "A value is trying to be set on a copy of a slice from a DataFrame.\n",
            "Try using .loc[row_indexer,col_indexer] = value instead\n",
            "\n",
            "See the caveats in the documentation: http://pandas.pydata.org/pandas-docs/stable/indexing.html#indexing-view-versus-copy\n",
            "  after removing the cwd from sys.path.\n",
            "/usr/local/lib/python3.6/dist-packages/ipykernel_launcher.py:6: SettingWithCopyWarning: \n",
            "A value is trying to be set on a copy of a slice from a DataFrame.\n",
            "Try using .loc[row_indexer,col_indexer] = value instead\n",
            "\n",
            "See the caveats in the documentation: http://pandas.pydata.org/pandas-docs/stable/indexing.html#indexing-view-versus-copy\n",
            "  \n",
            "/usr/local/lib/python3.6/dist-packages/ipykernel_launcher.py:7: SettingWithCopyWarning: \n",
            "A value is trying to be set on a copy of a slice from a DataFrame.\n",
            "Try using .loc[row_indexer,col_indexer] = value instead\n",
            "\n",
            "See the caveats in the documentation: http://pandas.pydata.org/pandas-docs/stable/indexing.html#indexing-view-versus-copy\n",
            "  import sys\n",
            "/usr/local/lib/python3.6/dist-packages/ipykernel_launcher.py:8: SettingWithCopyWarning: \n",
            "A value is trying to be set on a copy of a slice from a DataFrame.\n",
            "Try using .loc[row_indexer,col_indexer] = value instead\n",
            "\n",
            "See the caveats in the documentation: http://pandas.pydata.org/pandas-docs/stable/indexing.html#indexing-view-versus-copy\n",
            "  \n"
          ],
          "name": "stderr"
        },
        {
          "output_type": "execute_result",
          "data": {
            "text/html": [
              "<div>\n",
              "<style scoped>\n",
              "    .dataframe tbody tr th:only-of-type {\n",
              "        vertical-align: middle;\n",
              "    }\n",
              "\n",
              "    .dataframe tbody tr th {\n",
              "        vertical-align: top;\n",
              "    }\n",
              "\n",
              "    .dataframe thead th {\n",
              "        text-align: right;\n",
              "    }\n",
              "</style>\n",
              "<table border=\"1\" class=\"dataframe\">\n",
              "  <thead>\n",
              "    <tr style=\"text-align: right;\">\n",
              "      <th></th>\n",
              "      <th>Request id</th>\n",
              "      <th>Pickup point</th>\n",
              "      <th>Driver id</th>\n",
              "      <th>Status</th>\n",
              "      <th>Request timestamp</th>\n",
              "      <th>Drop timestamp</th>\n",
              "    </tr>\n",
              "  </thead>\n",
              "  <tbody>\n",
              "    <tr>\n",
              "      <th>0</th>\n",
              "      <td>619.0</td>\n",
              "      <td>Airport</td>\n",
              "      <td>1.0</td>\n",
              "      <td>Trip Completed</td>\n",
              "      <td>2016-11-07 11:51:00</td>\n",
              "      <td>2016-11-07 13:00:00</td>\n",
              "    </tr>\n",
              "    <tr>\n",
              "      <th>1</th>\n",
              "      <td>867.0</td>\n",
              "      <td>Airport</td>\n",
              "      <td>1.0</td>\n",
              "      <td>Trip Completed</td>\n",
              "      <td>2016-11-07 17:57:00</td>\n",
              "      <td>2016-11-07 18:47:00</td>\n",
              "    </tr>\n",
              "    <tr>\n",
              "      <th>2</th>\n",
              "      <td>1807.0</td>\n",
              "      <td>City</td>\n",
              "      <td>1.0</td>\n",
              "      <td>Trip Completed</td>\n",
              "      <td>2016-12-07 09:17:00</td>\n",
              "      <td>2016-12-07 09:58:00</td>\n",
              "    </tr>\n",
              "    <tr>\n",
              "      <th>3</th>\n",
              "      <td>2532.0</td>\n",
              "      <td>Airport</td>\n",
              "      <td>1.0</td>\n",
              "      <td>Trip Completed</td>\n",
              "      <td>2016-12-07 21:08:00</td>\n",
              "      <td>2016-12-07 22:03:00</td>\n",
              "    </tr>\n",
              "    <tr>\n",
              "      <th>4</th>\n",
              "      <td>3112.0</td>\n",
              "      <td>City</td>\n",
              "      <td>1.0</td>\n",
              "      <td>Trip Completed</td>\n",
              "      <td>2016-07-13 08:33:16</td>\n",
              "      <td>2016-07-13 09:25:47</td>\n",
              "    </tr>\n",
              "  </tbody>\n",
              "</table>\n",
              "</div>"
            ],
            "text/plain": [
              "   Request id Pickup point  ...   Request timestamp      Drop timestamp\n",
              "0       619.0      Airport  ... 2016-11-07 11:51:00 2016-11-07 13:00:00\n",
              "1       867.0      Airport  ... 2016-11-07 17:57:00 2016-11-07 18:47:00\n",
              "2      1807.0         City  ... 2016-12-07 09:17:00 2016-12-07 09:58:00\n",
              "3      2532.0      Airport  ... 2016-12-07 21:08:00 2016-12-07 22:03:00\n",
              "4      3112.0         City  ... 2016-07-13 08:33:16 2016-07-13 09:25:47\n",
              "\n",
              "[5 rows x 6 columns]"
            ]
          },
          "metadata": {
            "tags": []
          },
          "execution_count": 11
        }
      ]
    },
    {
      "cell_type": "markdown",
      "metadata": {
        "id": "Wnf-4jyl_QV5",
        "colab_type": "text"
      },
      "source": [
        "#### Now the data has been cleaned properly."
      ]
    },
    {
      "cell_type": "markdown",
      "metadata": {
        "id": "MQ2yRkIqNtXr",
        "colab_type": "text"
      },
      "source": [
        "## Deriving New Columns"
      ]
    },
    {
      "cell_type": "code",
      "metadata": {
        "id": "Om8lvC8SNwzT",
        "colab_type": "code",
        "colab": {}
      },
      "source": [
        "df['Session']=df['Request timestamp'].dt.hour.apply(lambda x:\"Night\" if x<6  else (\"Morning\" if x<12 else(\"Afternoon\" if x<18 else(\"Evening\"))))"
      ],
      "execution_count": 0,
      "outputs": []
    },
    {
      "cell_type": "code",
      "metadata": {
        "id": "P5ZLl2VfPkDB",
        "colab_type": "code",
        "colab": {
          "base_uri": "https://localhost:8080/",
          "height": 198
        },
        "outputId": "876ab66a-1273-40e7-be06-5a69910f8af6"
      },
      "source": [
        "df.head()"
      ],
      "execution_count": 13,
      "outputs": [
        {
          "output_type": "execute_result",
          "data": {
            "text/html": [
              "<div>\n",
              "<style scoped>\n",
              "    .dataframe tbody tr th:only-of-type {\n",
              "        vertical-align: middle;\n",
              "    }\n",
              "\n",
              "    .dataframe tbody tr th {\n",
              "        vertical-align: top;\n",
              "    }\n",
              "\n",
              "    .dataframe thead th {\n",
              "        text-align: right;\n",
              "    }\n",
              "</style>\n",
              "<table border=\"1\" class=\"dataframe\">\n",
              "  <thead>\n",
              "    <tr style=\"text-align: right;\">\n",
              "      <th></th>\n",
              "      <th>Request id</th>\n",
              "      <th>Pickup point</th>\n",
              "      <th>Driver id</th>\n",
              "      <th>Status</th>\n",
              "      <th>Request timestamp</th>\n",
              "      <th>Drop timestamp</th>\n",
              "      <th>Session</th>\n",
              "    </tr>\n",
              "  </thead>\n",
              "  <tbody>\n",
              "    <tr>\n",
              "      <th>0</th>\n",
              "      <td>619.0</td>\n",
              "      <td>Airport</td>\n",
              "      <td>1.0</td>\n",
              "      <td>Trip Completed</td>\n",
              "      <td>2016-11-07 11:51:00</td>\n",
              "      <td>2016-11-07 13:00:00</td>\n",
              "      <td>Morning</td>\n",
              "    </tr>\n",
              "    <tr>\n",
              "      <th>1</th>\n",
              "      <td>867.0</td>\n",
              "      <td>Airport</td>\n",
              "      <td>1.0</td>\n",
              "      <td>Trip Completed</td>\n",
              "      <td>2016-11-07 17:57:00</td>\n",
              "      <td>2016-11-07 18:47:00</td>\n",
              "      <td>Afternoon</td>\n",
              "    </tr>\n",
              "    <tr>\n",
              "      <th>2</th>\n",
              "      <td>1807.0</td>\n",
              "      <td>City</td>\n",
              "      <td>1.0</td>\n",
              "      <td>Trip Completed</td>\n",
              "      <td>2016-12-07 09:17:00</td>\n",
              "      <td>2016-12-07 09:58:00</td>\n",
              "      <td>Morning</td>\n",
              "    </tr>\n",
              "    <tr>\n",
              "      <th>3</th>\n",
              "      <td>2532.0</td>\n",
              "      <td>Airport</td>\n",
              "      <td>1.0</td>\n",
              "      <td>Trip Completed</td>\n",
              "      <td>2016-12-07 21:08:00</td>\n",
              "      <td>2016-12-07 22:03:00</td>\n",
              "      <td>Evening</td>\n",
              "    </tr>\n",
              "    <tr>\n",
              "      <th>4</th>\n",
              "      <td>3112.0</td>\n",
              "      <td>City</td>\n",
              "      <td>1.0</td>\n",
              "      <td>Trip Completed</td>\n",
              "      <td>2016-07-13 08:33:16</td>\n",
              "      <td>2016-07-13 09:25:47</td>\n",
              "      <td>Morning</td>\n",
              "    </tr>\n",
              "  </tbody>\n",
              "</table>\n",
              "</div>"
            ],
            "text/plain": [
              "   Request id Pickup point  ...      Drop timestamp    Session\n",
              "0       619.0      Airport  ... 2016-11-07 13:00:00    Morning\n",
              "1       867.0      Airport  ... 2016-11-07 18:47:00  Afternoon\n",
              "2      1807.0         City  ... 2016-12-07 09:58:00    Morning\n",
              "3      2532.0      Airport  ... 2016-12-07 22:03:00    Evening\n",
              "4      3112.0         City  ... 2016-07-13 09:25:47    Morning\n",
              "\n",
              "[5 rows x 7 columns]"
            ]
          },
          "metadata": {
            "tags": []
          },
          "execution_count": 13
        }
      ]
    },
    {
      "cell_type": "code",
      "metadata": {
        "id": "Sbg1AtMqQ2g6",
        "colab_type": "code",
        "colab": {}
      },
      "source": [
        "df['Availability']=df['Status'].apply(lambda x:\"Not Available\" if x=='No Cars Available' else(\"Available\"))"
      ],
      "execution_count": 0,
      "outputs": []
    },
    {
      "cell_type": "code",
      "metadata": {
        "id": "z5JrkFmTRN0a",
        "colab_type": "code",
        "colab": {
          "base_uri": "https://localhost:8080/",
          "height": 198
        },
        "outputId": "e292bc16-20e6-4b87-ca58-f5a4f8b6c4ff"
      },
      "source": [
        "df.head()"
      ],
      "execution_count": 15,
      "outputs": [
        {
          "output_type": "execute_result",
          "data": {
            "text/html": [
              "<div>\n",
              "<style scoped>\n",
              "    .dataframe tbody tr th:only-of-type {\n",
              "        vertical-align: middle;\n",
              "    }\n",
              "\n",
              "    .dataframe tbody tr th {\n",
              "        vertical-align: top;\n",
              "    }\n",
              "\n",
              "    .dataframe thead th {\n",
              "        text-align: right;\n",
              "    }\n",
              "</style>\n",
              "<table border=\"1\" class=\"dataframe\">\n",
              "  <thead>\n",
              "    <tr style=\"text-align: right;\">\n",
              "      <th></th>\n",
              "      <th>Request id</th>\n",
              "      <th>Pickup point</th>\n",
              "      <th>Driver id</th>\n",
              "      <th>Status</th>\n",
              "      <th>Request timestamp</th>\n",
              "      <th>Drop timestamp</th>\n",
              "      <th>Session</th>\n",
              "      <th>Availability</th>\n",
              "    </tr>\n",
              "  </thead>\n",
              "  <tbody>\n",
              "    <tr>\n",
              "      <th>0</th>\n",
              "      <td>619.0</td>\n",
              "      <td>Airport</td>\n",
              "      <td>1.0</td>\n",
              "      <td>Trip Completed</td>\n",
              "      <td>2016-11-07 11:51:00</td>\n",
              "      <td>2016-11-07 13:00:00</td>\n",
              "      <td>Morning</td>\n",
              "      <td>Available</td>\n",
              "    </tr>\n",
              "    <tr>\n",
              "      <th>1</th>\n",
              "      <td>867.0</td>\n",
              "      <td>Airport</td>\n",
              "      <td>1.0</td>\n",
              "      <td>Trip Completed</td>\n",
              "      <td>2016-11-07 17:57:00</td>\n",
              "      <td>2016-11-07 18:47:00</td>\n",
              "      <td>Afternoon</td>\n",
              "      <td>Available</td>\n",
              "    </tr>\n",
              "    <tr>\n",
              "      <th>2</th>\n",
              "      <td>1807.0</td>\n",
              "      <td>City</td>\n",
              "      <td>1.0</td>\n",
              "      <td>Trip Completed</td>\n",
              "      <td>2016-12-07 09:17:00</td>\n",
              "      <td>2016-12-07 09:58:00</td>\n",
              "      <td>Morning</td>\n",
              "      <td>Available</td>\n",
              "    </tr>\n",
              "    <tr>\n",
              "      <th>3</th>\n",
              "      <td>2532.0</td>\n",
              "      <td>Airport</td>\n",
              "      <td>1.0</td>\n",
              "      <td>Trip Completed</td>\n",
              "      <td>2016-12-07 21:08:00</td>\n",
              "      <td>2016-12-07 22:03:00</td>\n",
              "      <td>Evening</td>\n",
              "      <td>Available</td>\n",
              "    </tr>\n",
              "    <tr>\n",
              "      <th>4</th>\n",
              "      <td>3112.0</td>\n",
              "      <td>City</td>\n",
              "      <td>1.0</td>\n",
              "      <td>Trip Completed</td>\n",
              "      <td>2016-07-13 08:33:16</td>\n",
              "      <td>2016-07-13 09:25:47</td>\n",
              "      <td>Morning</td>\n",
              "      <td>Available</td>\n",
              "    </tr>\n",
              "  </tbody>\n",
              "</table>\n",
              "</div>"
            ],
            "text/plain": [
              "   Request id Pickup point  ...    Session Availability\n",
              "0       619.0      Airport  ...    Morning    Available\n",
              "1       867.0      Airport  ...  Afternoon    Available\n",
              "2      1807.0         City  ...    Morning    Available\n",
              "3      2532.0      Airport  ...    Evening    Available\n",
              "4      3112.0         City  ...    Morning    Available\n",
              "\n",
              "[5 rows x 8 columns]"
            ]
          },
          "metadata": {
            "tags": []
          },
          "execution_count": 15
        }
      ]
    },
    {
      "cell_type": "markdown",
      "metadata": {
        "id": "JgyQ0WUXIZWl",
        "colab_type": "text"
      },
      "source": [
        "## Datatypes Used"
      ]
    },
    {
      "cell_type": "code",
      "metadata": {
        "id": "pArQshPUERKJ",
        "colab_type": "code",
        "colab": {
          "base_uri": "https://localhost:8080/",
          "height": 254
        },
        "outputId": "97d895a0-6c57-4cdd-e6bc-1c9aa9c1b776"
      },
      "source": [
        "df.info()"
      ],
      "execution_count": 16,
      "outputs": [
        {
          "output_type": "stream",
          "text": [
            "<class 'pandas.core.frame.DataFrame'>\n",
            "RangeIndex: 6745 entries, 0 to 6744\n",
            "Data columns (total 8 columns):\n",
            "Request id           6745 non-null float64\n",
            "Pickup point         6745 non-null object\n",
            "Driver id            4095 non-null float64\n",
            "Status               6745 non-null object\n",
            "Request timestamp    6745 non-null datetime64[ns]\n",
            "Drop timestamp       2831 non-null datetime64[ns]\n",
            "Session              6745 non-null object\n",
            "Availability         6745 non-null object\n",
            "dtypes: datetime64[ns](2), float64(2), object(4)\n",
            "memory usage: 421.6+ KB\n"
          ],
          "name": "stdout"
        }
      ]
    },
    {
      "cell_type": "markdown",
      "metadata": {
        "id": "nUZWuYUzImGo",
        "colab_type": "text"
      },
      "source": [
        "#### It is visible from the above analysis that there are 2 type of float type columns , 2 datetime type columns and also 2 object type columns"
      ]
    },
    {
      "cell_type": "code",
      "metadata": {
        "id": "Cwv7qRWu_Fc8",
        "colab_type": "code",
        "colab": {
          "base_uri": "https://localhost:8080/",
          "height": 181
        },
        "outputId": "b3d9d782-ddba-419a-d8d6-78e6762679e9"
      },
      "source": [
        "#To check the number of unique values in each columns of dataset\n",
        "df.apply( lambda x: len(x.unique()))"
      ],
      "execution_count": 17,
      "outputs": [
        {
          "output_type": "execute_result",
          "data": {
            "text/plain": [
              "Request id           6745\n",
              "Pickup point            2\n",
              "Driver id             301\n",
              "Status                  3\n",
              "Request timestamp    6029\n",
              "Drop timestamp       2599\n",
              "Session                 4\n",
              "Availability            2\n",
              "dtype: int64"
            ]
          },
          "metadata": {
            "tags": []
          },
          "execution_count": 17
        }
      ]
    },
    {
      "cell_type": "markdown",
      "metadata": {
        "id": "cmk9NR63I9Tm",
        "colab_type": "text"
      },
      "source": [
        "#### Here we can see that there are 3 type of status value and 2 type of Pickpoint Value."
      ]
    },
    {
      "cell_type": "markdown",
      "metadata": {
        "id": "FjtuxuLRJIf7",
        "colab_type": "text"
      },
      "source": [
        "## Univariate Analysis"
      ]
    },
    {
      "cell_type": "markdown",
      "metadata": {
        "id": "gMfHAGWmJMIm",
        "colab_type": "text"
      },
      "source": [
        "### 1. Pickup Point"
      ]
    },
    {
      "cell_type": "code",
      "metadata": {
        "id": "XgC1ArHTI7fs",
        "colab_type": "code",
        "colab": {
          "base_uri": "https://localhost:8080/",
          "height": 108
        },
        "outputId": "c6b3c947-bb5f-4cfe-d11a-bdc5436747b3"
      },
      "source": [
        "df['Pickup point'].describe()"
      ],
      "execution_count": 18,
      "outputs": [
        {
          "output_type": "execute_result",
          "data": {
            "text/plain": [
              "count     6745\n",
              "unique       2\n",
              "top       City\n",
              "freq      3507\n",
              "Name: Pickup point, dtype: object"
            ]
          },
          "metadata": {
            "tags": []
          },
          "execution_count": 18
        }
      ]
    },
    {
      "cell_type": "markdown",
      "metadata": {
        "id": "GYEja2OaJaKu",
        "colab_type": "text"
      },
      "source": [
        "#### Here we can see that there are maximum pickup points are from City."
      ]
    },
    {
      "cell_type": "code",
      "metadata": {
        "id": "jKWuWN-HJXIE",
        "colab_type": "code",
        "colab": {
          "base_uri": "https://localhost:8080/",
          "height": 90
        },
        "outputId": "b1c715f0-5c01-4df7-b5a8-92025e38b900"
      },
      "source": [
        "df1=df.groupby('Pickup point').size()\n",
        "df1"
      ],
      "execution_count": 19,
      "outputs": [
        {
          "output_type": "execute_result",
          "data": {
            "text/plain": [
              "Pickup point\n",
              "Airport    3238\n",
              "City       3507\n",
              "dtype: int64"
            ]
          },
          "metadata": {
            "tags": []
          },
          "execution_count": 19
        }
      ]
    },
    {
      "cell_type": "markdown",
      "metadata": {
        "id": "6cZ-r-zHJs5P",
        "colab_type": "text"
      },
      "source": [
        "#### There are 3238 times from which the Pickup point is Airport whereas  there are 3507 times from which the Pickup point is Airport ."
      ]
    },
    {
      "cell_type": "code",
      "metadata": {
        "id": "RFWAlJJ2JolY",
        "colab_type": "code",
        "colab": {
          "base_uri": "https://localhost:8080/",
          "height": 314
        },
        "outputId": "5fb14b3a-a373-4f17-ab00-6ee55c6f2245"
      },
      "source": [
        "k=sns.countplot(df['Pickup point'])\n",
        "k.set_title('Pickup point')"
      ],
      "execution_count": 20,
      "outputs": [
        {
          "output_type": "execute_result",
          "data": {
            "text/plain": [
              "Text(0.5, 1.0, 'Pickup point')"
            ]
          },
          "metadata": {
            "tags": []
          },
          "execution_count": 20
        },
        {
          "output_type": "display_data",
          "data": {
            "image/png": "[encoded data removed]",
            "text/plain": [
              "<Figure size 432x288 with 1 Axes>"
            ]
          },
          "metadata": {
            "tags": []
          }
        }
      ]
    },
    {
      "cell_type": "markdown",
      "metadata": {
        "id": "RRS1jy4xKLGE",
        "colab_type": "text"
      },
      "source": [
        "#### The Pickup point are nearly equal to each other according to the graph"
      ]
    },
    {
      "cell_type": "code",
      "metadata": {
        "id": "NfK7GKZbJ-o4",
        "colab_type": "code",
        "colab": {
          "base_uri": "https://localhost:8080/",
          "height": 365
        },
        "outputId": "9ffaae54-320a-4b08-9729-9d601889a654"
      },
      "source": [
        "pie(df1,labels=df1.index,autopct='%1.1f%%')"
      ],
      "execution_count": 21,
      "outputs": [
        {
          "output_type": "execute_result",
          "data": {
            "text/plain": [
              "([<matplotlib.patches.Wedge at 0x7f433c520ba8>,\n",
              "  <matplotlib.patches.Wedge at 0x7f433c5282e8>],\n",
              " [Text(0.06886506273679674, 1.0978422487471764, 'Airport'),\n",
              "  Text(-0.06886516552420652, -1.097842242299559, 'City')],\n",
              " [Text(0.03756276149279821, 0.5988230447711871, '48.0%'),\n",
              "  Text(-0.0375628175586581, -0.5988230412543049, '52.0%')])"
            ]
          },
          "metadata": {
            "tags": []
          },
          "execution_count": 21
        },
        {
          "output_type": "display_data",
          "data": {
            "image/png": "[encoded data removed]",
            "text/plain": [
              "<Figure size 432x288 with 1 Axes>"
            ]
          },
          "metadata": {
            "tags": []
          }
        }
      ]
    },
    {
      "cell_type": "markdown",
      "metadata": {
        "id": "gRS3eYqIK8Sq",
        "colab_type": "text"
      },
      "source": [
        "#### From the above graph it is visible that 52 % times the pickup point is City whereas 48 % time the pickup point is Airport."
      ]
    },
    {
      "cell_type": "markdown",
      "metadata": {
        "id": "pw5Isi1OLW3V",
        "colab_type": "text"
      },
      "source": [
        "### Status"
      ]
    },
    {
      "cell_type": "code",
      "metadata": {
        "id": "gsc9M3BRLWjq",
        "colab_type": "code",
        "colab": {
          "base_uri": "https://localhost:8080/",
          "height": 108
        },
        "outputId": "92eefedd-e508-40e8-a560-7b7c0ecce065"
      },
      "source": [
        "df['Status'].describe()\n"
      ],
      "execution_count": 22,
      "outputs": [
        {
          "output_type": "execute_result",
          "data": {
            "text/plain": [
              "count               6745\n",
              "unique                 3\n",
              "top       Trip Completed\n",
              "freq                2831\n",
              "Name: Status, dtype: object"
            ]
          },
          "metadata": {
            "tags": []
          },
          "execution_count": 22
        }
      ]
    },
    {
      "cell_type": "markdown",
      "metadata": {
        "id": "xiDp82tILoVS",
        "colab_type": "text"
      },
      "source": [
        "#### It is visible from the above analysis that mostly the Trip has completed that is 2831 times."
      ]
    },
    {
      "cell_type": "code",
      "metadata": {
        "id": "1IFtnHgFMqrq",
        "colab_type": "code",
        "colab": {
          "base_uri": "https://localhost:8080/",
          "height": 108
        },
        "outputId": "e253fc78-2ba9-47ec-c8a3-87a132ebf1c1"
      },
      "source": [
        "df2=df.groupby('Status').size()\n",
        "df2"
      ],
      "execution_count": 23,
      "outputs": [
        {
          "output_type": "execute_result",
          "data": {
            "text/plain": [
              "Status\n",
              "Cancelled            1264\n",
              "No Cars Available    2650\n",
              "Trip Completed       2831\n",
              "dtype: int64"
            ]
          },
          "metadata": {
            "tags": []
          },
          "execution_count": 23
        }
      ]
    },
    {
      "cell_type": "markdown",
      "metadata": {
        "id": "k5Tx5xaqMswP",
        "colab_type": "text"
      },
      "source": [
        "#### There are 1264 times the Request from costumer has been Cancelled  whereas 2650 times there are No cars available whereas 2831 times , the trip has been completed"
      ]
    },
    {
      "cell_type": "code",
      "metadata": {
        "id": "qwDB507NKax_",
        "colab_type": "code",
        "colab": {
          "base_uri": "https://localhost:8080/",
          "height": 302
        },
        "outputId": "65d3137a-7342-4a21-b5a0-ae1114ea8d80"
      },
      "source": [
        "sns.countplot(df['Status'])"
      ],
      "execution_count": 24,
      "outputs": [
        {
          "output_type": "execute_result",
          "data": {
            "text/plain": [
              "<matplotlib.axes._subplots.AxesSubplot at 0x7f433c535940>"
            ]
          },
          "metadata": {
            "tags": []
          },
          "execution_count": 24
        },
        {
          "output_type": "display_data",
          "data": {
            "image/png": "[encoded data removed]",
            "text/plain": [
              "<Figure size 432x288 with 1 Axes>"
            ]
          },
          "metadata": {
            "tags": []
          }
        }
      ]
    },
    {
      "cell_type": "markdown",
      "metadata": {
        "id": "7i0ASDL5L09K",
        "colab_type": "text"
      },
      "source": [
        "#### Here it can be seen that the trips completed and No cars Available has the maximum frequency."
      ]
    },
    {
      "cell_type": "code",
      "metadata": {
        "id": "wQfR2XypLyo2",
        "colab_type": "code",
        "colab": {
          "base_uri": "https://localhost:8080/",
          "height": 419
        },
        "outputId": "cda796bf-2367-42b9-be82-84f7df101234"
      },
      "source": [
        "pie(df2,labels=df2.index,autopct='%1.1f%%')"
      ],
      "execution_count": 25,
      "outputs": [
        {
          "output_type": "execute_result",
          "data": {
            "text/plain": [
              "([<matplotlib.patches.Wedge at 0x7f433c437978>,\n",
              "  <matplotlib.patches.Wedge at 0x7f433c4400f0>,\n",
              "  <matplotlib.patches.Wedge at 0x7f433c4407f0>],\n",
              " [Text(0.9148122117335421, 0.6108343615606322, 'Cancelled'),\n",
              "  Text(-0.8197978372292601, 0.7334381405914392, 'No Cars Available'),\n",
              "  Text(0.27450168572516787, -1.0651989600699212, 'Trip Completed')],\n",
              " [Text(0.49898847912738653, 0.3331823790330721, '18.7%'),\n",
              "  Text(-0.44716245667050547, 0.40005716759533044, '39.3%'),\n",
              "  Text(0.1497281922137279, -0.5810176145835932, '42.0%')])"
            ]
          },
          "metadata": {
            "tags": []
          },
          "execution_count": 25
        },
        {
          "output_type": "display_data",
          "data": {
            "image/png": "[encoded data removed]",
            "text/plain": [
              "<Figure size 432x288 with 1 Axes>"
            ]
          },
          "metadata": {
            "tags": []
          }
        }
      ]
    },
    {
      "cell_type": "markdown",
      "metadata": {
        "id": "V6ekusD_NSKn",
        "colab_type": "text"
      },
      "source": [
        "#### So from the above analysis it is visible that 39.3 % times when the user putted a car request there were no cars available whereas 18.7 % times the trip was cancelled whereas 42 % times the trip was completed from the total request."
      ]
    },
    {
      "cell_type": "markdown",
      "metadata": {
        "id": "HT4pxohpRR1T",
        "colab_type": "text"
      },
      "source": [
        "## Session"
      ]
    },
    {
      "cell_type": "code",
      "metadata": {
        "id": "sc_3_seJMje2",
        "colab_type": "code",
        "colab": {
          "base_uri": "https://localhost:8080/",
          "height": 108
        },
        "outputId": "e03a71c6-4300-42da-83df-d256d1660ff4"
      },
      "source": [
        "df['Session'].describe()"
      ],
      "execution_count": 26,
      "outputs": [
        {
          "output_type": "execute_result",
          "data": {
            "text/plain": [
              "count        6745\n",
              "unique          4\n",
              "top       Evening\n",
              "freq         2422\n",
              "Name: Session, dtype: object"
            ]
          },
          "metadata": {
            "tags": []
          },
          "execution_count": 26
        }
      ]
    },
    {
      "cell_type": "markdown",
      "metadata": {
        "id": "OW4XCUItRX-l",
        "colab_type": "text"
      },
      "source": [
        "#### Here it is visible that the maximum time the Request has been made in Evening times that is 2422 times"
      ]
    },
    {
      "cell_type": "code",
      "metadata": {
        "id": "hMPLd1bTRXse",
        "colab_type": "code",
        "colab": {
          "base_uri": "https://localhost:8080/",
          "height": 126
        },
        "outputId": "94b4797d-4861-4716-a684-28cc02a75780"
      },
      "source": [
        "df3=df.groupby('Session').size()\n",
        "df3"
      ],
      "execution_count": 27,
      "outputs": [
        {
          "output_type": "execute_result",
          "data": {
            "text/plain": [
              "Session\n",
              "Afternoon    1228\n",
              "Evening      2422\n",
              "Morning      2072\n",
              "Night        1023\n",
              "dtype: int64"
            ]
          },
          "metadata": {
            "tags": []
          },
          "execution_count": 27
        }
      ]
    },
    {
      "cell_type": "markdown",
      "metadata": {
        "id": "G4ybQMhCR26v",
        "colab_type": "text"
      },
      "source": [
        "#### Here we can see the distribution of the requests made according to the sessions as we can see that maximum times the request is made on Evening that is 2422 times whereas on night the requests are made minimum times that is 1023 times."
      ]
    },
    {
      "cell_type": "code",
      "metadata": {
        "id": "po0gJ-lzRWVa",
        "colab_type": "code",
        "colab": {
          "base_uri": "https://localhost:8080/",
          "height": 302
        },
        "outputId": "76aa0368-b679-4313-949d-a02acd641bd0"
      },
      "source": [
        "sns.countplot(df['Session'])"
      ],
      "execution_count": 28,
      "outputs": [
        {
          "output_type": "execute_result",
          "data": {
            "text/plain": [
              "<matplotlib.axes._subplots.AxesSubplot at 0x7f433c44ad30>"
            ]
          },
          "metadata": {
            "tags": []
          },
          "execution_count": 28
        },
        {
          "output_type": "display_data",
          "data": {
            "image/png": "[encoded data removed]",
            "text/plain": [
              "<Figure size 432x288 with 1 Axes>"
            ]
          },
          "metadata": {
            "tags": []
          }
        }
      ]
    },
    {
      "cell_type": "markdown",
      "metadata": {
        "id": "tW1riFeDSqAR",
        "colab_type": "text"
      },
      "source": [
        "#### From here we can see the visualiztion on the column session also"
      ]
    },
    {
      "cell_type": "code",
      "metadata": {
        "id": "xRImvvHxSn6F",
        "colab_type": "code",
        "colab": {
          "base_uri": "https://localhost:8080/",
          "height": 474
        },
        "outputId": "b38f958a-27f4-4db0-c0e9-30b92517f2f3"
      },
      "source": [
        "pie(df3,labels=df3.index,autopct='%1.1f%%')"
      ],
      "execution_count": 29,
      "outputs": [
        {
          "output_type": "execute_result",
          "data": {
            "text/plain": [
              "([<matplotlib.patches.Wedge at 0x7f4339b51208>,\n",
              "  <matplotlib.patches.Wedge at 0x7f4339b51940>,\n",
              "  <matplotlib.patches.Wedge at 0x7f4339b5a080>,\n",
              "  <matplotlib.patches.Wedge at 0x7f4339b5a780>],\n",
              " [Text(0.9249253418358186, 0.5954100368904561, 'Afternoon'),\n",
              "  Text(-0.7096577400126294, 0.8404676626974815, 'Evening'),\n",
              "  Text(-0.3743225163513971, -1.034351320273899, 'Morning'),\n",
              "  Text(0.977476988688673, -0.5045183213562455, 'Night')],\n",
              " [Text(0.5045047319104464, 0.32476911103115785, '18.2%'),\n",
              "  Text(-0.3870860400068887, 0.45843690692589895, '35.9%'),\n",
              "  Text(-0.20417591800985296, -0.5641916292403085, '30.7%'),\n",
              "  Text(0.533169266557458, -0.2751918116488612, '15.2%')])"
            ]
          },
          "metadata": {
            "tags": []
          },
          "execution_count": 29
        },
        {
          "output_type": "display_data",
          "data": {
            "image/png": "[encoded data removed]",
            "text/plain": [
              "<Figure size 432x288 with 1 Axes>"
            ]
          },
          "metadata": {
            "tags": []
          }
        }
      ]
    },
    {
      "cell_type": "markdown",
      "metadata": {
        "id": "LvWiw4mLTJp_",
        "colab_type": "text"
      },
      "source": [
        "#### From the above visualization, we can see that 35.9% of requests are made on Evening whereas 30.7% of requests made on Morning . "
      ]
    },
    {
      "cell_type": "markdown",
      "metadata": {
        "id": "tfkwQ5_DTqR5",
        "colab_type": "text"
      },
      "source": [
        "### Availability"
      ]
    },
    {
      "cell_type": "code",
      "metadata": {
        "id": "UPzF9_l4TBBU",
        "colab_type": "code",
        "colab": {
          "base_uri": "https://localhost:8080/",
          "height": 108
        },
        "outputId": "68eda8cc-f0f1-4d98-da5c-b1be3db1992a"
      },
      "source": [
        "df['Availability'].describe()"
      ],
      "execution_count": 30,
      "outputs": [
        {
          "output_type": "execute_result",
          "data": {
            "text/plain": [
              "count          6745\n",
              "unique            2\n",
              "top       Available\n",
              "freq           4095\n",
              "Name: Availability, dtype: object"
            ]
          },
          "metadata": {
            "tags": []
          },
          "execution_count": 30
        }
      ]
    },
    {
      "cell_type": "markdown",
      "metadata": {
        "id": "FcocjV1rT7EK",
        "colab_type": "text"
      },
      "source": [
        "#### Here it can be noted that about 4095 times the cars are available."
      ]
    },
    {
      "cell_type": "code",
      "metadata": {
        "id": "0CQQ_vmkT51d",
        "colab_type": "code",
        "colab": {
          "base_uri": "https://localhost:8080/",
          "height": 90
        },
        "outputId": "1ed1f128-7194-4424-e55f-af2ac7db3079"
      },
      "source": [
        "df4=df.groupby('Availability').size()\n",
        "df4"
      ],
      "execution_count": 37,
      "outputs": [
        {
          "output_type": "execute_result",
          "data": {
            "text/plain": [
              "Availability\n",
              "Available        4095\n",
              "Not Available    2650\n",
              "dtype: int64"
            ]
          },
          "metadata": {
            "tags": []
          },
          "execution_count": 37
        }
      ]
    },
    {
      "cell_type": "markdown",
      "metadata": {
        "id": "BhAp57_GUO-F",
        "colab_type": "text"
      },
      "source": [
        "#### In the above analysis we can see the above distribution that the number of times the cars were available are more than they are not available."
      ]
    },
    {
      "cell_type": "code",
      "metadata": {
        "id": "Dmiaq-z5UIea",
        "colab_type": "code",
        "colab": {
          "base_uri": "https://localhost:8080/",
          "height": 302
        },
        "outputId": "0b95ba02-e88c-43b2-d9f8-aca3aa974e0e"
      },
      "source": [
        "sns.countplot(df['Availability'])"
      ],
      "execution_count": 41,
      "outputs": [
        {
          "output_type": "execute_result",
          "data": {
            "text/plain": [
              "<matplotlib.axes._subplots.AxesSubplot at 0x7f43396d9940>"
            ]
          },
          "metadata": {
            "tags": []
          },
          "execution_count": 41
        },
        {
          "output_type": "display_data",
          "data": {
            "image/png": "[encoded data removed]",
            "text/plain": [
              "<Figure size 432x288 with 1 Axes>"
            ]
          },
          "metadata": {
            "tags": []
          }
        }
      ]
    },
    {
      "cell_type": "markdown",
      "metadata": {
        "id": "6BbkYblW2lHQ",
        "colab_type": "text"
      },
      "source": [
        "#### Here we can see that number of available cars at the time of request are more than the number of car not availabe at that time."
      ]
    },
    {
      "cell_type": "code",
      "metadata": {
        "id": "1YnbLVP31zrE",
        "colab_type": "code",
        "colab": {
          "base_uri": "https://localhost:8080/",
          "height": 365
        },
        "outputId": "0fd86b83-e4fd-4339-d28e-0672934b0812"
      },
      "source": [
        "pie(df4,labels=df4.index,autopct='%1.1f%%')"
      ],
      "execution_count": 43,
      "outputs": [
        {
          "output_type": "execute_result",
          "data": {
            "text/plain": [
              "([<matplotlib.patches.Wedge at 0x7f433c40ba58>,\n",
              "  <matplotlib.patches.Wedge at 0x7f43397db5c0>],\n",
              " [Text(-0.36322067218241233, 1.0383018555792707, 'Available'),\n",
              "  Text(0.3632207693952466, -1.0383018215720925, 'Not Available')],\n",
              " [Text(-0.19812036664495217, 0.5663464666796022, '60.7%'),\n",
              "  Text(0.1981204196701345, -0.5663464481302322, '39.3%')])"
            ]
          },
          "metadata": {
            "tags": []
          },
          "execution_count": 43
        },
        {
          "output_type": "display_data",
          "data": {
            "image/png": "[encoded data removed]",
            "text/plain": [
              "<Figure size 432x288 with 1 Axes>"
            ]
          },
          "metadata": {
            "tags": []
          }
        }
      ]
    },
    {
      "cell_type": "markdown",
      "metadata": {
        "id": "dWXWHhbD3UW1",
        "colab_type": "text"
      },
      "source": [
        "#### Accorrding to the above graph we can say that 60.7% times the cars are available and 39.3 % times the cars are not available"
      ]
    },
    {
      "cell_type": "markdown",
      "metadata": {
        "id": "nt3NH_mm673h",
        "colab_type": "text"
      },
      "source": [
        "## Identifying the Problems"
      ]
    },
    {
      "cell_type": "code",
      "metadata": {
        "id": "7jllJPrC63J3",
        "colab_type": "code",
        "colab": {}
      },
      "source": [
        ""
      ],
      "execution_count": 0,
      "outputs": []
    }
  ]
}